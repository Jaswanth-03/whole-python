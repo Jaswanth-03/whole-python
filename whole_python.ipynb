{
  "nbformat": 4,
  "nbformat_minor": 0,
  "metadata": {
    "colab": {
      "provenance": [],
      "authorship_tag": "ABX9TyMifYjFgRvSzjK0N95XoO8o",
      "include_colab_link": true
    },
    "kernelspec": {
      "name": "python3",
      "display_name": "Python 3"
    },
    "language_info": {
      "name": "python"
    }
  },
  "cells": [
    {
      "cell_type": "markdown",
      "metadata": {
        "id": "view-in-github",
        "colab_type": "text"
      },
      "source": [
        "<a href=\"https://colab.research.google.com/github/Jaswanth-03/whole-python/blob/main/whole_python.ipynb\" target=\"_parent\"><img src=\"https://colab.research.google.com/assets/colab-badge.svg\" alt=\"Open In Colab\"/></a>"
      ]
    },
    {
      "cell_type": "code",
      "source": [],
      "metadata": {
        "id": "_81lYM8B_hHt"
      },
      "execution_count": null,
      "outputs": []
    },
    {
      "cell_type": "markdown",
      "source": [
        "# Introduction and Basics of Python"
      ],
      "metadata": {
        "id": "UFGbQIyhZh90"
      }
    },
    {
      "cell_type": "code",
      "execution_count": null,
      "metadata": {
        "id": "ZzAxMzYCmI3s",
        "colab": {
          "base_uri": "https://localhost:8080/"
        },
        "outputId": "41df842f-55f2-416d-dec4-99b8481be082"
      },
      "outputs": [
        {
          "output_type": "stream",
          "name": "stdout",
          "text": [
            "Hello, World!\n",
            "Name: Alice\n",
            "Age: 30\n",
            "Height: 5.8\n",
            "Is a student? True\n"
          ]
        }
      ],
      "source": [
        "# Hello World\n",
        "print(\"Hello, World!\")\n",
        "\n",
        "# Variables and Data Types\n",
        "name = \"Alice\"\n",
        "age = 30\n",
        "height = 5.8\n",
        "is_student = True\n",
        "\n",
        "# Printing Variables\n",
        "print(\"Name:\", name)\n",
        "print(\"Age:\", age)\n",
        "print(\"Height:\", height)\n",
        "print(\"Is a student?\", is_student)\n"
      ]
    },
    {
      "cell_type": "code",
      "source": [
        "# Numbers\n",
        "num1 = 42\n",
        "num2 = 3.14\n",
        "\n",
        "# Strings\n",
        "string1 = \"Hello, \"\n",
        "string2 = \"World!\"\n",
        "\n",
        "# Lists\n",
        "fruits = [\"apple\", \"banana\", \"cherry\"]\n",
        "\n",
        "# Tuples\n",
        "coordinates = (3, 4)\n",
        "\n",
        "# Dictionaries\n",
        "person = {\"name\": \"Bob\", \"age\": 25}\n"
      ],
      "metadata": {
        "id": "KU8QhWwNQRI5"
      },
      "execution_count": null,
      "outputs": []
    },
    {
      "cell_type": "code",
      "source": [
        "# If-else statement\n",
        "x = 10\n",
        "if x > 5:\n",
        "    print(\"x is greater than 5\")\n",
        "else:\n",
        "    print(\"x is not greater than 5\")\n",
        "\n",
        "# Loops\n",
        "for fruit in fruits:\n",
        "    print(fruit)\n",
        "\n",
        "# While loop\n",
        "count = 0\n",
        "while count < 5:\n",
        "    print(count)\n",
        "    count += 1\n"
      ],
      "metadata": {
        "colab": {
          "base_uri": "https://localhost:8080/"
        },
        "id": "bngoTof2QTnX",
        "outputId": "323bf46c-efc8-4574-995e-073e0da24515"
      },
      "execution_count": null,
      "outputs": [
        {
          "output_type": "stream",
          "name": "stdout",
          "text": [
            "x is greater than 5\n",
            "apple\n",
            "banana\n",
            "cherry\n",
            "0\n",
            "1\n",
            "2\n",
            "3\n",
            "4\n"
          ]
        }
      ]
    },
    {
      "cell_type": "code",
      "source": [
        "# Defining a function\n",
        "def greet(name):\n",
        "    return \"Hello, \" + name\n",
        "\n",
        "# Calling a function\n",
        "message = greet(\"Alice\")\n",
        "print(message)\n",
        "\n",
        "# Function with default argument\n",
        "def power(x, n=2):\n",
        "    return x ** n\n",
        "\n",
        "result = power(3)\n",
        "print(\"Default power:\", result)\n"
      ],
      "metadata": {
        "colab": {
          "base_uri": "https://localhost:8080/"
        },
        "id": "ryweNrGGQc9D",
        "outputId": "d7920579-966e-44c6-d2d7-e4eb508a359c"
      },
      "execution_count": null,
      "outputs": [
        {
          "output_type": "stream",
          "name": "stdout",
          "text": [
            "Hello, Alice\n",
            "Default power: 9\n"
          ]
        }
      ]
    },
    {
      "cell_type": "code",
      "source": [
        "# User input\n",
        "user_input = input(\"Enter your name: \")\n",
        "print(\"Hello, \" + user_input)\n",
        "\n",
        "# File I/O\n",
        "file = open(\"example.txt\", \"w\")\n",
        "file.write(\"This is a sample text.\")\n",
        "file.close()\n",
        "\n",
        "file = open(\"example.txt\", \"r\")\n",
        "contents = file.read()\n",
        "print(\"File contents:\", contents)\n",
        "file.close()\n"
      ],
      "metadata": {
        "colab": {
          "base_uri": "https://localhost:8080/"
        },
        "id": "ZLbYmvTtQweJ",
        "outputId": "a0b82a2d-e92f-4d95-d8ac-caf20eb7ac9f"
      },
      "execution_count": null,
      "outputs": [
        {
          "output_type": "stream",
          "name": "stdout",
          "text": [
            "Enter your name: 1\n",
            "Hello, 1\n",
            "File contents: This is a sample text.\n"
          ]
        }
      ]
    },
    {
      "cell_type": "code",
      "source": [
        "# Try-except block\n",
        "try:\n",
        "    result = 10 / 0\n",
        "except ZeroDivisionError:\n",
        "    print(\"Division by zero is not allowed\")\n"
      ],
      "metadata": {
        "colab": {
          "base_uri": "https://localhost:8080/"
        },
        "id": "BbYZ6WbOQ6sJ",
        "outputId": "59949485-a679-4259-8776-f090cc5ef8b4"
      },
      "execution_count": null,
      "outputs": [
        {
          "output_type": "stream",
          "name": "stdout",
          "text": [
            "Division by zero is not allowed\n"
          ]
        }
      ]
    },
    {
      "cell_type": "code",
      "source": [
        "# Importing modules\n",
        "import math\n",
        "print(\"Square root of 16:\", math.sqrt(16))\n",
        "\n",
        "# Creating your own module\n",
        "# mymodule.py\n",
        "# def say_hello():\n",
        "#     print(\"Hello from mymodule!\")\n",
        "\n",
        "# main.py\n",
        "# import mymodule\n",
        "# mymodule.say_hello()\n"
      ],
      "metadata": {
        "colab": {
          "base_uri": "https://localhost:8080/"
        },
        "id": "FD0b1HHtRK4o",
        "outputId": "e82c1b5a-6b74-45e0-9d2f-bc7a0c42a034"
      },
      "execution_count": null,
      "outputs": [
        {
          "output_type": "stream",
          "name": "stdout",
          "text": [
            "Square root of 16: 4.0\n"
          ]
        }
      ]
    },
    {
      "cell_type": "markdown",
      "source": [
        "#  python Operators"
      ],
      "metadata": {
        "id": "h1xjTPSTZun7"
      }
    },
    {
      "cell_type": "code",
      "source": [
        "a = 10\n",
        "b = 5\n",
        "\n",
        "# Addition\n",
        "sum = a + b\n",
        "print(\"Addition:\", sum)\n",
        "\n",
        "# Subtraction\n",
        "difference = a - b\n",
        "print(\"Subtraction:\", difference)\n",
        "\n",
        "# Multiplication\n",
        "product = a * b\n",
        "print(\"Multiplication:\", product)\n",
        "\n",
        "# Division\n",
        "quotient = a / b\n",
        "print(\"Division:\", quotient)\n",
        "\n",
        "# Floor Division (integer division)\n",
        "floor_result = a // b\n",
        "print(\"Floor Division:\", floor_result)\n",
        "\n",
        "# Modulus (remainder)\n",
        "remainder = a % b\n",
        "print(\"Modulus:\", remainder)\n",
        "\n",
        "# Exponentiation\n",
        "exponent = a ** b\n",
        "print(\"Exponentiation:\", exponent)\n"
      ],
      "metadata": {
        "colab": {
          "base_uri": "https://localhost:8080/"
        },
        "id": "KkL1qYylRZ8K",
        "outputId": "8a79bf43-fe2a-4196-8145-239da51d099c"
      },
      "execution_count": null,
      "outputs": [
        {
          "output_type": "stream",
          "name": "stdout",
          "text": [
            "Addition: 15\n",
            "Subtraction: 5\n",
            "Multiplication: 50\n",
            "Division: 2.0\n",
            "Floor Division: 2\n",
            "Modulus: 0\n",
            "Exponentiation: 100000\n"
          ]
        }
      ]
    },
    {
      "cell_type": "code",
      "source": [
        "x = 10\n",
        "y = 5\n",
        "\n",
        "# Equal to\n",
        "is_equal = x == y\n",
        "print(\"Equal to:\", is_equal)\n",
        "\n",
        "# Not equal to\n",
        "not_equal = x != y\n",
        "print(\"Not equal to:\", not_equal)\n",
        "\n",
        "# Greater than\n",
        "greater_than = x > y\n",
        "print(\"Greater than:\", greater_than)\n",
        "\n",
        "# Less than\n",
        "less_than = x < y\n",
        "print(\"Less than:\", less_than)\n",
        "\n",
        "# Greater than or equal to\n",
        "greater_or_equal = x >= y\n",
        "print(\"Greater than or equal to:\", greater_or_equal)\n",
        "\n",
        "# Less than or equal to\n",
        "less_or_equal = x <= y\n",
        "print(\"Less than or equal to:\", less_or_equal)\n"
      ],
      "metadata": {
        "colab": {
          "base_uri": "https://localhost:8080/"
        },
        "id": "8hO_KCQrRy9e",
        "outputId": "bffc079d-6bf7-4d48-9db0-38e614bb3af1"
      },
      "execution_count": null,
      "outputs": [
        {
          "output_type": "stream",
          "name": "stdout",
          "text": [
            "Equal to: False\n",
            "Not equal to: True\n",
            "Greater than: True\n",
            "Less than: False\n",
            "Greater than or equal to: True\n",
            "Less than or equal to: False\n"
          ]
        }
      ]
    },
    {
      "cell_type": "code",
      "source": [
        "p = True\n",
        "q = False\n",
        "\n",
        "# Logical AND\n",
        "logical_and = p and q\n",
        "print(\"Logical AND:\", logical_and)\n",
        "\n",
        "# Logical OR\n",
        "logical_or = p or q\n",
        "print(\"Logical OR:\", logical_or)\n",
        "\n",
        "# Logical NOT\n",
        "logical_not = not p\n",
        "print(\"Logical NOT:\", logical_not)\n"
      ],
      "metadata": {
        "colab": {
          "base_uri": "https://localhost:8080/"
        },
        "id": "XUNk9XS5TKHW",
        "outputId": "0ea3afc6-1300-4912-e76f-c2adde55557a"
      },
      "execution_count": null,
      "outputs": [
        {
          "output_type": "stream",
          "name": "stdout",
          "text": [
            "Logical AND: False\n",
            "Logical OR: True\n",
            "Logical NOT: False\n"
          ]
        }
      ]
    },
    {
      "cell_type": "code",
      "source": [
        "x = 10\n",
        "y = 5\n",
        "\n",
        "# Simple assignment\n",
        "a = x\n",
        "print(\"Simple assignment:\", a)\n",
        "\n",
        "# Addition assignment\n",
        "x += y  # Equivalent to: x = x + y\n",
        "print(\"Addition assignment:\", x)\n",
        "\n",
        "# Subtraction assignment\n",
        "x -= y  # Equivalent to: x = x - y\n",
        "print(\"Subtraction assignment:\", x)\n",
        "\n",
        "# Multiplication assignment\n",
        "x *= y  # Equivalent to: x = x * y\n",
        "print(\"Multiplication assignment:\", x)\n",
        "\n",
        "# Division assignment\n",
        "x /= y  # Equivalent to: x = x / y\n",
        "print(\"Division assignment:\", x)\n",
        "\n",
        "# Modulus assignment\n",
        "x %= y  # Equivalent to: x = x % y\n",
        "print(\"Modulus assignment:\", x)\n",
        "\n",
        "# Exponentiation assignment\n",
        "x **= y  # Equivalent to: x = x ** y\n",
        "print(\"Exponentiation assignment:\", x)\n"
      ],
      "metadata": {
        "colab": {
          "base_uri": "https://localhost:8080/"
        },
        "id": "nYwOM5cwTglj",
        "outputId": "f2d437ba-c46c-42ef-f936-dd74a7366db1"
      },
      "execution_count": null,
      "outputs": [
        {
          "output_type": "stream",
          "name": "stdout",
          "text": [
            "Simple assignment: 10\n",
            "Addition assignment: 15\n",
            "Subtraction assignment: 10\n",
            "Multiplication assignment: 50\n",
            "Division assignment: 10.0\n",
            "Modulus assignment: 0.0\n",
            "Exponentiation assignment: 0.0\n"
          ]
        }
      ]
    },
    {
      "cell_type": "code",
      "source": [
        "a = 10\n",
        "b = 5\n",
        "\n",
        "# Power operator with fractions\n",
        "fractional_power = a ** 0.5  # Square root of 'a'\n",
        "print(\"Square root of a:\", fractional_power)\n",
        "\n",
        "# Using parentheses for operator precedence\n",
        "result = (a + b) * (a - b)\n",
        "print(\"Result of (a + b) * (a - b):\", result)\n"
      ],
      "metadata": {
        "colab": {
          "base_uri": "https://localhost:8080/"
        },
        "id": "lZY8SV0GTloJ",
        "outputId": "862b2593-8702-4eeb-8ee1-1445a7765bdf"
      },
      "execution_count": null,
      "outputs": [
        {
          "output_type": "stream",
          "name": "stdout",
          "text": [
            "Square root of a: 3.1622776601683795\n",
            "Result of (a + b) * (a - b): 75\n"
          ]
        }
      ]
    },
    {
      "cell_type": "code",
      "source": [
        "x = 10\n",
        "y = 5\n",
        "z = 5\n",
        "\n",
        "# Chaining comparison operators\n",
        "is_between = x > y >= z\n",
        "print(\"Is x between y and z?\", is_between)\n",
        "\n",
        "# Comparing strings\n",
        "string1 = \"apple\"\n",
        "string2 = \"banana\"\n",
        "is_greater = string1 > string2\n",
        "print(\"Is string1 greater than string2?\", is_greater)\n"
      ],
      "metadata": {
        "colab": {
          "base_uri": "https://localhost:8080/"
        },
        "id": "JlHxl7V5UD9A",
        "outputId": "cb1a165f-ef19-4711-cbaa-6e02acbff5b9"
      },
      "execution_count": null,
      "outputs": [
        {
          "output_type": "stream",
          "name": "stdout",
          "text": [
            "Is x between y and z? True\n",
            "Is string1 greater than string2? False\n"
          ]
        }
      ]
    },
    {
      "cell_type": "code",
      "source": [
        "p = True\n",
        "q = False\n",
        "r = True\n",
        "\n",
        "# Combining logical operators\n",
        "logical_combination = p and (q or r)\n",
        "print(\"Logical combination result:\", logical_combination)\n",
        "\n",
        "# Using logical operators to check conditions\n",
        "age = 25\n",
        "is_student = True\n",
        "is_eligible = age < 30 and is_student\n",
        "print(\"Is eligible for student discount?\", is_eligible)\n"
      ],
      "metadata": {
        "colab": {
          "base_uri": "https://localhost:8080/"
        },
        "id": "RoLIccr-UUdO",
        "outputId": "ec0b2564-969a-4b43-c21a-372753f162e7"
      },
      "execution_count": null,
      "outputs": [
        {
          "output_type": "stream",
          "name": "stdout",
          "text": [
            "Logical combination result: True\n",
            "Is eligible for student discount? True\n"
          ]
        }
      ]
    },
    {
      "cell_type": "code",
      "source": [
        "x = 10\n",
        "y = 5\n",
        "\n",
        "# Using assignment operators with complex expressions\n",
        "x = x + (2 * y) - (x % y)\n",
        "print(\"Updated x using complex expression:\", x)\n",
        "\n",
        "# Multiple assignments in a single line\n",
        "x, y = 5, 10\n",
        "print(\"x =\", x, \"y =\", y)\n"
      ],
      "metadata": {
        "colab": {
          "base_uri": "https://localhost:8080/"
        },
        "id": "ffAXX7SAUmpC",
        "outputId": "58d49d87-d98f-4269-9977-85d62d5deb2d"
      },
      "execution_count": null,
      "outputs": [
        {
          "output_type": "stream",
          "name": "stdout",
          "text": [
            "Updated x using complex expression: 20\n",
            "x = 5 y = 10\n"
          ]
        }
      ]
    },
    {
      "cell_type": "code",
      "source": [
        "a = 5\n",
        "b = 3\n",
        "\n",
        "# Using bitwise operators in binary\n",
        "binary_and = a & b\n",
        "binary_or = a | b\n",
        "binary_xor = a ^ b\n",
        "binary_not = ~a\n",
        "\n",
        "print(\"Binary AND:\", bin(binary_and))\n",
        "print(\"Binary OR:\", bin(binary_or))\n",
        "print(\"Binary XOR:\", bin(binary_xor))\n",
        "print(\"Binary NOT:\", bin(binary_not))\n"
      ],
      "metadata": {
        "colab": {
          "base_uri": "https://localhost:8080/"
        },
        "id": "xK8R0eSOUxBb",
        "outputId": "24dfff17-f6a6-4bee-d1de-601058b2d4b1"
      },
      "execution_count": null,
      "outputs": [
        {
          "output_type": "stream",
          "name": "stdout",
          "text": [
            "Binary AND: 0b1\n",
            "Binary OR: 0b111\n",
            "Binary XOR: 0b110\n",
            "Binary NOT: -0b110\n"
          ]
        }
      ]
    },
    {
      "cell_type": "markdown",
      "source": [
        "# Conditional Statements"
      ],
      "metadata": {
        "id": "tNumVNpHZ9wj"
      }
    },
    {
      "cell_type": "code",
      "source": [
        "age = 20\n",
        "\n",
        "if age >= 18:\n",
        "    print(\"You are an adult.\")\n",
        "else:\n",
        "    print(\"You are not an adult.\")\n"
      ],
      "metadata": {
        "colab": {
          "base_uri": "https://localhost:8080/"
        },
        "id": "8Vl5qIWbU6kb",
        "outputId": "2c4bdcf3-42cc-4932-dcec-1dc6404c5573"
      },
      "execution_count": null,
      "outputs": [
        {
          "output_type": "stream",
          "name": "stdout",
          "text": [
            "You are an adult.\n"
          ]
        }
      ]
    },
    {
      "cell_type": "code",
      "source": [
        "grade = 85\n",
        "\n",
        "if grade >= 90:\n",
        "    print(\"A\")\n",
        "elif grade >= 80:\n",
        "    print(\"B\")\n",
        "elif grade >= 70:\n",
        "    print(\"C\")\n",
        "else:\n",
        "    print(\"D\")\n"
      ],
      "metadata": {
        "colab": {
          "base_uri": "https://localhost:8080/"
        },
        "id": "lxACn4aEVXvp",
        "outputId": "16e352f3-efb8-4231-ad57-4c740d8eaaa1"
      },
      "execution_count": null,
      "outputs": [
        {
          "output_type": "stream",
          "name": "stdout",
          "text": [
            "B\n"
          ]
        }
      ]
    },
    {
      "cell_type": "code",
      "source": [
        "is_weekend = True\n",
        "is_sunny = False\n",
        "\n",
        "if is_weekend:\n",
        "    if is_sunny:\n",
        "        print(\"Go for a picnic!\")\n",
        "    else:\n",
        "        print(\"Relax at home.\")\n",
        "else:\n",
        "    print(\"It's a workday.\")\n"
      ],
      "metadata": {
        "colab": {
          "base_uri": "https://localhost:8080/"
        },
        "id": "Wde4j93kVclf",
        "outputId": "ee3195ec-c712-45b7-da71-f225e5e239b1"
      },
      "execution_count": null,
      "outputs": [
        {
          "output_type": "stream",
          "name": "stdout",
          "text": [
            "Relax at home.\n"
          ]
        }
      ]
    },
    {
      "cell_type": "code",
      "source": [
        "x = 10\n",
        "y = 20\n",
        "max_value = x if x > y else y\n",
        "print(\"Maximum value:\", max_value)\n"
      ],
      "metadata": {
        "colab": {
          "base_uri": "https://localhost:8080/"
        },
        "id": "mnP-5ZR9VnxH",
        "outputId": "44f8fdcf-e80c-4086-d134-2a6705cb2df3"
      },
      "execution_count": null,
      "outputs": [
        {
          "output_type": "stream",
          "name": "stdout",
          "text": [
            "Maximum value: 20\n"
          ]
        }
      ]
    },
    {
      "cell_type": "code",
      "source": [
        "is_sunny = True\n",
        "is_warm = True\n",
        "\n",
        "if is_sunny and is_warm:\n",
        "    print(\"It's a perfect day for the beach!\")\n",
        "elif is_sunny or is_warm:\n",
        "    print(\"It's a good day for outdoor activities.\")\n",
        "else:\n",
        "    print(\"Stay indoors and relax.\")\n"
      ],
      "metadata": {
        "colab": {
          "base_uri": "https://localhost:8080/"
        },
        "id": "CYcQ2fFtVveS",
        "outputId": "7451e83a-1c9c-4d90-e5c6-4939bdcc113d"
      },
      "execution_count": null,
      "outputs": [
        {
          "output_type": "stream",
          "name": "stdout",
          "text": [
            "It's a perfect day for the beach!\n"
          ]
        }
      ]
    },
    {
      "cell_type": "code",
      "source": [
        "fruits = [\"apple\", \"banana\", \"cherry\"]\n",
        "\n",
        "if \"banana\" in fruits:\n",
        "    print(\"Banana is in the list of fruits.\")\n",
        "else:\n",
        "    print(\"Banana is not in the list.\")\n"
      ],
      "metadata": {
        "colab": {
          "base_uri": "https://localhost:8080/"
        },
        "id": "ZAhsgt4JV_JG",
        "outputId": "84dad266-f047-4178-9a0d-f7b13d20ff4d"
      },
      "execution_count": null,
      "outputs": [
        {
          "output_type": "stream",
          "name": "stdout",
          "text": [
            "Banana is in the list of fruits.\n"
          ]
        }
      ]
    },
    {
      "cell_type": "code",
      "source": [
        "for i in range(5):\n",
        "    if i == 3:\n",
        "        pass  # Do nothing\n",
        "    elif i == 2:\n",
        "        break  # Exit the loop\n",
        "    else:\n",
        "        print(\"Iteration:\", i)\n"
      ],
      "metadata": {
        "colab": {
          "base_uri": "https://localhost:8080/"
        },
        "id": "IPqAN_-oWC5u",
        "outputId": "806c61c6-a35a-4ebb-c9c7-ee246f571702"
      },
      "execution_count": null,
      "outputs": [
        {
          "output_type": "stream",
          "name": "stdout",
          "text": [
            "Iteration: 0\n",
            "Iteration: 1\n"
          ]
        }
      ]
    },
    {
      "cell_type": "code",
      "source": [
        "grade = 75\n",
        "\n",
        "if 70 <= grade < 80:\n",
        "    print(\"Grade is in the 70s\")\n"
      ],
      "metadata": {
        "colab": {
          "base_uri": "https://localhost:8080/"
        },
        "id": "wdK-5UIFWIo6",
        "outputId": "19094d17-1a57-428c-d901-2d80b9ec2eff"
      },
      "execution_count": null,
      "outputs": [
        {
          "output_type": "stream",
          "name": "stdout",
          "text": [
            "Grade is in the 70s\n"
          ]
        }
      ]
    },
    {
      "cell_type": "code",
      "source": [
        "is_raining = True\n",
        "has_umbrella = True\n",
        "is_wet = True\n",
        "\n",
        "if is_raining and not has_umbrella:\n",
        "    print(\"You'll get wet.\")\n",
        "elif is_raining and has_umbrella and is_wet:\n",
        "    print(\"Your umbrella isn't helping.\")\n",
        "else:\n",
        "    print(\"You're good to go.\")\n"
      ],
      "metadata": {
        "colab": {
          "base_uri": "https://localhost:8080/"
        },
        "id": "Yqb2j6lfWxgK",
        "outputId": "3106e655-3e70-46c1-f75b-218962845931"
      },
      "execution_count": null,
      "outputs": [
        {
          "output_type": "stream",
          "name": "stdout",
          "text": [
            "Your umbrella isn't helping.\n"
          ]
        }
      ]
    },
    {
      "cell_type": "code",
      "source": [
        "is_sunny = True\n",
        "output = \"It's a nice day\" if is_sunny else \"It's not sunny today\"\n",
        "print(output)\n"
      ],
      "metadata": {
        "colab": {
          "base_uri": "https://localhost:8080/"
        },
        "id": "rgz6-vNcW0-2",
        "outputId": "a41c765b-e28c-4812-e1ee-56cfc2e3b61e"
      },
      "execution_count": null,
      "outputs": [
        {
          "output_type": "stream",
          "name": "stdout",
          "text": [
            "It's a nice day\n"
          ]
        }
      ]
    },
    {
      "cell_type": "code",
      "source": [
        "day = \"Tuesday\"\n",
        "\n",
        "actions = {\n",
        "    \"Monday\": \"Start the week strong!\",\n",
        "    \"Tuesday\": \"Keep the momentum going.\",\n",
        "    \"Friday\": \"Weekend is almost here!\",\n",
        "}\n",
        "\n",
        "action = actions.get(day, \"Enjoy your day!\")\n",
        "print(action)\n"
      ],
      "metadata": {
        "colab": {
          "base_uri": "https://localhost:8080/"
        },
        "id": "9HAB_m59XEFS",
        "outputId": "0884328d-46e8-4bb8-a4fb-0da021289019"
      },
      "execution_count": null,
      "outputs": [
        {
          "output_type": "stream",
          "name": "stdout",
          "text": [
            "Keep the momentum going.\n"
          ]
        }
      ]
    },
    {
      "cell_type": "code",
      "source": [
        "age = 25\n",
        "income = 45000\n",
        "\n",
        "if age >= 18:\n",
        "    if age < 25 and income < 50000:\n",
        "        print(\"Young and low income\")\n",
        "    elif age < 25 and income >= 50000:\n",
        "        print(\"Young and decent income\")\n",
        "    else:\n",
        "        print(\"Not so young\")\n",
        "else:\n",
        "    print(\"You are not an adult.\")\n"
      ],
      "metadata": {
        "colab": {
          "base_uri": "https://localhost:8080/"
        },
        "id": "5ZO_-lKkXGgN",
        "outputId": "8add404b-bc7b-4845-8746-f527d962694f"
      },
      "execution_count": null,
      "outputs": [
        {
          "output_type": "stream",
          "name": "stdout",
          "text": [
            "Not so young\n"
          ]
        }
      ]
    },
    {
      "cell_type": "code",
      "source": [
        "for i in range(5):\n",
        "    for j in range(5):\n",
        "        if i == j:\n",
        "            print(\"i and j are equal:\", i)\n"
      ],
      "metadata": {
        "colab": {
          "base_uri": "https://localhost:8080/"
        },
        "id": "5PY_X6WaXMI1",
        "outputId": "9fcdda7a-9dfc-41a5-b81f-07cc7567910e"
      },
      "execution_count": null,
      "outputs": [
        {
          "output_type": "stream",
          "name": "stdout",
          "text": [
            "i and j are equal: 0\n",
            "i and j are equal: 1\n",
            "i and j are equal: 2\n",
            "i and j are equal: 3\n",
            "i and j are equal: 4\n"
          ]
        }
      ]
    },
    {
      "cell_type": "code",
      "source": [
        "fruits = [\"apple\", \"banana\", \"cherry\"]\n",
        "\n",
        "for fruit in fruits:\n",
        "    if fruit == \"kiwi\":\n",
        "        print(\"Kiwi found!\")\n",
        "        break\n",
        "else:\n",
        "    print(\"Kiwi not found in the list.\")\n"
      ],
      "metadata": {
        "colab": {
          "base_uri": "https://localhost:8080/"
        },
        "id": "-QZ5TPCEXUUm",
        "outputId": "9a3d7022-1b69-48a8-b650-0918e4619336"
      },
      "execution_count": null,
      "outputs": [
        {
          "output_type": "stream",
          "name": "stdout",
          "text": [
            "Kiwi not found in the list.\n"
          ]
        }
      ]
    },
    {
      "cell_type": "markdown",
      "source": [
        "# Compound Operators\n",
        "● Membership Operators\n",
        "● Identity Operators"
      ],
      "metadata": {
        "id": "FDrxeIUDaOjX"
      }
    },
    {
      "cell_type": "code",
      "source": [
        "x = 5\n",
        "\n",
        "# Compound operators\n",
        "x += 3  # Equivalent to x = x + 3\n",
        "print(\"x after += 3:\", x)\n",
        "\n",
        "x **= 2  # Equivalent to x = x ** 2\n",
        "print(\"x after **= 2:\", x)\n"
      ],
      "metadata": {
        "colab": {
          "base_uri": "https://localhost:8080/"
        },
        "id": "fy3X71AuXX6k",
        "outputId": "0ace269e-6cb6-4353-bef8-f31ee72c988d"
      },
      "execution_count": null,
      "outputs": [
        {
          "output_type": "stream",
          "name": "stdout",
          "text": [
            "x after += 3: 8\n",
            "x after **= 2: 64\n"
          ]
        }
      ]
    },
    {
      "cell_type": "code",
      "source": [
        "fruits = [\"apple\", \"banana\", \"cherry\"]\n",
        "\n",
        "# Check if \"banana\" is in the list\n",
        "if \"banana\" in fruits:\n",
        "    print(\"Banana is in the list.\")\n",
        "\n",
        "# Check if \"grape\" is not in the list\n",
        "if \"grape\" not in fruits:\n",
        "    print(\"Grape is not in the list.\")\n"
      ],
      "metadata": {
        "colab": {
          "base_uri": "https://localhost:8080/"
        },
        "id": "pwFqF645YVXE",
        "outputId": "d1715111-cd13-45ae-d70d-01db3ce64755"
      },
      "execution_count": null,
      "outputs": [
        {
          "output_type": "stream",
          "name": "stdout",
          "text": [
            "Banana is in the list.\n",
            "Grape is not in the list.\n"
          ]
        }
      ]
    },
    {
      "cell_type": "code",
      "source": [
        "x = [1, 2, 3]\n",
        "y = x  # y references the same object as x\n",
        "\n",
        "# Check if x and y reference the same object\n",
        "if x is y:\n",
        "    print(\"x and y reference the same object.\")\n",
        "\n",
        "z = [1, 2, 3]  # z is a different object with the same values\n",
        "\n",
        "# Check if x and z reference different objects\n",
        "if x is not z:\n",
        "    print(\"x and z reference different objects.\")\n"
      ],
      "metadata": {
        "colab": {
          "base_uri": "https://localhost:8080/"
        },
        "id": "14Nvl8v6YbPl",
        "outputId": "2c94d301-219b-48dd-ea5f-fbd82c70f8b9"
      },
      "execution_count": null,
      "outputs": [
        {
          "output_type": "stream",
          "name": "stdout",
          "text": [
            "x and y reference the same object.\n",
            "x and z reference different objects.\n"
          ]
        }
      ]
    },
    {
      "cell_type": "markdown",
      "source": [
        "# \"● While loop logic building\n",
        "● Series based Questions\n",
        "● Break\n",
        "● Continue\n",
        "● Nested While Loops\n",
        "● Pattern-Based Questions\n",
        "● pass\n",
        "● Loop else"
      ],
      "metadata": {
        "id": "PHRFZN0paXDd"
      }
    },
    {
      "cell_type": "code",
      "source": [
        "count = 0\n",
        "while count < 5:\n",
        "    print(\"Count:\", count)\n",
        "    count += 1\n"
      ],
      "metadata": {
        "colab": {
          "base_uri": "https://localhost:8080/"
        },
        "id": "fYbPY2bNYeGV",
        "outputId": "08016cc5-6bda-4abb-ed48-076000a7d57e"
      },
      "execution_count": null,
      "outputs": [
        {
          "output_type": "stream",
          "name": "stdout",
          "text": [
            "Count: 0\n",
            "Count: 1\n",
            "Count: 2\n",
            "Count: 3\n",
            "Count: 4\n"
          ]
        }
      ]
    },
    {
      "cell_type": "code",
      "source": [
        "start = 1\n",
        "end = 10\n",
        "\n",
        "while start <= end:\n",
        "    print(start)\n",
        "    start += 1\n"
      ],
      "metadata": {
        "colab": {
          "base_uri": "https://localhost:8080/"
        },
        "id": "RR53eZtvZGzK",
        "outputId": "7658c589-d76d-4d21-d501-e12c8bf8d55e"
      },
      "execution_count": null,
      "outputs": [
        {
          "output_type": "stream",
          "name": "stdout",
          "text": [
            "1\n",
            "2\n",
            "3\n",
            "4\n",
            "5\n",
            "6\n",
            "7\n",
            "8\n",
            "9\n",
            "10\n"
          ]
        }
      ]
    },
    {
      "cell_type": "markdown",
      "source": [
        "# fibonacci series"
      ],
      "metadata": {
        "id": "uXPwv_hCZTzj"
      }
    },
    {
      "cell_type": "code",
      "source": [
        "a, b = 0, 1\n",
        "while a < 100:\n",
        "    print(a, end=\" \")\n",
        "    a, b = b, a + b\n"
      ],
      "metadata": {
        "colab": {
          "base_uri": "https://localhost:8080/"
        },
        "id": "PZXOH7pTZKpF",
        "outputId": "39fe582c-0ced-44a2-cc33-6a8094a85f89"
      },
      "execution_count": null,
      "outputs": [
        {
          "output_type": "stream",
          "name": "stdout",
          "text": [
            "0 1 1 2 3 5 8 13 21 34 55 89 "
          ]
        }
      ]
    },
    {
      "cell_type": "code",
      "source": [
        "count = 0\n",
        "while True:\n",
        "    if count >= 5:\n",
        "        break\n",
        "    print(\"Count:\", count)\n",
        "    count += 1\n"
      ],
      "metadata": {
        "colab": {
          "base_uri": "https://localhost:8080/"
        },
        "id": "SmEHDyNuZOT5",
        "outputId": "f4c4494a-d946-458f-b75b-b4508fe7b176"
      },
      "execution_count": null,
      "outputs": [
        {
          "output_type": "stream",
          "name": "stdout",
          "text": [
            "Count: 0\n",
            "Count: 1\n",
            "Count: 2\n",
            "Count: 3\n",
            "Count: 4\n"
          ]
        }
      ]
    },
    {
      "cell_type": "code",
      "source": [
        "for i in range(3):\n",
        "    for j in range(3):\n",
        "        if i == 1 and j == 1:\n",
        "            break  # Breaks the inner loop\n",
        "        print(i, j)\n"
      ],
      "metadata": {
        "colab": {
          "base_uri": "https://localhost:8080/"
        },
        "id": "kFEuvDEAZpif",
        "outputId": "d9148c21-02b5-431d-eaf6-f349b4d452ae"
      },
      "execution_count": null,
      "outputs": [
        {
          "output_type": "stream",
          "name": "stdout",
          "text": [
            "0 0\n",
            "0 1\n",
            "0 2\n",
            "1 0\n",
            "2 0\n",
            "2 1\n",
            "2 2\n"
          ]
        }
      ]
    },
    {
      "cell_type": "code",
      "source": [
        "count = 0\n",
        "while count < 5:\n",
        "    count += 1\n",
        "    if count == 3:\n",
        "        continue\n",
        "    print(\"Count:\", count)\n"
      ],
      "metadata": {
        "colab": {
          "base_uri": "https://localhost:8080/"
        },
        "id": "-Wwrc2UmZvxD",
        "outputId": "ff95342d-bcd7-49a4-a871-ae5a85dc0771"
      },
      "execution_count": null,
      "outputs": [
        {
          "output_type": "stream",
          "name": "stdout",
          "text": [
            "Count: 1\n",
            "Count: 2\n",
            "Count: 4\n",
            "Count: 5\n"
          ]
        }
      ]
    },
    {
      "cell_type": "code",
      "source": [
        "for i in range(3):\n",
        "    for j in range(3):\n",
        "        if i == 1 and j == 1:\n",
        "            continue  # Skips the rest of the inner loop\n",
        "        print(i, j)\n"
      ],
      "metadata": {
        "colab": {
          "base_uri": "https://localhost:8080/"
        },
        "id": "YFMOjgcXZ3Hz",
        "outputId": "953b4397-5cc4-4b43-a146-a48fa0da40a3"
      },
      "execution_count": null,
      "outputs": [
        {
          "output_type": "stream",
          "name": "stdout",
          "text": [
            "0 0\n",
            "0 1\n",
            "0 2\n",
            "1 0\n",
            "1 2\n",
            "2 0\n",
            "2 1\n",
            "2 2\n"
          ]
        }
      ]
    },
    {
      "cell_type": "code",
      "source": [
        "count = 0\n",
        "while count < 5:\n",
        "    print(\"Count:\", count)\n",
        "    count += 1\n",
        "else:\n",
        "    print(\"Loop completed.\")\n"
      ],
      "metadata": {
        "colab": {
          "base_uri": "https://localhost:8080/"
        },
        "id": "5ZV1a7PqaJQq",
        "outputId": "f1c33164-f408-4e4c-fa08-43d13ea7c341"
      },
      "execution_count": null,
      "outputs": [
        {
          "output_type": "stream",
          "name": "stdout",
          "text": [
            "Count: 0\n",
            "Count: 1\n",
            "Count: 2\n",
            "Count: 3\n",
            "Count: 4\n",
            "Loop completed.\n"
          ]
        }
      ]
    },
    {
      "cell_type": "markdown",
      "source": [
        "# List Basics\n",
        "● List Operations\n",
        "● List Comprehensions / Slicing\n",
        "● List Methods"
      ],
      "metadata": {
        "id": "RmYoneZLbGXU"
      }
    },
    {
      "cell_type": "code",
      "source": [
        "fruits = [\"apple\", \"banana\", \"cherry\"]\n",
        "print(fruits[0])  # Accessing the first element\n"
      ],
      "metadata": {
        "colab": {
          "base_uri": "https://localhost:8080/"
        },
        "id": "F6QmXtsDaTn9",
        "outputId": "394dbac8-9185-4aff-e8b5-8f9d4b65a046"
      },
      "execution_count": null,
      "outputs": [
        {
          "output_type": "stream",
          "name": "stdout",
          "text": [
            "apple\n"
          ]
        }
      ]
    },
    {
      "cell_type": "code",
      "source": [
        "fruits.append(\"date\")  # Add an element to the end\n",
        "fruits.remove(\"banana\")  # Remove a specific element\n",
        "fruits[1] = \"grape\"  # Update an element\n",
        "print(fruits)\n"
      ],
      "metadata": {
        "colab": {
          "base_uri": "https://localhost:8080/"
        },
        "id": "COJsZrDJazBZ",
        "outputId": "4c5613d8-97e4-425b-eddb-bfe2b589d268"
      },
      "execution_count": null,
      "outputs": [
        {
          "output_type": "stream",
          "name": "stdout",
          "text": [
            "['apple', 'grape', 'date']\n"
          ]
        }
      ]
    },
    {
      "cell_type": "code",
      "source": [
        "matrix = [[1, 2, 3], [4, 5, 6], [7, 8, 9]]\n",
        "print(matrix[1][2])  # Accessing an element in a 2D list\n"
      ],
      "metadata": {
        "colab": {
          "base_uri": "https://localhost:8080/"
        },
        "id": "Jgoog9ZVa7Xc",
        "outputId": "30bc2385-dff5-420c-b9b3-9b08e457de5e"
      },
      "execution_count": null,
      "outputs": [
        {
          "output_type": "stream",
          "name": "stdout",
          "text": [
            "6\n"
          ]
        }
      ]
    },
    {
      "cell_type": "code",
      "source": [
        "list1 = [1, 2, 3]\n",
        "list2 = [4, 5, 6]\n",
        "combined_list = list1 + list2  # Concatenation\n",
        "repeated_list = list1 * 3  # Repetition\n",
        "print(\"Concatenated List:\", combined_list)\n",
        "print(\"Repeated List:\", repeated_list)\n"
      ],
      "metadata": {
        "colab": {
          "base_uri": "https://localhost:8080/"
        },
        "id": "YkgOFFoobrYn",
        "outputId": "abdeca9f-f8e3-4ebc-a5ee-4a81bd3be903"
      },
      "execution_count": null,
      "outputs": [
        {
          "output_type": "stream",
          "name": "stdout",
          "text": [
            "Concatenated List: [1, 2, 3, 4, 5, 6]\n",
            "Repeated List: [1, 2, 3, 1, 2, 3, 1, 2, 3]\n"
          ]
        }
      ]
    },
    {
      "cell_type": "code",
      "source": [
        "numbers = [1, 2, 3, 4, 5]\n",
        "element_to_find = 3\n",
        "if element_to_find in numbers:\n",
        "    print(f\"{element_to_find} is in the list.\")\n",
        "list_length = len(numbers)\n",
        "print(\"List Length:\", list_length)\n"
      ],
      "metadata": {
        "colab": {
          "base_uri": "https://localhost:8080/"
        },
        "id": "rzFzoK7Jbuk-",
        "outputId": "86acf05a-5275-4505-e1ee-4a2cb8be7d50"
      },
      "execution_count": null,
      "outputs": [
        {
          "output_type": "stream",
          "name": "stdout",
          "text": [
            "3 is in the list.\n",
            "List Length: 5\n"
          ]
        }
      ]
    },
    {
      "cell_type": "code",
      "source": [
        "numbers = [3, 1, 4, 1, 5, 9, 2, 6, 5, 3, 5]\n",
        "numbers.sort()  # Sort in ascending order\n",
        "numbers.reverse()  # Reverse the list\n",
        "print(\"Sorted List:\", numbers)\n",
        "print(\"Reversed List:\", numbers)\n"
      ],
      "metadata": {
        "colab": {
          "base_uri": "https://localhost:8080/"
        },
        "id": "vTihGIJObyta",
        "outputId": "fb90604a-d47f-46aa-a010-acbeef984d0e"
      },
      "execution_count": null,
      "outputs": [
        {
          "output_type": "stream",
          "name": "stdout",
          "text": [
            "Sorted List: [9, 6, 5, 5, 5, 4, 3, 3, 2, 1, 1]\n",
            "Reversed List: [9, 6, 5, 5, 5, 4, 3, 3, 2, 1, 1]\n"
          ]
        }
      ]
    },
    {
      "cell_type": "code",
      "source": [
        "numbers = [1, 2, 3, 4, 5]\n",
        "squared_numbers = [x**2 for x in numbers]\n",
        "print(\"Squared Numbers:\", squared_numbers)\n"
      ],
      "metadata": {
        "colab": {
          "base_uri": "https://localhost:8080/"
        },
        "id": "jFIHTUc9b84N",
        "outputId": "773738bb-9d55-4125-915a-b8f003280f55"
      },
      "execution_count": null,
      "outputs": [
        {
          "output_type": "stream",
          "name": "stdout",
          "text": [
            "Squared Numbers: [1, 4, 9, 16, 25]\n"
          ]
        }
      ]
    },
    {
      "cell_type": "code",
      "source": [
        "fruits = [\"apple\", \"banana\", \"cherry\", \"date\"]\n",
        "sliced_fruits = fruits[1:3]  # Extract elements at index 1 and 2\n",
        "print(\"Sliced Fruits:\", sliced_fruits)\n"
      ],
      "metadata": {
        "colab": {
          "base_uri": "https://localhost:8080/"
        },
        "id": "giA4if_HcB2Q",
        "outputId": "e1917083-9ae0-4e5b-c34b-8f8803a713f4"
      },
      "execution_count": null,
      "outputs": [
        {
          "output_type": "stream",
          "name": "stdout",
          "text": [
            "Sliced Fruits: ['banana', 'cherry']\n"
          ]
        }
      ]
    },
    {
      "cell_type": "code",
      "source": [
        "numbers = [1, 2, 3, 4, 5, 6, 7, 8, 9, 10]\n",
        "even_squared = [x**2 for x in numbers if x % 2 == 0]\n",
        "print(\"Squared Even Numbers:\", even_squared)\n"
      ],
      "metadata": {
        "colab": {
          "base_uri": "https://localhost:8080/"
        },
        "id": "XpSu2TspcSkr",
        "outputId": "9ebc30be-6907-4442-ea12-dd91f150b242"
      },
      "execution_count": null,
      "outputs": [
        {
          "output_type": "stream",
          "name": "stdout",
          "text": [
            "Squared Even Numbers: [4, 16, 36, 64, 100]\n"
          ]
        }
      ]
    },
    {
      "cell_type": "code",
      "source": [
        "fruits = [\"apple\", \"banana\"]\n",
        "fruits.append(\"cherry\")  # Add an element to the end\n",
        "fruits.extend([\"date\", \"fig\"])  # Add multiple elements to the end\n",
        "fruits.insert(1, \"grape\")  # Insert an element at a specific index\n",
        "print(\"Updated Fruits:\", fruits)\n"
      ],
      "metadata": {
        "colab": {
          "base_uri": "https://localhost:8080/"
        },
        "id": "_tCqQmojcVOk",
        "outputId": "711acf83-cfce-4af4-b387-5708dc88451b"
      },
      "execution_count": null,
      "outputs": [
        {
          "output_type": "stream",
          "name": "stdout",
          "text": [
            "Updated Fruits: ['apple', 'grape', 'banana', 'cherry', 'date', 'fig']\n"
          ]
        }
      ]
    },
    {
      "cell_type": "code",
      "source": [
        "fruits.remove(\"banana\")  # Remove a specific element\n",
        "removed_element = fruits.pop(2)  # Remove and return the element at index 2\n",
        "count_apple = fruits.count(\"apple\")  # Count the occurrences of an element\n",
        "print(\"Removed Element:\", removed_element)\n",
        "print(\"Count of Apples:\", count_apple)\n"
      ],
      "metadata": {
        "colab": {
          "base_uri": "https://localhost:8080/"
        },
        "id": "egOoq8necgCv",
        "outputId": "e8a3c86d-d006-4939-8e2c-57748cdcd401"
      },
      "execution_count": null,
      "outputs": [
        {
          "output_type": "stream",
          "name": "stdout",
          "text": [
            "Removed Element: cherry\n",
            "Count of Apples: 1\n"
          ]
        }
      ]
    },
    {
      "cell_type": "code",
      "source": [
        "numbers = [3, 1, 4, 1, 5, 9, 2, 6, 5, 3, 5]\n",
        "numbers.sort()  # Sort the list in ascending order\n",
        "numbers.reverse()  # Reverse the list\n",
        "index_of_5 = numbers.index(5)  # Find the index of the first occurrence of 5\n",
        "print(\"Sorted Numbers:\", numbers)\n",
        "print(\"Reversed Numbers:\", numbers)\n",
        "print(\"Index of 5:\", index_of_5)\n"
      ],
      "metadata": {
        "colab": {
          "base_uri": "https://localhost:8080/"
        },
        "id": "06RvcvJPcnPq",
        "outputId": "c1890509-7440-4f94-ab2c-37e6ac92cf5a"
      },
      "execution_count": null,
      "outputs": [
        {
          "output_type": "stream",
          "name": "stdout",
          "text": [
            "Sorted Numbers: [9, 6, 5, 5, 5, 4, 3, 3, 2, 1, 1]\n",
            "Reversed Numbers: [9, 6, 5, 5, 5, 4, 3, 3, 2, 1, 1]\n",
            "Index of 5: 2\n"
          ]
        }
      ]
    },
    {
      "cell_type": "markdown",
      "source": [
        "# String Basics\n",
        "● String Literals\n",
        "● String Operations\n",
        "● String Comprehensions / Slicing\n",
        "● String Methods"
      ],
      "metadata": {
        "id": "AyG6qdBTbTLL"
      }
    },
    {
      "cell_type": "code",
      "source": [
        "message = \"Hello, World!\"\n",
        "print(message)\n"
      ],
      "metadata": {
        "id": "NkOXLfj7cyQZ",
        "colab": {
          "base_uri": "https://localhost:8080/"
        },
        "outputId": "9ba848b4-d208-466b-95f6-575140b13dfd"
      },
      "execution_count": null,
      "outputs": [
        {
          "output_type": "stream",
          "name": "stdout",
          "text": [
            "Hello, World!\n"
          ]
        }
      ]
    },
    {
      "cell_type": "code",
      "source": [
        "name = \"Alice\"\n",
        "greeting = \"Hello, \" + name + \"!\"\n",
        "formatted_greeting = f\"Hello, {name}!\"\n",
        "print(greeting)\n",
        "print(formatted_greeting)\n"
      ],
      "metadata": {
        "colab": {
          "base_uri": "https://localhost:8080/"
        },
        "id": "mLMu31zzBq3p",
        "outputId": "40ff8caf-7a17-4fa6-8115-553598fb14a8"
      },
      "execution_count": null,
      "outputs": [
        {
          "output_type": "stream",
          "name": "stdout",
          "text": [
            "Hello, Alice!\n",
            "Hello, Alice!\n"
          ]
        }
      ]
    },
    {
      "cell_type": "code",
      "source": [
        "multi_line = \"\"\"This is a\n",
        "multi-line\n",
        "string.\"\"\"\n",
        "escaped_character = \"She said, \\\"It's okay.\\\"\"\n",
        "print(multi_line)\n",
        "print(escaped_character)\n"
      ],
      "metadata": {
        "colab": {
          "base_uri": "https://localhost:8080/"
        },
        "id": "QursdDy2B4F9",
        "outputId": "d5bd44bd-5c07-4c39-9877-e5ca927aba47"
      },
      "execution_count": null,
      "outputs": [
        {
          "output_type": "stream",
          "name": "stdout",
          "text": [
            "This is a\n",
            "multi-line\n",
            "string.\n",
            "She said, \"It's okay.\"\n"
          ]
        }
      ]
    },
    {
      "cell_type": "code",
      "source": [
        "single_quoted = 'This is a single-quoted string.'\n",
        "double_quoted = \"This is a double-quoted string.\"\n"
      ],
      "metadata": {
        "id": "53PiAR9LCCII"
      },
      "execution_count": null,
      "outputs": []
    },
    {
      "cell_type": "code",
      "source": [
        "single_quoted\n"
      ],
      "metadata": {
        "colab": {
          "base_uri": "https://localhost:8080/",
          "height": 36
        },
        "id": "1vVzoxC1CK03",
        "outputId": "5b28a0c8-94d7-465c-c86d-36017e2dfc78"
      },
      "execution_count": null,
      "outputs": [
        {
          "output_type": "execute_result",
          "data": {
            "text/plain": [
              "'This is a single-quoted string.'"
            ],
            "application/vnd.google.colaboratory.intrinsic+json": {
              "type": "string"
            }
          },
          "metadata": {},
          "execution_count": 6
        }
      ]
    },
    {
      "cell_type": "code",
      "source": [
        "double_quoted"
      ],
      "metadata": {
        "colab": {
          "base_uri": "https://localhost:8080/",
          "height": 36
        },
        "id": "KHkPySu_CN9U",
        "outputId": "f6ca5420-020f-4a6b-f5b4-ecc06eb9e528"
      },
      "execution_count": null,
      "outputs": [
        {
          "output_type": "execute_result",
          "data": {
            "text/plain": [
              "'This is a double-quoted string.'"
            ],
            "application/vnd.google.colaboratory.intrinsic+json": {
              "type": "string"
            }
          },
          "metadata": {},
          "execution_count": 7
        }
      ]
    },
    {
      "cell_type": "code",
      "source": [
        "raw_string = r'C:\\Users\\Username\\Documents'\n"
      ],
      "metadata": {
        "id": "Cvr4TVueCRkB"
      },
      "execution_count": null,
      "outputs": []
    },
    {
      "cell_type": "code",
      "source": [
        "raw_string"
      ],
      "metadata": {
        "colab": {
          "base_uri": "https://localhost:8080/",
          "height": 36
        },
        "id": "Nz5gKXfFCoVg",
        "outputId": "46d2a78e-adc6-4749-d0c0-d7fc55384514"
      },
      "execution_count": null,
      "outputs": [
        {
          "output_type": "execute_result",
          "data": {
            "text/plain": [
              "'C:\\\\Users\\\\Username\\\\Documents'"
            ],
            "application/vnd.google.colaboratory.intrinsic+json": {
              "type": "string"
            }
          },
          "metadata": {},
          "execution_count": 9
        }
      ]
    },
    {
      "cell_type": "code",
      "source": [
        "str1 = \"Hello\"\n",
        "str2 = \"World\"\n",
        "concatenated = str1 + \", \" + str2\n",
        "repeated = str1 * 3\n"
      ],
      "metadata": {
        "id": "Y4TOS7_9CqEQ"
      },
      "execution_count": null,
      "outputs": []
    },
    {
      "cell_type": "code",
      "source": [
        "concatenated"
      ],
      "metadata": {
        "colab": {
          "base_uri": "https://localhost:8080/",
          "height": 36
        },
        "id": "nkEnX2fCCyd6",
        "outputId": "dd7ef5a2-a716-4a7a-b7ba-aca8e3d182c9"
      },
      "execution_count": null,
      "outputs": [
        {
          "output_type": "execute_result",
          "data": {
            "text/plain": [
              "'Hello, World'"
            ],
            "application/vnd.google.colaboratory.intrinsic+json": {
              "type": "string"
            }
          },
          "metadata": {},
          "execution_count": 11
        }
      ]
    },
    {
      "cell_type": "code",
      "source": [
        "repeated"
      ],
      "metadata": {
        "colab": {
          "base_uri": "https://localhost:8080/",
          "height": 36
        },
        "id": "iKXNmhItC07M",
        "outputId": "66d7bcc8-3e0a-4f8c-afa6-d5319d971188"
      },
      "execution_count": null,
      "outputs": [
        {
          "output_type": "execute_result",
          "data": {
            "text/plain": [
              "'HelloHelloHello'"
            ],
            "application/vnd.google.colaboratory.intrinsic+json": {
              "type": "string"
            }
          },
          "metadata": {},
          "execution_count": 12
        }
      ]
    },
    {
      "cell_type": "code",
      "source": [
        "text = \"Hello, World!\"\n",
        "length = len(text)\n",
        "contains_hello = \"Hello\" in text\n"
      ],
      "metadata": {
        "id": "IDPkiV8uC3MI"
      },
      "execution_count": null,
      "outputs": []
    },
    {
      "cell_type": "code",
      "source": [
        "length"
      ],
      "metadata": {
        "colab": {
          "base_uri": "https://localhost:8080/"
        },
        "id": "Lo6a8573C_Au",
        "outputId": "ced36b0b-1877-4dda-f6a1-b58a4fce4819"
      },
      "execution_count": null,
      "outputs": [
        {
          "output_type": "execute_result",
          "data": {
            "text/plain": [
              "13"
            ]
          },
          "metadata": {},
          "execution_count": 14
        }
      ]
    },
    {
      "cell_type": "code",
      "source": [
        "contains_hello"
      ],
      "metadata": {
        "colab": {
          "base_uri": "https://localhost:8080/"
        },
        "id": "S0TbyAtrDAxa",
        "outputId": "b5e8e144-11f5-44b5-df5b-3019083e7b45"
      },
      "execution_count": null,
      "outputs": [
        {
          "output_type": "execute_result",
          "data": {
            "text/plain": [
              "True"
            ]
          },
          "metadata": {},
          "execution_count": 15
        }
      ]
    },
    {
      "cell_type": "code",
      "source": [
        "text = \"   This is a sentence.   \"\n",
        "trimmed = text.strip()\n",
        "words = text.split()  # Split into a list of words\n",
        "joined = \"-\".join([\"apple\", \"banana\", \"cherry\"])\n"
      ],
      "metadata": {
        "id": "jyyODyILDCWY"
      },
      "execution_count": null,
      "outputs": []
    },
    {
      "cell_type": "code",
      "source": [
        "trimmed"
      ],
      "metadata": {
        "colab": {
          "base_uri": "https://localhost:8080/",
          "height": 36
        },
        "id": "hvzMotYDDG-2",
        "outputId": "db6310e7-9a49-497f-8d18-d9f8eb3e8e37"
      },
      "execution_count": null,
      "outputs": [
        {
          "output_type": "execute_result",
          "data": {
            "text/plain": [
              "'This is a sentence.'"
            ],
            "application/vnd.google.colaboratory.intrinsic+json": {
              "type": "string"
            }
          },
          "metadata": {},
          "execution_count": 17
        }
      ]
    },
    {
      "cell_type": "code",
      "source": [
        "words"
      ],
      "metadata": {
        "colab": {
          "base_uri": "https://localhost:8080/"
        },
        "id": "pFCgqPrhDI84",
        "outputId": "226f4ee3-758a-4506-97dc-c5bbfd685ad5"
      },
      "execution_count": null,
      "outputs": [
        {
          "output_type": "execute_result",
          "data": {
            "text/plain": [
              "['This', 'is', 'a', 'sentence.']"
            ]
          },
          "metadata": {},
          "execution_count": 18
        }
      ]
    },
    {
      "cell_type": "code",
      "source": [
        "joined"
      ],
      "metadata": {
        "colab": {
          "base_uri": "https://localhost:8080/",
          "height": 36
        },
        "id": "r7T5vvjUDKq3",
        "outputId": "6e602167-7961-4e16-db8f-ed3c9886f207"
      },
      "execution_count": null,
      "outputs": [
        {
          "output_type": "execute_result",
          "data": {
            "text/plain": [
              "'apple-banana-cherry'"
            ],
            "application/vnd.google.colaboratory.intrinsic+json": {
              "type": "string"
            }
          },
          "metadata": {},
          "execution_count": 19
        }
      ]
    },
    {
      "cell_type": "code",
      "source": [
        "text = \"Python\"\n",
        "first_character = text[0]\n",
        "substring = text[1:4]  # Slicing\n"
      ],
      "metadata": {
        "id": "fv-qs8LIDMB7"
      },
      "execution_count": null,
      "outputs": []
    },
    {
      "cell_type": "code",
      "source": [
        "text\n",
        "first_character\n",
        "substring\n"
      ],
      "metadata": {
        "colab": {
          "base_uri": "https://localhost:8080/",
          "height": 36
        },
        "id": "ASQzqG46DZk7",
        "outputId": "8e02f42e-68d5-477b-f580-5823e17c9148"
      },
      "execution_count": null,
      "outputs": [
        {
          "output_type": "execute_result",
          "data": {
            "text/plain": [
              "'yth'"
            ],
            "application/vnd.google.colaboratory.intrinsic+json": {
              "type": "string"
            }
          },
          "metadata": {},
          "execution_count": 21
        }
      ]
    },
    {
      "cell_type": "code",
      "source": [
        "reversed_text = text[::-1]\n",
        "letters = [letter for letter in text]\n",
        "print(\"Reversed Text:\", reversed_text)\n",
        "print(\"List of Letters:\", letters)\n"
      ],
      "metadata": {
        "colab": {
          "base_uri": "https://localhost:8080/"
        },
        "id": "ue_4rC3BDhjF",
        "outputId": "d90420db-fa06-40bd-8529-e617a51af964"
      },
      "execution_count": null,
      "outputs": [
        {
          "output_type": "stream",
          "name": "stdout",
          "text": [
            "Reversed Text: nohtyP\n",
            "List of Letters: ['P', 'y', 't', 'h', 'o', 'n']\n"
          ]
        }
      ]
    },
    {
      "cell_type": "code",
      "source": [
        "vowels = [char for char in text if char in \"aeiou\"]\n",
        "substring = text[1:5:2]  # Start, end, and step in slicing\n",
        "print(\"Vowels:\", vowels)\n",
        "print(\"Sliced Substring:\", substring)\n"
      ],
      "metadata": {
        "colab": {
          "base_uri": "https://localhost:8080/"
        },
        "id": "xIY7TleAD0kL",
        "outputId": "b65bfd33-1424-42c3-beca-237e67652bf5"
      },
      "execution_count": null,
      "outputs": [
        {
          "output_type": "stream",
          "name": "stdout",
          "text": [
            "Vowels: ['o']\n",
            "Sliced Substring: yh\n"
          ]
        }
      ]
    },
    {
      "cell_type": "code",
      "source": [
        "text = \"hello, world\"\n",
        "uppercase = text.upper()\n",
        "lowercase = text.lower()\n",
        "capitalized = text.capitalize()\n",
        "print(\"Uppercase Text:\", uppercase)\n",
        "print(\"Lowercase Text:\", lowercase)\n",
        "print(\"Capitalized Text:\", capitalized)\n"
      ],
      "metadata": {
        "colab": {
          "base_uri": "https://localhost:8080/"
        },
        "id": "OjQd43wMEZCQ",
        "outputId": "5fe4443a-f515-477e-d60f-af6832766886"
      },
      "execution_count": null,
      "outputs": [
        {
          "output_type": "stream",
          "name": "stdout",
          "text": [
            "Uppercase Text: HELLO, WORLD\n",
            "Lowercase Text: hello, world\n",
            "Capitalized Text: Hello, world\n"
          ]
        }
      ]
    },
    {
      "cell_type": "code",
      "source": [
        "text = \"The quick brown fox\"\n",
        "position = text.find(\"brown\")\n",
        "replaced = text.replace(\"brown\", \"red\")\n",
        "print(\"Position of 'brown':\", position)\n",
        "print(\"Replaced Text:\", replaced)\n"
      ],
      "metadata": {
        "colab": {
          "base_uri": "https://localhost:8080/"
        },
        "id": "PXqrrn9gEn48",
        "outputId": "9726ee37-37a3-43b0-d5aa-ac537766ddcb"
      },
      "execution_count": null,
      "outputs": [
        {
          "output_type": "stream",
          "name": "stdout",
          "text": [
            "Position of 'brown': 10\n",
            "Replaced Text: The quick red fox\n"
          ]
        }
      ]
    },
    {
      "cell_type": "code",
      "source": [
        "text = \"apple,banana,cherry\"\n",
        "split_items = text.split(\",\")  # Split into a list\n",
        "joined = \"-\".join([\"apple\", \"banana\", \"cherry\"])  # Join with a delimiter\n",
        "print(\"Split Items:\", split_items)\n",
        "print(\"Joined String:\", joined)\n"
      ],
      "metadata": {
        "colab": {
          "base_uri": "https://localhost:8080/"
        },
        "id": "kUo421Q2Euqy",
        "outputId": "fd1b005d-0f81-4424-9c5b-8f73b0412592"
      },
      "execution_count": null,
      "outputs": [
        {
          "output_type": "stream",
          "name": "stdout",
          "text": [
            "Split Items: ['apple', 'banana', 'cherry']\n",
            "Joined String: apple-banana-cherry\n"
          ]
        }
      ]
    },
    {
      "cell_type": "code",
      "source": [
        "text = \"123abc\"\n",
        "result = text.isalnum()\n",
        "# result will be True\n"
      ],
      "metadata": {
        "id": "tuq6rPGWE3Nr"
      },
      "execution_count": null,
      "outputs": []
    },
    {
      "cell_type": "code",
      "source": [
        "text = \"abc\"\n",
        "result = text.isalpha()\n",
        "# result will be True\n"
      ],
      "metadata": {
        "id": "nf2P2AIPGfY-"
      },
      "execution_count": null,
      "outputs": []
    },
    {
      "cell_type": "code",
      "source": [
        "text = \"12345\"\n",
        "result = text.isdigit()\n",
        "# result will be True\n"
      ],
      "metadata": {
        "id": "GtOE8D33GhrY"
      },
      "execution_count": null,
      "outputs": []
    },
    {
      "cell_type": "code",
      "source": [
        "text = \"hello\"\n",
        "result = text.islower()\n",
        "# result will be True\n"
      ],
      "metadata": {
        "id": "JmIKtKt2Gjtd"
      },
      "execution_count": null,
      "outputs": []
    },
    {
      "cell_type": "code",
      "source": [
        "text = \"HELLO\"\n",
        "result = text.isupper()\n",
        "# result will be True\n"
      ],
      "metadata": {
        "id": "fR3FGFSuGl7M"
      },
      "execution_count": null,
      "outputs": []
    },
    {
      "cell_type": "code",
      "source": [
        "text = \"apple, banana, cherry, banana\"\n",
        "count = text.count(\"banana\")\n",
        "# count will be 2\n"
      ],
      "metadata": {
        "id": "0jstjrhMGoEq"
      },
      "execution_count": null,
      "outputs": []
    },
    {
      "cell_type": "code",
      "source": [
        "text = \"Hello, World!\"\n",
        "starts_with_hello = text.startswith(\"Hello\")\n",
        "ends_with_exclamation = text.endswith(\"!\")\n",
        "# starts_with_hello will be True, ends_with_exclamation will be True\n"
      ],
      "metadata": {
        "id": "-FBpiBtRGrwn"
      },
      "execution_count": null,
      "outputs": []
    },
    {
      "cell_type": "code",
      "source": [
        "starts_with_hello"
      ],
      "metadata": {
        "colab": {
          "base_uri": "https://localhost:8080/"
        },
        "id": "bME26LiFGtpq",
        "outputId": "c53c9cc9-0f66-4b28-a662-9c633882149d"
      },
      "execution_count": null,
      "outputs": [
        {
          "output_type": "execute_result",
          "data": {
            "text/plain": [
              "True"
            ]
          },
          "metadata": {},
          "execution_count": 39
        }
      ]
    },
    {
      "cell_type": "code",
      "source": [
        "ends_with_exclamation\n"
      ],
      "metadata": {
        "colab": {
          "base_uri": "https://localhost:8080/"
        },
        "id": "b6YgKkCpGvlW",
        "outputId": "a29750e5-9073-4440-b12b-82bc0a51e216"
      },
      "execution_count": null,
      "outputs": [
        {
          "output_type": "execute_result",
          "data": {
            "text/plain": [
              "True"
            ]
          },
          "metadata": {},
          "execution_count": 41
        }
      ]
    },
    {
      "cell_type": "code",
      "source": [
        "text = \"Hello, World!\"\n",
        "new_text = text.replace(\"World\", \"Python\")\n",
        "# new_text will be \"Hello, Python!\"\n"
      ],
      "metadata": {
        "id": "Xv2FpXCPGw8U"
      },
      "execution_count": null,
      "outputs": []
    },
    {
      "cell_type": "code",
      "source": [
        "text = \"Hello, World!\"\n",
        "swapped_text = text.swapcase()\n",
        "# swapped_text will be \"hELLO, wORLD!\"\n"
      ],
      "metadata": {
        "id": "LFhCW9B7G4UT"
      },
      "execution_count": null,
      "outputs": []
    },
    {
      "cell_type": "code",
      "source": [
        "text = \"hello, world!\"\n",
        "title_case = text.title()\n",
        "# title_case will be \"Hello, World!\"\n"
      ],
      "metadata": {
        "id": "RkZywRbHG8QD"
      },
      "execution_count": null,
      "outputs": []
    },
    {
      "cell_type": "code",
      "source": [
        "title_case"
      ],
      "metadata": {
        "colab": {
          "base_uri": "https://localhost:8080/",
          "height": 36
        },
        "id": "7fzO9PdsG-mU",
        "outputId": "c56cc231-6765-4554-f71f-531f16b7fc09"
      },
      "execution_count": null,
      "outputs": [
        {
          "output_type": "execute_result",
          "data": {
            "text/plain": [
              "'Hello, World!'"
            ],
            "application/vnd.google.colaboratory.intrinsic+json": {
              "type": "string"
            }
          },
          "metadata": {},
          "execution_count": 45
        }
      ]
    },
    {
      "cell_type": "code",
      "source": [
        "text = \"Python\"\n",
        "centered_text = text.center(10, \"-\")\n",
        "# centered_text will be \"--Python--\"\n"
      ],
      "metadata": {
        "id": "7rhqhcXIHA6x"
      },
      "execution_count": null,
      "outputs": []
    },
    {
      "cell_type": "code",
      "source": [
        "text = \"Python\"\n",
        "left_justified = text.ljust(10, \"-\")\n",
        "right_justified = text.rjust(10, \"-\")\n",
        "# left_justified will be \"Python----\", right_justified will be \"----Python\"\n"
      ],
      "metadata": {
        "id": "B-8pGqAdHFQf"
      },
      "execution_count": null,
      "outputs": []
    },
    {
      "cell_type": "code",
      "source": [
        "text = \"12345\"\n",
        "result = text.isnumeric()\n",
        "# result will be True\n"
      ],
      "metadata": {
        "id": "gAOK3aNIHKgw"
      },
      "execution_count": null,
      "outputs": []
    },
    {
      "cell_type": "code",
      "source": [
        "text = \"    \"\n",
        "result = text.isspace()\n",
        "# result will be True\n"
      ],
      "metadata": {
        "id": "-lYFr2OIHPV1"
      },
      "execution_count": null,
      "outputs": []
    },
    {
      "cell_type": "code",
      "source": [
        "text = \"Hello, World!\"\n",
        "result = text.isprintable()\n",
        "# result will be True\n"
      ],
      "metadata": {
        "id": "CLD9FTpbHRHF"
      },
      "execution_count": null,
      "outputs": []
    },
    {
      "cell_type": "code",
      "source": [
        "text = \"apple, banana, apple, cherry\"\n",
        "count = text.count(\"apple\")\n",
        "print(\"Count of 'apple':\", count)\n"
      ],
      "metadata": {
        "colab": {
          "base_uri": "https://localhost:8080/"
        },
        "id": "bWQqxeAkHT7V",
        "outputId": "e0c181fc-fe28-4179-d458-fa3a01433c5d"
      },
      "execution_count": null,
      "outputs": [
        {
          "output_type": "stream",
          "name": "stdout",
          "text": [
            "Count of 'apple': 2\n"
          ]
        }
      ]
    },
    {
      "cell_type": "code",
      "source": [
        "text = \"Hello, World\"\n",
        "uppercase = text.upper()\n",
        "lowercase = text.lower()\n",
        "title_case = text.title()\n",
        "print(\"Uppercase:\", uppercase)\n",
        "print(\"Lowercase:\", lowercase)\n",
        "print(\"Title Case:\", title_case)\n"
      ],
      "metadata": {
        "colab": {
          "base_uri": "https://localhost:8080/"
        },
        "id": "u7dnpY2yHYBc",
        "outputId": "59b1560d-f7a9-418e-f441-7753595cc524"
      },
      "execution_count": null,
      "outputs": [
        {
          "output_type": "stream",
          "name": "stdout",
          "text": [
            "Uppercase: HELLO, WORLD\n",
            "Lowercase: hello, world\n",
            "Title Case: Hello, World\n"
          ]
        }
      ]
    },
    {
      "cell_type": "code",
      "source": [
        "fruits = [\"apple\", \"banana\", \"cherry\"]\n",
        "joined = \", \".join(fruits)\n",
        "print(\"Joined Fruits:\", joined)\n"
      ],
      "metadata": {
        "colab": {
          "base_uri": "https://localhost:8080/"
        },
        "id": "PFX0pmRmHbAv",
        "outputId": "12aba80b-d45e-4bad-882c-78e7a2167950"
      },
      "execution_count": null,
      "outputs": [
        {
          "output_type": "stream",
          "name": "stdout",
          "text": [
            "Joined Fruits: apple, banana, cherry\n"
          ]
        }
      ]
    },
    {
      "cell_type": "code",
      "source": [
        "text = \"apple, banana, cherry, date, fig\"\n",
        "split_items = text.split(\", \", 2)\n",
        "print(\"Split Items (with limit):\", split_items)\n"
      ],
      "metadata": {
        "colab": {
          "base_uri": "https://localhost:8080/"
        },
        "id": "ta6eOPA-Hj9J",
        "outputId": "262bc5af-5aa9-416a-e0b2-f77c5d0be707"
      },
      "execution_count": null,
      "outputs": [
        {
          "output_type": "stream",
          "name": "stdout",
          "text": [
            "Split Items (with limit): ['apple', 'banana', 'cherry, date, fig']\n"
          ]
        }
      ]
    },
    {
      "cell_type": "code",
      "source": [
        "text = \"----Python is cool\"\n",
        "stripped_text = text.lstrip(\"-\")\n",
        "print(\"Left-Stripped Text:\", stripped_text)  # Output: \"Python is cool\"\n"
      ],
      "metadata": {
        "colab": {
          "base_uri": "https://localhost:8080/"
        },
        "id": "_S5nvXOiHn8v",
        "outputId": "45857213-74dd-4933-8f4e-8d20395e0924"
      },
      "execution_count": null,
      "outputs": [
        {
          "output_type": "stream",
          "name": "stdout",
          "text": [
            "Left-Stripped Text: Python is cool\n"
          ]
        }
      ]
    },
    {
      "cell_type": "code",
      "source": [
        "text = \"Python is cool----\"\n",
        "stripped_text = text.rstrip(\"-\")\n",
        "print(\"Right-Stripped Text:\", stripped_text)  # Output: \"Python is cool\"\n"
      ],
      "metadata": {
        "colab": {
          "base_uri": "https://localhost:8080/"
        },
        "id": "Y-ILOcB4IPvu",
        "outputId": "b51633ea-3ed1-49fb-f6ef-325780266481"
      },
      "execution_count": null,
      "outputs": [
        {
          "output_type": "stream",
          "name": "stdout",
          "text": [
            "Right-Stripped Text: Python is cool\n"
          ]
        }
      ]
    },
    {
      "cell_type": "code",
      "source": [
        "text = \"Python\\tis\\tgreat!\"\n",
        "expanded_text = text.expandtabs(4)\n",
        "print(\"Expanded Text:\", expanded_text)  # Output: \"Python  is  great!\"\n"
      ],
      "metadata": {
        "colab": {
          "base_uri": "https://localhost:8080/"
        },
        "id": "iNrLPTBDITId",
        "outputId": "951d6901-b14d-4b83-a566-cfdfcf5ee1c9"
      },
      "execution_count": null,
      "outputs": [
        {
          "output_type": "stream",
          "name": "stdout",
          "text": [
            "Expanded Text: Python  is  great!\n"
          ]
        }
      ]
    },
    {
      "cell_type": "code",
      "source": [
        "number = \"42\"\n",
        "padded_number = number.zfill(5)\n",
        "print(\"Padded Number:\", padded_number)  # Output: \"00042\"\n"
      ],
      "metadata": {
        "colab": {
          "base_uri": "https://localhost:8080/"
        },
        "id": "OC8BxwIYIVNX",
        "outputId": "31c0246a-c0b7-43a8-9019-cc65c61f5ec1"
      },
      "execution_count": null,
      "outputs": [
        {
          "output_type": "stream",
          "name": "stdout",
          "text": [
            "Padded Number: 00042\n"
          ]
        }
      ]
    },
    {
      "cell_type": "code",
      "source": [
        "text1 = \"Hello, World!\"\n",
        "text2 = \"hello, world!\"\n",
        "are_equal = text1.casefold() == text2.casefold()\n",
        "print(\"Caseless Comparison:\", are_equal)  # Output: True\n"
      ],
      "metadata": {
        "colab": {
          "base_uri": "https://localhost:8080/"
        },
        "id": "YczVWxaIIbiY",
        "outputId": "f3a24020-dad4-484c-b4b6-ddb6f356d32c"
      },
      "execution_count": null,
      "outputs": [
        {
          "output_type": "stream",
          "name": "stdout",
          "text": [
            "Caseless Comparison: True\n"
          ]
        }
      ]
    },
    {
      "cell_type": "code",
      "source": [
        "text = \"python is awesome\"\n",
        "title_case = text.title()\n",
        "print(\"Title Case:\", title_case)  # Output: \"Python Is Awesome\"\n"
      ],
      "metadata": {
        "colab": {
          "base_uri": "https://localhost:8080/"
        },
        "id": "IbY3pg40IezI",
        "outputId": "27b16d69-6c92-4896-cefc-cd9d115fe886"
      },
      "execution_count": null,
      "outputs": [
        {
          "output_type": "stream",
          "name": "stdout",
          "text": [
            "Title Case: Python Is Awesome\n"
          ]
        }
      ]
    },
    {
      "cell_type": "code",
      "source": [
        "text = \"  Python is fun!  \"\n",
        "stripped_text = text.strip()\n",
        "print(\"Stripped Text:\", stripped_text)  # Output: \"Python is fun!\"\n"
      ],
      "metadata": {
        "colab": {
          "base_uri": "https://localhost:8080/"
        },
        "id": "w4A0XrhVIzIO",
        "outputId": "58481017-929b-4744-cf2a-cfe629d86bd6"
      },
      "execution_count": null,
      "outputs": [
        {
          "output_type": "stream",
          "name": "stdout",
          "text": [
            "Stripped Text: Python is fun!\n"
          ]
        }
      ]
    },
    {
      "cell_type": "code",
      "source": [
        "text = \"Hello, World!\"\n",
        "is_ascii = text.isascii()\n",
        "print(\"Is ASCII?\", is_ascii)  # Output: True\n"
      ],
      "metadata": {
        "colab": {
          "base_uri": "https://localhost:8080/"
        },
        "id": "ywpwBfIwI8cg",
        "outputId": "213ef263-b1d8-4480-dd62-3f735a9100e0"
      },
      "execution_count": null,
      "outputs": [
        {
          "output_type": "stream",
          "name": "stdout",
          "text": [
            "Is ASCII? True\n"
          ]
        }
      ]
    },
    {
      "cell_type": "code",
      "source": [
        "variable_name = \"my_variable123\"\n",
        "is_valid = variable_name.isidentifier()\n",
        "print(\"Is valid identifier?\", is_valid)  # Output: True\n"
      ],
      "metadata": {
        "colab": {
          "base_uri": "https://localhost:8080/"
        },
        "id": "eka6FZj1JED1",
        "outputId": "408be31a-9a50-4278-82a4-ab898c87082c"
      },
      "execution_count": null,
      "outputs": [
        {
          "output_type": "stream",
          "name": "stdout",
          "text": [
            "Is valid identifier? True\n"
          ]
        }
      ]
    },
    {
      "cell_type": "code",
      "source": [
        "text = \"Python is a powerful language, is it not?\"\n",
        "index = text.rindex(\"Java\")\n",
        "print(\"Index of the last 'Java':\", index)  # Raises a ValueError\n"
      ],
      "metadata": {
        "colab": {
          "base_uri": "https://localhost:8080/",
          "height": 210
        },
        "id": "AJK7duPzJTBO",
        "outputId": "b8a40e1e-9da3-4eed-8c87-5b1e82453614"
      },
      "execution_count": null,
      "outputs": [
        {
          "output_type": "error",
          "ename": "ValueError",
          "evalue": "ignored",
          "traceback": [
            "\u001b[0;31m---------------------------------------------------------------------------\u001b[0m",
            "\u001b[0;31mValueError\u001b[0m                                Traceback (most recent call last)",
            "\u001b[0;32m<ipython-input-64-7373e5dec5f4>\u001b[0m in \u001b[0;36m<cell line: 2>\u001b[0;34m()\u001b[0m\n\u001b[1;32m      1\u001b[0m \u001b[0mtext\u001b[0m \u001b[0;34m=\u001b[0m \u001b[0;34m\"Python is a powerful language, is it not?\"\u001b[0m\u001b[0;34m\u001b[0m\u001b[0;34m\u001b[0m\u001b[0m\n\u001b[0;32m----> 2\u001b[0;31m \u001b[0mindex\u001b[0m \u001b[0;34m=\u001b[0m \u001b[0mtext\u001b[0m\u001b[0;34m.\u001b[0m\u001b[0mrindex\u001b[0m\u001b[0;34m(\u001b[0m\u001b[0;34m\"Java\"\u001b[0m\u001b[0;34m)\u001b[0m\u001b[0;34m\u001b[0m\u001b[0;34m\u001b[0m\u001b[0m\n\u001b[0m\u001b[1;32m      3\u001b[0m \u001b[0mprint\u001b[0m\u001b[0;34m(\u001b[0m\u001b[0;34m\"Index of the last 'Java':\"\u001b[0m\u001b[0;34m,\u001b[0m \u001b[0mindex\u001b[0m\u001b[0;34m)\u001b[0m  \u001b[0;31m# Raises a ValueError\u001b[0m\u001b[0;34m\u001b[0m\u001b[0;34m\u001b[0m\u001b[0m\n",
            "\u001b[0;31mValueError\u001b[0m: substring not found"
          ]
        }
      ]
    },
    {
      "cell_type": "code",
      "source": [
        "text = \"Python is a powerful language.\"\n",
        "index = text.find(\"is\")\n",
        "print(\"Index of 'is':\", index)  # Output: 7\n"
      ],
      "metadata": {
        "colab": {
          "base_uri": "https://localhost:8080/"
        },
        "id": "_ncQjLY9Jb4E",
        "outputId": "8c1fa0d4-96e8-4458-abba-5ceb9bac987b"
      },
      "execution_count": null,
      "outputs": [
        {
          "output_type": "stream",
          "name": "stdout",
          "text": [
            "Index of 'is': 7\n"
          ]
        }
      ]
    },
    {
      "cell_type": "code",
      "source": [
        "text = \"Python is a powerful language, is it not?\"\n",
        "index = text.rfind(\"is\")\n",
        "print(\"Index of the last 'is':\", index)  # Output: 26\n"
      ],
      "metadata": {
        "colab": {
          "base_uri": "https://localhost:8080/"
        },
        "id": "LkBhfq_BJqem",
        "outputId": "73485201-0c5d-4f54-d599-45c0f4e52b8f"
      },
      "execution_count": null,
      "outputs": [
        {
          "output_type": "stream",
          "name": "stdout",
          "text": [
            "Index of the last 'is': 31\n"
          ]
        }
      ]
    },
    {
      "cell_type": "markdown",
      "source": [
        "# Definition\n",
        "● Call\n",
        "● Function Arguments\n",
        "● Default Arguments\n",
        "● Docstrings\n",
        "● Scope\n",
        "● Special functions Lambda, Map, and Filter\n",
        "● Recursion\n",
        "● Functional Programming and Reference Functions"
      ],
      "metadata": {
        "id": "hybkLWrOb4xB"
      }
    },
    {
      "cell_type": "code",
      "source": [
        "def factorial(n):\n",
        "    if n == 0:\n",
        "        return 1\n",
        "    else:\n",
        "        return n * factorial(n - 1)\n",
        "\n",
        "result = factorial(5)\n",
        "print(\"Factorial of 5:\", result)\n"
      ],
      "metadata": {
        "colab": {
          "base_uri": "https://localhost:8080/"
        },
        "id": "nhjXnJS2Jurf",
        "outputId": "498956e8-79b9-47e4-cad4-34261394d9ff"
      },
      "execution_count": null,
      "outputs": [
        {
          "output_type": "stream",
          "name": "stdout",
          "text": [
            "Factorial of 5: 120\n"
          ]
        }
      ]
    },
    {
      "cell_type": "code",
      "source": [
        "def add(a, b):\n",
        "    return a + b\n",
        "\n",
        "result = add(3, 4)\n",
        "print(\"Sum:\", result)\n"
      ],
      "metadata": {
        "colab": {
          "base_uri": "https://localhost:8080/"
        },
        "id": "Y6G_DDqLVNjK",
        "outputId": "bfec7f78-490c-4b65-c2ef-0e83beaede95"
      },
      "execution_count": null,
      "outputs": [
        {
          "output_type": "stream",
          "name": "stdout",
          "text": [
            "Sum: 7\n"
          ]
        }
      ]
    },
    {
      "cell_type": "code",
      "source": [
        "def greet(name, message=\"Hello\"):\n",
        "    print(f\"{message}, {name}!\")\n",
        "\n",
        "greet(\"Bob\")\n",
        "greet(message=\"Hi\", name=\"Charlie\")\n"
      ],
      "metadata": {
        "colab": {
          "base_uri": "https://localhost:8080/"
        },
        "id": "3bOfXkbRVULe",
        "outputId": "25d41012-0263-4cdf-c9c5-3f3bbb810051"
      },
      "execution_count": null,
      "outputs": [
        {
          "output_type": "stream",
          "name": "stdout",
          "text": [
            "Hello, Bob!\n",
            "Hi, Charlie!\n"
          ]
        }
      ]
    },
    {
      "cell_type": "code",
      "source": [
        "def area(length=5, width=3):\n",
        "    return length * width\n",
        "\n",
        "result = area()\n",
        "print(\"Area:\", result)\n"
      ],
      "metadata": {
        "colab": {
          "base_uri": "https://localhost:8080/"
        },
        "id": "FHZ8KiLRVc7C",
        "outputId": "5bdf18d8-40b8-47c3-9e87-da94ba3c63e7"
      },
      "execution_count": null,
      "outputs": [
        {
          "output_type": "stream",
          "name": "stdout",
          "text": [
            "Area: 15\n"
          ]
        }
      ]
    },
    {
      "cell_type": "code",
      "source": [
        "def add_to_list(item, my_list=None):\n",
        "    if my_list is None:\n",
        "        my_list = []\n",
        "    my_list.append(item)\n",
        "    return my_list\n",
        "\n",
        "result1 = add_to_list(1)\n",
        "result2 = add_to_list(2)\n",
        "print(result1)  # [1]\n",
        "print(result2)  # [2]\n"
      ],
      "metadata": {
        "colab": {
          "base_uri": "https://localhost:8080/"
        },
        "id": "b6Z5byD8V6LS",
        "outputId": "6248e465-39fb-42d6-a9a8-3bb658d8a90d"
      },
      "execution_count": null,
      "outputs": [
        {
          "output_type": "stream",
          "name": "stdout",
          "text": [
            "[1]\n",
            "[2]\n"
          ]
        }
      ]
    },
    {
      "cell_type": "code",
      "source": [
        "def factorial(n):\n",
        "    \"\"\"Calculate the factorial of a non-negative integer.\n",
        "\n",
        "    Args:\n",
        "        n (int): The integer to calculate the factorial for.\n",
        "\n",
        "    Returns:\n",
        "        int: The factorial of n.\n",
        "    \"\"\"\n",
        "    if n == 0:\n",
        "        return 1\n",
        "    else:\n",
        "        return n * factorial(n - 1)\n",
        "\n",
        "help(factorial)\n"
      ],
      "metadata": {
        "colab": {
          "base_uri": "https://localhost:8080/"
        },
        "id": "V3LD4Z8IV--h",
        "outputId": "7e74c4a1-e121-4e06-da46-1ab4b0c7fb96"
      },
      "execution_count": null,
      "outputs": [
        {
          "output_type": "stream",
          "name": "stdout",
          "text": [
            "Help on function factorial in module __main__:\n",
            "\n",
            "factorial(n)\n",
            "    Calculate the factorial of a non-negative integer.\n",
            "    \n",
            "    Args:\n",
            "        n (int): The integer to calculate the factorial for.\n",
            "        \n",
            "    Returns:\n",
            "        int: The factorial of n.\n",
            "\n"
          ]
        }
      ]
    },
    {
      "cell_type": "code",
      "source": [
        "x = 10\n",
        "\n",
        "def print_x():\n",
        "    x = 5\n",
        "    print(\"Inside function:\", x)\n",
        "\n",
        "print_x()\n",
        "print(\"Outside function:\", x)\n"
      ],
      "metadata": {
        "colab": {
          "base_uri": "https://localhost:8080/"
        },
        "id": "UoWDOzjgWJoO",
        "outputId": "37fd3c4b-21de-4f51-8472-69159a8ff16a"
      },
      "execution_count": null,
      "outputs": [
        {
          "output_type": "stream",
          "name": "stdout",
          "text": [
            "Inside function: 5\n",
            "Outside function: 10\n"
          ]
        }
      ]
    },
    {
      "cell_type": "code",
      "source": [
        "x = 10\n",
        "\n",
        "def modify_x():\n",
        "    global x\n",
        "    x = 20\n",
        "\n",
        "def outer_function():\n",
        "    x = 5\n",
        "    def inner_function():\n",
        "        nonlocal x\n",
        "        x = 15\n",
        "    inner_function()\n",
        "    print(\"Inner function:\", x)\n",
        "\n",
        "modify_x()\n",
        "print(\"After modify_x:\", x)\n",
        "outer_function()\n",
        "print(\"After inner_function:\", x)\n"
      ],
      "metadata": {
        "colab": {
          "base_uri": "https://localhost:8080/"
        },
        "id": "bHa49L-gWTK6",
        "outputId": "839df445-bd19-4bed-87b5-57177b4b9693"
      },
      "execution_count": null,
      "outputs": [
        {
          "output_type": "stream",
          "name": "stdout",
          "text": [
            "After modify_x: 20\n",
            "Inner function: 15\n",
            "After inner_function: 20\n"
          ]
        }
      ]
    },
    {
      "cell_type": "code",
      "source": [
        "numbers = [1, 2, 3, 4, 5]\n",
        "squared_numbers = list(map(lambda x: x**2, numbers))\n",
        "even_numbers = list(filter(lambda x: x % 2 == 0, numbers))\n"
      ],
      "metadata": {
        "id": "CBX_AVwJWWNV"
      },
      "execution_count": null,
      "outputs": []
    },
    {
      "cell_type": "code",
      "source": [
        "squared_numbers"
      ],
      "metadata": {
        "colab": {
          "base_uri": "https://localhost:8080/"
        },
        "id": "nIwJeRIsuP3B",
        "outputId": "6c07a61a-a134-49be-e608-de08ec24ed3f"
      },
      "execution_count": null,
      "outputs": [
        {
          "output_type": "execute_result",
          "data": {
            "text/plain": [
              "[1, 4, 9, 16, 25]"
            ]
          },
          "metadata": {},
          "execution_count": 2
        }
      ]
    },
    {
      "cell_type": "code",
      "source": [
        "even_numbers"
      ],
      "metadata": {
        "colab": {
          "base_uri": "https://localhost:8080/"
        },
        "id": "1tZLc16QuSXF",
        "outputId": "024524d1-220c-437b-f8af-d798477cf456"
      },
      "execution_count": null,
      "outputs": [
        {
          "output_type": "execute_result",
          "data": {
            "text/plain": [
              "[2, 4]"
            ]
          },
          "metadata": {},
          "execution_count": 3
        }
      ]
    },
    {
      "cell_type": "code",
      "source": [
        "operations = [lambda x: x**2, lambda x: x + 10]\n",
        "result = list(map(lambda f: f(5), operations))\n",
        "result"
      ],
      "metadata": {
        "colab": {
          "base_uri": "https://localhost:8080/"
        },
        "id": "tXCoAaS7uTkU",
        "outputId": "c88d6470-993c-4a4e-971f-f149b303bf2f"
      },
      "execution_count": null,
      "outputs": [
        {
          "output_type": "execute_result",
          "data": {
            "text/plain": [
              "[25, 15]"
            ]
          },
          "metadata": {},
          "execution_count": 5
        }
      ]
    },
    {
      "cell_type": "code",
      "source": [
        "def factorial(n):\n",
        "    if n == 0:\n",
        "        return 1\n",
        "    else:\n",
        "        return n * factorial(n - 1)\n",
        "\n",
        "result = factorial(5)\n",
        "result"
      ],
      "metadata": {
        "colab": {
          "base_uri": "https://localhost:8080/"
        },
        "id": "tkBf10wUuYu7",
        "outputId": "b8daa3c5-f88a-46fb-88f5-e67f17b4b589"
      },
      "execution_count": null,
      "outputs": [
        {
          "output_type": "execute_result",
          "data": {
            "text/plain": [
              "120"
            ]
          },
          "metadata": {},
          "execution_count": 7
        }
      ]
    },
    {
      "cell_type": "code",
      "source": [
        "def fibonacci(n):\n",
        "    if n <= 1:\n",
        "        return n\n",
        "    else:\n",
        "        return fibonacci(n - 1) + fibonacci(n - 2)\n",
        "\n",
        "result = fibonacci(6)\n",
        "result"
      ],
      "metadata": {
        "colab": {
          "base_uri": "https://localhost:8080/"
        },
        "id": "ZDFhYt-fu0nt",
        "outputId": "6a4d7a9d-3f73-4da8-89b6-51cc95ef4b14"
      },
      "execution_count": null,
      "outputs": [
        {
          "output_type": "execute_result",
          "data": {
            "text/plain": [
              "8"
            ]
          },
          "metadata": {},
          "execution_count": 8
        }
      ]
    },
    {
      "cell_type": "code",
      "source": [
        "numbers = [1, 2, 3, 4, 5]\n",
        "squared_numbers = list(map(lambda x: x**2, numbers))\n",
        "even_numbers = list(filter(lambda x: x % 2 == 0, numbers))\n"
      ],
      "metadata": {
        "id": "-tjqdkf7vAPO"
      },
      "execution_count": null,
      "outputs": []
    },
    {
      "cell_type": "code",
      "source": [
        "squared_numbers"
      ],
      "metadata": {
        "colab": {
          "base_uri": "https://localhost:8080/"
        },
        "id": "m_cRakfsvGll",
        "outputId": "48c87d65-05a8-446a-afb1-150928b8ca67"
      },
      "execution_count": null,
      "outputs": [
        {
          "output_type": "execute_result",
          "data": {
            "text/plain": [
              "[1, 4, 9, 16, 25]"
            ]
          },
          "metadata": {},
          "execution_count": 10
        }
      ]
    },
    {
      "cell_type": "code",
      "source": [
        "even_numbers"
      ],
      "metadata": {
        "colab": {
          "base_uri": "https://localhost:8080/"
        },
        "id": "b15YTqUAvHHB",
        "outputId": "042ab9cf-be84-42e4-dc4b-5eef9d807bbd"
      },
      "execution_count": null,
      "outputs": [
        {
          "output_type": "execute_result",
          "data": {
            "text/plain": [
              "[2, 4]"
            ]
          },
          "metadata": {},
          "execution_count": 11
        }
      ]
    },
    {
      "cell_type": "code",
      "source": [
        "def custom_map(function, iterable):\n",
        "    result = []\n",
        "    for item in iterable:\n",
        "        result.append(function(item))\n",
        "    return result\n",
        "\n",
        "def square(x):\n",
        "    return x**2\n",
        "\n",
        "numbers = [1, 2, 3, 4, 5]\n",
        "squared_numbers = custom_map(square, numbers)\n"
      ],
      "metadata": {
        "id": "9zJxARvGvI6M"
      },
      "execution_count": null,
      "outputs": []
    },
    {
      "cell_type": "code",
      "source": [
        "squared_numbers"
      ],
      "metadata": {
        "colab": {
          "base_uri": "https://localhost:8080/"
        },
        "id": "_XtTGY7KvXWp",
        "outputId": "ea25bed0-28d0-4af3-f967-487273d31fff"
      },
      "execution_count": null,
      "outputs": [
        {
          "output_type": "execute_result",
          "data": {
            "text/plain": [
              "[1, 4, 9, 16, 25]"
            ]
          },
          "metadata": {},
          "execution_count": 14
        }
      ]
    },
    {
      "cell_type": "markdown",
      "source": [
        "#  Dictionaries Basics\n",
        "● Operations\n",
        "● Comprehensions\n",
        "● Dictionaries Methods"
      ],
      "metadata": {
        "id": "J0H6NuCDcgow"
      }
    },
    {
      "cell_type": "code",
      "source": [
        "person = {\n",
        "    \"name\": \"Alice\",\n",
        "    \"age\": 30,\n",
        "    \"city\": \"New York\"\n",
        "}\n",
        "\n",
        "print(person[\"name\"])  # Accessing the 'name' key\n"
      ],
      "metadata": {
        "colab": {
          "base_uri": "https://localhost:8080/"
        },
        "id": "c9j_FCFhvZmP",
        "outputId": "b2a0d20c-c7d6-4d17-e530-450a507e7d9f"
      },
      "execution_count": null,
      "outputs": [
        {
          "output_type": "stream",
          "name": "stdout",
          "text": [
            "Alice\n"
          ]
        }
      ]
    },
    {
      "cell_type": "code",
      "source": [
        "person[\"email\"] = \"alice@example.com\"  # Adding a new key-value pair\n",
        "person[\"age\"] = 31  # Updating the 'age' value\n",
        "del person[\"city\"]  # Deleting the 'city' key-value pair\n"
      ],
      "metadata": {
        "id": "qDIZnmzfxi4o"
      },
      "execution_count": null,
      "outputs": []
    },
    {
      "cell_type": "code",
      "source": [
        "book = {\n",
        "    \"title\": \"Python Programming\",\n",
        "    \"author\": {\n",
        "        \"first_name\": \"John\",\n",
        "        \"last_name\": \"Doe\"\n",
        "    },\n",
        "    \"year\": 2022\n",
        "}\n",
        "\n",
        "print(book[\"author\"][\"first_name\"])  # Accessing a nested key\n"
      ],
      "metadata": {
        "colab": {
          "base_uri": "https://localhost:8080/"
        },
        "id": "RXlkqbVDxmSe",
        "outputId": "4a1ed38c-9437-4121-d5a2-d83468cd5870"
      },
      "execution_count": null,
      "outputs": [
        {
          "output_type": "stream",
          "name": "stdout",
          "text": [
            "John\n"
          ]
        }
      ]
    },
    {
      "cell_type": "code",
      "source": [
        "if \"name\" in person:\n",
        "    print(\"Name exists in the dictionary.\")\n"
      ],
      "metadata": {
        "colab": {
          "base_uri": "https://localhost:8080/"
        },
        "id": "pqFkMcTJxvTs",
        "outputId": "38993f90-bac3-44bf-9f73-d31825a9e977"
      },
      "execution_count": null,
      "outputs": [
        {
          "output_type": "stream",
          "name": "stdout",
          "text": [
            "Name exists in the dictionary.\n"
          ]
        }
      ]
    },
    {
      "cell_type": "code",
      "source": [
        "for key in person:\n",
        "    print(key, person[key])\n",
        "\n",
        "for key, value in person.items():\n",
        "    print(key, value)\n"
      ],
      "metadata": {
        "colab": {
          "base_uri": "https://localhost:8080/"
        },
        "id": "-HgAG2fFx0if",
        "outputId": "a8ffec93-efd7-4251-b51d-2b7c1aa2ac19"
      },
      "execution_count": null,
      "outputs": [
        {
          "output_type": "stream",
          "name": "stdout",
          "text": [
            "name Alice\n",
            "age 31\n",
            "email alice@example.com\n",
            "name Alice\n",
            "age 31\n",
            "email alice@example.com\n"
          ]
        }
      ]
    },
    {
      "cell_type": "code",
      "source": [
        "more_info = {\"country\": \"USA\", \"email\": \"alice@example.com\"}\n",
        "person.update(more_info)  # Merging dictionaries\n"
      ],
      "metadata": {
        "id": "sUluUPAKx4gp"
      },
      "execution_count": null,
      "outputs": []
    },
    {
      "cell_type": "code",
      "source": [
        "person"
      ],
      "metadata": {
        "colab": {
          "base_uri": "https://localhost:8080/"
        },
        "id": "i_0sAPi5x_In",
        "outputId": "c59f3427-fe7d-44f5-a6bb-30677b0dd951"
      },
      "execution_count": null,
      "outputs": [
        {
          "output_type": "execute_result",
          "data": {
            "text/plain": [
              "{'name': 'Alice', 'age': 31, 'email': 'alice@example.com', 'country': 'USA'}"
            ]
          },
          "metadata": {},
          "execution_count": 21
        }
      ]
    },
    {
      "cell_type": "code",
      "source": [
        "numbers = [1, 2, 3, 4, 5]\n",
        "squared_dict = {x: x**2 for x in numbers}\n",
        "squared_dict"
      ],
      "metadata": {
        "colab": {
          "base_uri": "https://localhost:8080/"
        },
        "id": "Z3ErfuG3yCwM",
        "outputId": "ccbe5b86-c813-4d6f-dc00-82a57d0aed32"
      },
      "execution_count": null,
      "outputs": [
        {
          "output_type": "execute_result",
          "data": {
            "text/plain": [
              "{1: 1, 2: 4, 3: 9, 4: 16, 5: 25}"
            ]
          },
          "metadata": {},
          "execution_count": 23
        }
      ]
    },
    {
      "cell_type": "code",
      "source": [
        "names = [\"Alice\", \"Bob\", \"Charlie\", \"David\"]\n",
        "filtered_dict = {name: len(name) for name in names if len(name) > 4}\n",
        "filtered_dict"
      ],
      "metadata": {
        "colab": {
          "base_uri": "https://localhost:8080/"
        },
        "id": "gbZ_AxkfyWQE",
        "outputId": "0a563eda-7756-40fc-98c9-d70424b6b492"
      },
      "execution_count": null,
      "outputs": [
        {
          "output_type": "execute_result",
          "data": {
            "text/plain": [
              "{'Alice': 5, 'Charlie': 7, 'David': 5}"
            ]
          },
          "metadata": {},
          "execution_count": 24
        }
      ]
    },
    {
      "cell_type": "code",
      "source": [
        "numbers = [1, 2, 3, 4, 5]\n",
        "squared_dict = {x: x**2 if x % 2 == 0 else x for x in numbers}\n",
        "squared_dict"
      ],
      "metadata": {
        "colab": {
          "base_uri": "https://localhost:8080/"
        },
        "id": "qheVX_02yjxB",
        "outputId": "1c03a219-e79b-40cb-c392-b64e82e18155"
      },
      "execution_count": null,
      "outputs": [
        {
          "output_type": "execute_result",
          "data": {
            "text/plain": [
              "{1: 1, 2: 4, 3: 3, 4: 16, 5: 5}"
            ]
          },
          "metadata": {},
          "execution_count": 25
        }
      ]
    },
    {
      "cell_type": "code",
      "source": [
        "keys = person.keys()\n",
        "values = person.values()\n",
        "items = person.items()\n",
        "\n",
        "print(\"Keys:\", keys)\n",
        "print(\"Values:\", values)\n",
        "print(\"Items:\", items)\n"
      ],
      "metadata": {
        "colab": {
          "base_uri": "https://localhost:8080/"
        },
        "id": "AEowwj8qyyK4",
        "outputId": "45eb11fc-2034-4405-996d-df9a845ca2c2"
      },
      "execution_count": null,
      "outputs": [
        {
          "output_type": "stream",
          "name": "stdout",
          "text": [
            "Keys: dict_keys(['name', 'age', 'email', 'country'])\n",
            "Values: dict_values(['Alice', 31, 'alice@example.com', 'USA'])\n",
            "Items: dict_items([('name', 'Alice'), ('age', 31), ('email', 'alice@example.com'), ('country', 'USA')])\n"
          ]
        }
      ]
    },
    {
      "cell_type": "code",
      "source": [
        "age = person.get(\"age\", 0)\n",
        "print(\"Age:\", age)\n",
        "\n",
        "# If the key doesn't exist, it returns the default value (0)\n",
        "height = person.get(\"height\", 175)\n",
        "print(\"Height:\", height)\n"
      ],
      "metadata": {
        "colab": {
          "base_uri": "https://localhost:8080/"
        },
        "id": "3X1J4G4ky5Cl",
        "outputId": "67e450ce-ac36-4288-aa86-79d1e6f13040"
      },
      "execution_count": null,
      "outputs": [
        {
          "output_type": "stream",
          "name": "stdout",
          "text": [
            "Age: 31\n",
            "Height: 175\n"
          ]
        }
      ]
    },
    {
      "cell_type": "code",
      "source": [
        "removed_email = person.pop(\"email\")  # Remove and return the 'email' value\n",
        "print(\"Removed Email:\", removed_email)\n",
        "\n",
        "last_item = person.popitem()  # Remove and return the last key-value pair\n",
        "print(\"Last Item:\", last_item)\n"
      ],
      "metadata": {
        "colab": {
          "base_uri": "https://localhost:8080/"
        },
        "id": "bbiakTeRy9F4",
        "outputId": "104aed4c-2019-4bd5-c581-fd33e835c8fb"
      },
      "execution_count": null,
      "outputs": [
        {
          "output_type": "stream",
          "name": "stdout",
          "text": [
            "Removed Email: alice@example.com\n",
            "Last Item: ('country', 'USA')\n"
          ]
        }
      ]
    },
    {
      "cell_type": "code",
      "source": [
        "dict1 = {\"a\": 1, \"b\": 2}\n",
        "dict2 = {\"b\": 3, \"c\": 4}\n",
        "merged_dict = {**dict1, **dict2}\n",
        "print(\"Merged Dictionary:\", merged_dict)\n"
      ],
      "metadata": {
        "colab": {
          "base_uri": "https://localhost:8080/"
        },
        "id": "5EmfqAy7zJ0z",
        "outputId": "540e209f-53c3-4141-edaf-06c9ad6b36bd"
      },
      "execution_count": null,
      "outputs": [
        {
          "output_type": "stream",
          "name": "stdout",
          "text": [
            "Merged Dictionary: {'a': 1, 'b': 3, 'c': 4}\n"
          ]
        }
      ]
    },
    {
      "cell_type": "code",
      "source": [
        "keys = [\"name\", \"age\", \"city\"]\n",
        "values = [\"Alice\", 30, \"New York\"]\n",
        "person_dict = {key: value for key, value in zip(keys, values)}\n",
        "print(\"Person Dictionary:\", person_dict)\n"
      ],
      "metadata": {
        "colab": {
          "base_uri": "https://localhost:8080/"
        },
        "id": "atw-gvbp0HEt",
        "outputId": "9d03acd2-ff09-4f93-889f-4d16a134028f"
      },
      "execution_count": null,
      "outputs": [
        {
          "output_type": "stream",
          "name": "stdout",
          "text": [
            "Person Dictionary: {'name': 'Alice', 'age': 30, 'city': 'New York'}\n"
          ]
        }
      ]
    },
    {
      "cell_type": "code",
      "source": [
        "person = {\"name\": \"Alice\", \"age\": 30}\n",
        "email = person.setdefault(\"email\", \"alice@example.com\")\n",
        "print(\"Email:\", email)  # \"email\" key is added with the default value\n"
      ],
      "metadata": {
        "colab": {
          "base_uri": "https://localhost:8080/"
        },
        "id": "vYXeGEEL0lZR",
        "outputId": "8d6ed789-92d9-4196-ecd4-943adef2d95f"
      },
      "execution_count": null,
      "outputs": [
        {
          "output_type": "stream",
          "name": "stdout",
          "text": [
            "Email: alice@example.com\n"
          ]
        }
      ]
    },
    {
      "cell_type": "code",
      "source": [
        "person"
      ],
      "metadata": {
        "colab": {
          "base_uri": "https://localhost:8080/"
        },
        "id": "2dFnXrA20xBH",
        "outputId": "9f0f3f2c-0f4d-4749-a347-ded58030d93d"
      },
      "execution_count": null,
      "outputs": [
        {
          "output_type": "execute_result",
          "data": {
            "text/plain": [
              "{'name': 'Alice', 'age': 30, 'email': 'alice@example.com'}"
            ]
          },
          "metadata": {},
          "execution_count": 32
        }
      ]
    },
    {
      "cell_type": "code",
      "source": [
        "original_dict = {\"a\": 1, \"b\": 2}\n",
        "copy_dict = original_dict.copy()\n",
        "copy_dict[\"c\"] = 3  # Modifying the copy doesn't affect the original\n",
        "print(\"Original Dictionary:\", original_dict)\n",
        "print(\"Copy Dictionary:\", copy_dict)\n"
      ],
      "metadata": {
        "colab": {
          "base_uri": "https://localhost:8080/"
        },
        "id": "xfwVLUQt06TQ",
        "outputId": "d4a3ad71-1fb8-4172-914e-ef139970de77"
      },
      "execution_count": null,
      "outputs": [
        {
          "output_type": "stream",
          "name": "stdout",
          "text": [
            "Original Dictionary: {'a': 1, 'b': 2}\n",
            "Copy Dictionary: {'a': 1, 'b': 2, 'c': 3}\n"
          ]
        }
      ]
    },
    {
      "cell_type": "code",
      "source": [
        "keys = [\"apple\", \"banana\", \"cherry\"]\n",
        "default_value = 0\n",
        "fruit_dict = dict.fromkeys(keys, default_value)\n",
        "print(\"Fruit Dictionary:\", fruit_dict)\n"
      ],
      "metadata": {
        "colab": {
          "base_uri": "https://localhost:8080/"
        },
        "id": "JEBvqDxR1RCL",
        "outputId": "5115395a-b710-448e-be91-318205974f1f"
      },
      "execution_count": null,
      "outputs": [
        {
          "output_type": "stream",
          "name": "stdout",
          "text": [
            "Fruit Dictionary: {'apple': 0, 'banana': 0, 'cherry': 0}\n"
          ]
        }
      ]
    },
    {
      "cell_type": "code",
      "source": [
        "person = {\"name\": \"Alice\", \"age\": 30, \"city\": \"New York\"}\n",
        "sorted_by_keys = {k: person[k] for k in sorted(person)}\n",
        "sorted_by_values = {k: v for k, v in sorted(person.items()) }\n",
        "print(\"Sorted by Keys:\", sorted_by_keys)\n",
        "print(\"Sorted by Values:\", sorted_by_values)\n"
      ],
      "metadata": {
        "colab": {
          "base_uri": "https://localhost:8080/"
        },
        "id": "KqYf0XUB1ZIY",
        "outputId": "f97bdccf-dc5a-44e3-8465-772dc34184c1"
      },
      "execution_count": null,
      "outputs": [
        {
          "output_type": "stream",
          "name": "stdout",
          "text": [
            "Sorted by Keys: {'age': 30, 'city': 'New York', 'name': 'Alice'}\n",
            "Sorted by Values: {'age': 30, 'city': 'New York', 'name': 'Alice'}\n"
          ]
        }
      ]
    },
    {
      "cell_type": "code",
      "source": [
        "# Dictionaries Basics\n",
        "# Creating a dictionary\n",
        "person = {\n",
        "    \"name\": \"Alice\",\n",
        "    \"age\": 30,\n",
        "    \"city\": \"New York\"\n",
        "}\n",
        "\n",
        "# Accessing dictionary elements\n",
        "print(\"Name:\", person[\"name\"])\n",
        "\n",
        "# Dictionaries Operations\n",
        "# Checking if a key exists\n",
        "if \"name\" in person:\n",
        "    print(\"Name exists in the dictionary.\")\n",
        "\n",
        "# Iterating through dictionary keys and values\n",
        "print(\"Iterating through dictionary keys and values:\")\n",
        "for key in person:\n",
        "    print(key, person[key])\n",
        "\n",
        "for key, value in person.items():\n",
        "    print(key, value)\n",
        "\n",
        "# Merging dictionaries\n",
        "more_info = {\"country\": \"USA\", \"email\": \"alice@example.com\"}\n",
        "person.update(more_info)\n",
        "\n",
        "# Dictionaries Comprehensions\n",
        "# Creating a dictionary using a dictionary comprehension\n",
        "numbers = [1, 2, 3, 4, 5]\n",
        "squared_dict = {x: x**2 for x in numbers}\n",
        "print(\"Squared Dictionary:\", squared_dict)\n",
        "\n",
        "# Additional Example\n",
        "# Creating a dictionary using a dictionary comprehension with filtering\n",
        "names = [\"Alice\", \"Bob\", \"Charlie\", \"David\"]\n",
        "filtered_dict = {name: len(name) for name in names if len(name) > 4}\n",
        "print(\"Filtered Dictionary:\", filtered_dict)\n",
        "\n",
        "# Dictionary Methods\n",
        "# Using dictionary methods\n",
        "keys = person.keys()\n",
        "values = person.values()\n",
        "items = person.items()\n",
        "\n",
        "print(\"Keys:\", keys)\n",
        "print(\"Values:\", values)\n",
        "print(\"Items:\", items)\n",
        "\n",
        "# Getting a value for a key using get() with a default value\n",
        "age = person.get(\"age\", 0)\n",
        "print(\"Age:\", age)\n",
        "\n",
        "# Removing items from the dictionary using pop() and popitem()\n",
        "removed_email = person.pop(\"email\")\n",
        "print(\"Removed Email:\", removed_email)\n",
        "\n",
        "last_item = person.popitem()\n",
        "print(\"Last Item:\", last_item)\n",
        "\n",
        "# Dictionary Copy\n",
        "# Creating a shallow copy of a dictionary\n",
        "original_dict = {\"a\": 1, \"b\": 2}\n",
        "copy_dict = original_dict.copy()\n",
        "copy_dict[\"c\"] = 3  # Modifying the copy doesn't affect the original\n",
        "print(\"Original Dictionary:\", original_dict)\n",
        "print(\"Copy Dictionary:\", copy_dict)\n",
        "\n",
        "# Dictionary from Keys with Default Values\n",
        "# Creating a dictionary with keys from a list and default values using fromkeys()\n",
        "keys = [\"apple\", \"banana\", \"cherry\"]\n",
        "default_value = 0\n",
        "fruit_dict = dict.fromkeys(keys, default_value)\n",
        "print(\"Fruit Dictionary:\", fruit_dict)\n",
        "\n",
        "# Dictionary Sorting\n",
        "# Sorting a dictionary by its keys and values\n",
        "sorted_by_keys = {k: person[k] for k in sorted(person)}\n",
        "\n",
        "\n",
        "# Merging two dictionaries using the ** unpacking operator\n",
        "dict1 = {\"a\": 1, \"b\": 2}\n",
        "dict2 = {\"b\": 3, \"c\": 4}\n",
        "merged_dict = {**dict1, **dict2}\n",
        "print(\"Merged Dictionary:\", merged_dict)\n"
      ],
      "metadata": {
        "colab": {
          "base_uri": "https://localhost:8080/"
        },
        "id": "QSM2hthC1gHQ",
        "outputId": "bf9af05c-7098-4d9a-b316-898fa9c25a31"
      },
      "execution_count": null,
      "outputs": [
        {
          "output_type": "stream",
          "name": "stdout",
          "text": [
            "Name: Alice\n",
            "Name exists in the dictionary.\n",
            "Iterating through dictionary keys and values:\n",
            "name Alice\n",
            "age 30\n",
            "city New York\n",
            "name Alice\n",
            "age 30\n",
            "city New York\n",
            "Squared Dictionary: {1: 1, 2: 4, 3: 9, 4: 16, 5: 25}\n",
            "Filtered Dictionary: {'Alice': 5, 'Charlie': 7, 'David': 5}\n",
            "Keys: dict_keys(['name', 'age', 'city', 'country', 'email'])\n",
            "Values: dict_values(['Alice', 30, 'New York', 'USA', 'alice@example.com'])\n",
            "Items: dict_items([('name', 'Alice'), ('age', 30), ('city', 'New York'), ('country', 'USA'), ('email', 'alice@example.com')])\n",
            "Age: 30\n",
            "Removed Email: alice@example.com\n",
            "Last Item: ('country', 'USA')\n",
            "Original Dictionary: {'a': 1, 'b': 2}\n",
            "Copy Dictionary: {'a': 1, 'b': 2, 'c': 3}\n",
            "Fruit Dictionary: {'apple': 0, 'banana': 0, 'cherry': 0}\n",
            "Merged Dictionary: {'a': 1, 'b': 3, 'c': 4}\n"
          ]
        }
      ]
    },
    {
      "cell_type": "markdown",
      "source": [
        "# Tuples Basics\n",
        "● Tuples Comprehensions / Slicing\n",
        "● Tuple Functions\n",
        "● Tuple Methods"
      ],
      "metadata": {
        "id": "tHVZAw-fc6S-"
      }
    },
    {
      "cell_type": "code",
      "source": [
        "# Tuples Basics\n",
        "# Creating a tuple\n",
        "fruits = (\"apple\", \"banana\", \"cherry\")\n",
        "\n",
        "# Accessing tuple elements\n",
        "print(\"First fruit:\", fruits[0])\n",
        "\n",
        "# Tuples Comprehensions / Slicing\n",
        "# Creating a tuple using a generator expression\n",
        "numbers = (x for x in range(5))\n",
        "\n",
        "# Slicing a tuple\n",
        "fruits_slice = fruits[1:3]\n",
        "\n",
        "# Printing the generator and the sliced tuple\n",
        "print(\"Generator Tuple:\", tuple(numbers))\n",
        "print(\"Sliced Fruits Tuple:\", fruits_slice)\n",
        "\n",
        "# Tuple Functions\n",
        "# Checking if an element exists in a tuple\n",
        "if \"banana\" in fruits:\n",
        "    print(\"Banana exists in the tuple.\")\n",
        "\n",
        "# Finding the length of a tuple\n",
        "length = len(fruits)\n",
        "print(\"Length of Fruits Tuple:\", length)\n",
        "\n",
        "# Finding the maximum and minimum elements in a tuple\n",
        "numbers = (10, 5, 20, 3, 15)\n",
        "maximum = max(numbers)\n",
        "minimum = min(numbers)\n",
        "print(\"Maximum Number:\", maximum)\n",
        "print(\"Minimum Number:\", minimum)\n",
        "\n",
        "# Tuple Methods\n",
        "# Counting the occurrences of an element in a tuple\n",
        "count_apple = fruits.count(\"apple\")\n",
        "print(\"Number of Apples:\", count_apple)\n",
        "\n",
        "# Finding the index of an element in a tuple\n",
        "index_cherry = fruits.index(\"cherry\")\n",
        "print(\"Index of Cherry:\", index_cherry)\n",
        "\n",
        "# Advanced Example\n",
        "# Concatenating two tuples\n",
        "fruits2 = (\"orange\", \"grape\")\n",
        "combined_fruits = fruits + fruits2\n",
        "print(\"Combined Fruits Tuple:\", combined_fruits)\n"
      ],
      "metadata": {
        "colab": {
          "base_uri": "https://localhost:8080/"
        },
        "id": "Uwlbjuio5kqb",
        "outputId": "9219122a-50d0-461c-c6eb-c25908c8db1e"
      },
      "execution_count": null,
      "outputs": [
        {
          "output_type": "stream",
          "name": "stdout",
          "text": [
            "First fruit: apple\n",
            "Generator Tuple: (0, 1, 2, 3, 4)\n",
            "Sliced Fruits Tuple: ('banana', 'cherry')\n",
            "Banana exists in the tuple.\n",
            "Length of Fruits Tuple: 3\n",
            "Maximum Number: 20\n",
            "Minimum Number: 3\n",
            "Number of Apples: 1\n",
            "Index of Cherry: 2\n",
            "Combined Fruits Tuple: ('apple', 'banana', 'cherry', 'orange', 'grape')\n"
          ]
        }
      ]
    },
    {
      "cell_type": "code",
      "source": [
        "# Tuples Basics\n",
        "# Creating tuples with different types of elements\n",
        "mixed_tuple = (1, \"apple\", 3.14, [4, 5])\n",
        "\n",
        "# Accessing tuple elements\n",
        "print(\"Second element of mixed_tuple:\", mixed_tuple[1])\n",
        "\n",
        "# Tuples Comprehensions / Slicing\n",
        "# Creating a tuple using slicing and reversing it\n",
        "numbers = (1, 2, 3, 4, 5)\n",
        "sliced_and_reversed = numbers[3:0:-1]\n",
        "print(\"Sliced and Reversed Tuple:\", sliced_and_reversed)\n",
        "\n",
        "# Tuple Functions\n",
        "# Concatenating two tuples using the + operator\n",
        "letters = (\"a\", \"b\", \"c\")\n",
        "digits = (1, 2, 3)\n",
        "combined = letters + digits\n",
        "print(\"Combined Tuple:\", combined)\n",
        "\n",
        "# Tuple Methods\n",
        "# Using the index() method with a specified start and end\n",
        "animals = (\"cat\", \"dog\", \"elephant\", \"cat\", \"monkey\")\n",
        "first_cat_index = animals.index(\"cat\")\n",
        "second_cat_index = animals.index(\"cat\", first_cat_index + 1)\n",
        "print(\"First Cat Index:\", first_cat_index)\n",
        "print(\"Second Cat Index:\", second_cat_index)\n",
        "\n",
        "# Finding the total occurrences of an element in a tuple\n",
        "total_cats = animals.count(\"cat\")\n",
        "print(\"Total Cats:\", total_cats)\n",
        "\n",
        "# Advanced Example\n",
        "# Unpacking a tuple into multiple variables\n",
        "point = (3, 4)\n",
        "x, y = point\n",
        "print(\"X-coordinate:\", x)\n",
        "print(\"Y-coordinate:\", y)\n"
      ],
      "metadata": {
        "colab": {
          "base_uri": "https://localhost:8080/"
        },
        "id": "x_G4JO0NLQ-E",
        "outputId": "751eef78-64bc-4575-f490-c88883cdc049"
      },
      "execution_count": null,
      "outputs": [
        {
          "output_type": "stream",
          "name": "stdout",
          "text": [
            "Second element of mixed_tuple: apple\n",
            "Sliced and Reversed Tuple: (4, 3, 2)\n",
            "Combined Tuple: ('a', 'b', 'c', 1, 2, 3)\n",
            "First Cat Index: 0\n",
            "Second Cat Index: 3\n",
            "Total Cats: 2\n",
            "X-coordinate: 3\n",
            "Y-coordinate: 4\n"
          ]
        }
      ]
    },
    {
      "cell_type": "markdown",
      "source": [
        "# Sets Basics\n",
        "● Sets Operations\n",
        "● Union\n",
        "● Intersection\n",
        "● Difference and Symmetric Difference."
      ],
      "metadata": {
        "id": "-vWur7bWdUIf"
      }
    },
    {
      "cell_type": "code",
      "source": [
        "my_set = {1, 2, 3}\n",
        "my_set.add(4)\n",
        "print(my_set)\n",
        "\n",
        "if 2 in my_set:\n",
        "    my_set.remove(2)\n",
        "print(my_set)\n",
        "\n",
        "my_list = [1, 2, 2, 3, 4, 4, 5]\n",
        "unique_set = set(my_list)\n",
        "print(unique_set)\n"
      ],
      "metadata": {
        "colab": {
          "base_uri": "https://localhost:8080/"
        },
        "id": "uMTZMp65M8b6",
        "outputId": "8e6be6f6-fc4a-43db-adf7-435ecd7a3692"
      },
      "execution_count": null,
      "outputs": [
        {
          "output_type": "stream",
          "name": "stdout",
          "text": [
            "{1, 2, 3, 4}\n",
            "{1, 3, 4}\n",
            "{1, 2, 3, 4, 5}\n"
          ]
        }
      ]
    },
    {
      "cell_type": "code",
      "source": [
        "set1 = {1, 2, 3}\n",
        "set2 = {3, 4, 5}\n",
        "union_set = set1.union(set2)\n",
        "print(union_set)\n",
        "\n",
        "intersection_set = set1.intersection(set2)\n",
        "print(intersection_set)\n",
        "\n",
        "difference_set = set1.difference(set2)\n",
        "print(difference_set)\n"
      ],
      "metadata": {
        "colab": {
          "base_uri": "https://localhost:8080/"
        },
        "id": "88xlonEMPLt6",
        "outputId": "6f2d0496-7c8b-4109-e9cb-c0071f825851"
      },
      "execution_count": null,
      "outputs": [
        {
          "output_type": "stream",
          "name": "stdout",
          "text": [
            "{1, 2, 3, 4, 5}\n",
            "{3}\n",
            "{1, 2}\n"
          ]
        }
      ]
    },
    {
      "cell_type": "code",
      "source": [
        "combined_set = set1 | set2\n",
        "print(combined_set)\n",
        "\n",
        "set3 = {5, 6, 7}\n",
        "union_set = set1.union(set2, set3)\n",
        "print(union_set)\n"
      ],
      "metadata": {
        "colab": {
          "base_uri": "https://localhost:8080/"
        },
        "id": "7TUvVyN3PXmU",
        "outputId": "b9d93d1f-fe15-455d-ee7f-a5281d162702"
      },
      "execution_count": null,
      "outputs": [
        {
          "output_type": "stream",
          "name": "stdout",
          "text": [
            "{1, 2, 3, 4, 5}\n",
            "{1, 2, 3, 4, 5, 6, 7}\n"
          ]
        }
      ]
    },
    {
      "cell_type": "code",
      "source": [
        "common_elements = set1 & set2\n",
        "print(common_elements)\n",
        "\n",
        "intersection_set = set1.intersection(set2, set3)\n",
        "print(intersection_set)\n"
      ],
      "metadata": {
        "colab": {
          "base_uri": "https://localhost:8080/"
        },
        "id": "4x2T_UREPjPU",
        "outputId": "04cf219c-91c2-46d6-a2aa-2d93cc43c052"
      },
      "execution_count": null,
      "outputs": [
        {
          "output_type": "stream",
          "name": "stdout",
          "text": [
            "{3}\n",
            "set()\n"
          ]
        }
      ]
    },
    {
      "cell_type": "code",
      "source": [
        "unique_to_set1 = set1 - set2\n",
        "print(unique_to_set1)\n",
        "\n",
        "difference_set = set1.difference(set2, set3)\n",
        "print(difference_set)\n"
      ],
      "metadata": {
        "colab": {
          "base_uri": "https://localhost:8080/"
        },
        "id": "g_YzV-s1QEG1",
        "outputId": "88f7a25d-b180-4620-f1ba-4cd781b8e0ed"
      },
      "execution_count": null,
      "outputs": [
        {
          "output_type": "stream",
          "name": "stdout",
          "text": [
            "{1, 2}\n",
            "{1, 2}\n"
          ]
        }
      ]
    },
    {
      "cell_type": "code",
      "source": [
        "symmetric_difference = set1 ^ set2\n",
        "print(symmetric_difference)\n"
      ],
      "metadata": {
        "colab": {
          "base_uri": "https://localhost:8080/"
        },
        "id": "qP4XnVNIQMTq",
        "outputId": "81940fe4-a042-4d2b-dd86-18819ad083f8"
      },
      "execution_count": null,
      "outputs": [
        {
          "output_type": "stream",
          "name": "stdout",
          "text": [
            "{1, 2, 4, 5}\n"
          ]
        }
      ]
    },
    {
      "cell_type": "code",
      "source": [
        "symmetric_difference_set = set1.symmetric_difference(set2)\n",
        "print(symmetric_difference_set)\n"
      ],
      "metadata": {
        "colab": {
          "base_uri": "https://localhost:8080/"
        },
        "id": "a6b7km3NQZ2R",
        "outputId": "75111e56-a826-4aaa-92b4-aa6caf09069f"
      },
      "execution_count": null,
      "outputs": [
        {
          "output_type": "stream",
          "name": "stdout",
          "text": [
            "{1, 2, 4, 5}\n"
          ]
        }
      ]
    },
    {
      "cell_type": "code",
      "source": [
        "# Sets Basics\n",
        "# Creating a set\n",
        "fruits = {\"apple\", \"banana\", \"cherry\"}\n",
        "\n",
        "# Adding elements to a set\n",
        "fruits.add(\"orange\")\n",
        "fruits.update([\"grape\", \"kiwi\"])\n",
        "\n",
        "# Removing elements from a set\n",
        "fruits.remove(\"banana\")\n",
        "fruits.discard(\"strawberry\")\n",
        "\n",
        "# Sets Operations\n",
        "# Checking if an element is in a set\n",
        "if \"apple\" in fruits:\n",
        "    print(\"Apple exists in the set.\")\n",
        "\n",
        "# Finding the length of a set\n",
        "set_length = len(fruits)\n",
        "print(\"Set Length:\", set_length)\n",
        "\n",
        "# Sets Union\n",
        "# Creating two sets\n",
        "set1 = {1, 2, 3, 4, 5}\n",
        "set2 = {3, 4, 5, 6, 7}\n",
        "\n",
        "# Union of two sets\n",
        "union_set = set1.union(set2)\n",
        "print(\"Union of Set1 and Set2:\", union_set)\n",
        "\n",
        "# Sets Intersection\n",
        "# Intersection of two sets\n",
        "intersection_set = set1.intersection(set2)\n",
        "print(\"Intersection of Set1 and Set2:\", intersection_set)\n",
        "\n",
        "# Sets Difference\n",
        "# Difference of two sets\n",
        "difference_set = set1.difference(set2)\n",
        "print(\"Set1 - Set2:\", difference_set)\n",
        "\n",
        "# Sets Symmetric Difference\n",
        "# Symmetric difference of two sets\n",
        "symmetric_difference_set = set1.symmetric_difference(set2)\n",
        "print(\"Symmetric Difference of Set1 and Set2:\", symmetric_difference_set)\n",
        "\n",
        "# Advanced Example\n",
        "# Using set comprehensions to create a set of squared values\n",
        "numbers = {1, 2, 3, 4, 5}\n",
        "squared_set = {x**2 for x in numbers}\n",
        "print(\"Squared Set:\", squared_set)\n",
        "\n",
        "# Advanced Example: Sets of Sets\n",
        "# Creating sets of sets and performing operations\n",
        "set_of_sets1 = {frozenset({1, 2}), frozenset({3, 4})}\n",
        "set_of_sets2 = {frozenset({3, 4}), frozenset({4, 5})}\n",
        "\n",
        "# Union of sets of sets\n",
        "union_set_of_sets = {a.union(b) for a in set_of_sets1 for b in set_of_sets2}\n",
        "print(\"Union of Sets of Sets:\", union_set_of_sets)\n"
      ],
      "metadata": {
        "colab": {
          "base_uri": "https://localhost:8080/"
        },
        "id": "rgT1bMnNQfZD",
        "outputId": "cbf07191-1e8d-4d8c-a9d9-1d92359a0283"
      },
      "execution_count": null,
      "outputs": [
        {
          "output_type": "stream",
          "name": "stdout",
          "text": [
            "Apple exists in the set.\n",
            "Set Length: 5\n",
            "Union of Set1 and Set2: {1, 2, 3, 4, 5, 6, 7}\n",
            "Intersection of Set1 and Set2: {3, 4, 5}\n",
            "Set1 - Set2: {1, 2}\n",
            "Symmetric Difference of Set1 and Set2: {1, 2, 6, 7}\n",
            "Squared Set: {1, 4, 9, 16, 25}\n",
            "Union of Sets of Sets: {frozenset({3, 4}), frozenset({1, 2, 4, 5}), frozenset({1, 2, 3, 4}), frozenset({3, 4, 5})}\n"
          ]
        }
      ]
    },
    {
      "cell_type": "markdown",
      "source": [
        "# Classes\n",
        "● Objects\n",
        "● Method Calls\n",
        "● Inheritance and Its Types\n",
        "● Overloading\n",
        "● Overriding\n",
        "● Data Hiding\n",
        "● Operator Overloading"
      ],
      "metadata": {
        "id": "QrowHVYXdb9v"
      }
    },
    {
      "cell_type": "code",
      "source": [
        "class Person:\n",
        "    def __init__(self, name, age):\n",
        "        self.name = name\n",
        "        self.age = age\n",
        "\n",
        "person1 = Person(\"Alice\", 30)\n",
        "print(f\"Name: {person1.name}, Age: {person1.age}\")\n"
      ],
      "metadata": {
        "colab": {
          "base_uri": "https://localhost:8080/"
        },
        "id": "Wnq-Bde5Q6n2",
        "outputId": "283a9ada-84ae-4aaf-8b7a-d31ac1f23b88"
      },
      "execution_count": null,
      "outputs": [
        {
          "output_type": "stream",
          "name": "stdout",
          "text": [
            "Name: Alice, Age: 30\n"
          ]
        }
      ]
    },
    {
      "cell_type": "code",
      "source": [
        "class Person:\n",
        "    def __init__(self, name, age):\n",
        "        self.name = name\n",
        "        self.age = age\n",
        "\n",
        "    def greet(self):\n",
        "        print(f\"Hello, my name is {self.name}.\")\n",
        "\n",
        "person1 = Person(\"Alice\", 30)\n",
        "person1.greet()\n"
      ],
      "metadata": {
        "colab": {
          "base_uri": "https://localhost:8080/"
        },
        "id": "RrcD2QP8SyHG",
        "outputId": "db161eae-065e-4060-e780-16cbedf5dfcd"
      },
      "execution_count": null,
      "outputs": [
        {
          "output_type": "stream",
          "name": "stdout",
          "text": [
            "Hello, my name is Alice.\n"
          ]
        }
      ]
    },
    {
      "cell_type": "code",
      "source": [
        "class Person:\n",
        "    total_people = 0\n",
        "\n",
        "    def __init__(self, name, age):\n",
        "        self.name = name\n",
        "        self.age = age\n",
        "        Person.total_people += 1\n",
        "\n",
        "    @classmethod\n",
        "    def count_people(cls):\n",
        "        print(f\"Total people: {cls.total_people}\")\n",
        "\n",
        "person1 = Person(\"Alice\", 30)\n",
        "person2 = Person(\"Bob\", 25)\n",
        "Person.count_people()\n"
      ],
      "metadata": {
        "colab": {
          "base_uri": "https://localhost:8080/"
        },
        "id": "W0xJLpEGS5Xq",
        "outputId": "3ad03c5e-1903-47a0-8956-cc4b7a6dc64e"
      },
      "execution_count": null,
      "outputs": [
        {
          "output_type": "stream",
          "name": "stdout",
          "text": [
            "Total people: 2\n"
          ]
        }
      ]
    },
    {
      "cell_type": "code",
      "source": [
        "class Animal:\n",
        "    def speak(self):\n",
        "        print (\"FROM ANIMAL\")\n",
        "\n",
        "\n",
        "class Dog(Animal):\n",
        "    def speak(self):\n",
        "        print(\"Woof!\")\n",
        "\n",
        "dog = Dog()\n",
        "dog.speak()\n"
      ],
      "metadata": {
        "colab": {
          "base_uri": "https://localhost:8080/"
        },
        "id": "lZKn4LSnTsQB",
        "outputId": "6d578b04-8f40-442c-97d6-f29975af9424"
      },
      "execution_count": null,
      "outputs": [
        {
          "output_type": "stream",
          "name": "stdout",
          "text": [
            "Woof!\n"
          ]
        }
      ]
    },
    {
      "cell_type": "code",
      "source": [
        "class Animal:\n",
        "    def speak(self):\n",
        "        print (\"FROM ANIMAL\")\n",
        "\n",
        "class Dog(Animal):\n",
        "    def speak(self):\n",
        "        super().speak()\n",
        "        print(\"Woof!\")\n",
        "\n",
        "dog = Dog()\n",
        "dog.speak()\n"
      ],
      "metadata": {
        "colab": {
          "base_uri": "https://localhost:8080/"
        },
        "id": "Ia-ycwZ8UcK_",
        "outputId": "8d53d318-18ee-4075-c234-89d8d321a006"
      },
      "execution_count": null,
      "outputs": [
        {
          "output_type": "stream",
          "name": "stdout",
          "text": [
            "FROM ANIMAL\n",
            "Woof!\n"
          ]
        }
      ]
    },
    {
      "cell_type": "code",
      "source": [
        "class A:\n",
        "    def speak(self):\n",
        "        print(\"A speaking\")\n",
        "\n",
        "class B:\n",
        "    def speak(self):\n",
        "        print(\"B speaking\")\n",
        "\n",
        "class C(A, B):\n",
        "     def speak(self):\n",
        "        super().speak()\n",
        "        # super(B, obj).speak()\n",
        "        print(\"C speaking\")\n",
        "\n",
        "obj = C()\n",
        "obj.speak()\n",
        "# super(B, obj).speak()\n",
        "class C(B,A):\n",
        "     def speak(self):\n",
        "        super().speak()\n",
        "        # super(B, obj).speak()\n",
        "        print(\"C speaking\")\n",
        "\n",
        "obj = C()\n",
        "obj.speak()"
      ],
      "metadata": {
        "id": "MQ1EgU3ZUv6S",
        "colab": {
          "base_uri": "https://localhost:8080/"
        },
        "outputId": "049253b9-4aac-4875-a39c-fb2ffbf571ec"
      },
      "execution_count": null,
      "outputs": [
        {
          "output_type": "stream",
          "name": "stdout",
          "text": [
            "A speaking\n",
            "C speaking\n",
            "B speaking\n",
            "C speaking\n"
          ]
        }
      ]
    },
    {
      "cell_type": "code",
      "source": [
        "class Calculator:\n",
        "    def add(self, a, b):\n",
        "        return a + b\n",
        "\n",
        "    def add(self, a, b, c):\n",
        "        return a + b + c\n",
        "\n",
        "calc = Calculator()\n",
        "result = calc.add(1, 2, 3)\n",
        "print(\"Sum:\", result)\n"
      ],
      "metadata": {
        "colab": {
          "base_uri": "https://localhost:8080/"
        },
        "id": "aQZoCpEEWFMG",
        "outputId": "52155031-72a2-43b1-c6b8-92ce76dddec3"
      },
      "execution_count": null,
      "outputs": [
        {
          "output_type": "stream",
          "name": "stdout",
          "text": [
            "Sum: 6\n"
          ]
        }
      ]
    },
    {
      "cell_type": "code",
      "source": [
        "class Animal:\n",
        "    def speak(self):\n",
        "        print(\"Animal speaking\")\n",
        "\n",
        "class Dog(Animal):\n",
        "    def speak(self):\n",
        "        print(\"Dog barking\")\n",
        "\n",
        "dog = Dog()\n",
        "dog.speak()\n"
      ],
      "metadata": {
        "colab": {
          "base_uri": "https://localhost:8080/"
        },
        "id": "gdERqsBYZGkL",
        "outputId": "b2fe4fe1-2d31-4f49-d800-bd181ae699e3"
      },
      "execution_count": null,
      "outputs": [
        {
          "output_type": "stream",
          "name": "stdout",
          "text": [
            "Dog barking\n"
          ]
        }
      ]
    },
    {
      "cell_type": "code",
      "source": [
        "class Circle:\n",
        "    def __init__(self, radius):\n",
        "        self._radius = radius\n",
        "\n",
        "    @property\n",
        "    def radius(self):\n",
        "        return self._radius\n",
        "\n",
        "    @radius.setter\n",
        "    def radius(self, value):\n",
        "        if value < 0:\n",
        "            raise ValueError(\"Radius cannot be negative\")\n",
        "        self._radius = value\n",
        "\n",
        "circle = Circle(5)\n",
        "circle.radius = 7\n",
        "print(\"Radius:\", circle.radius)\n"
      ],
      "metadata": {
        "colab": {
          "base_uri": "https://localhost:8080/"
        },
        "id": "ijuPa3ZvZShX",
        "outputId": "44e00848-d4ec-44da-d95f-c530031eb4ee"
      },
      "execution_count": null,
      "outputs": [
        {
          "output_type": "stream",
          "name": "stdout",
          "text": [
            "Radius: 7\n"
          ]
        }
      ]
    },
    {
      "cell_type": "code",
      "source": [
        "class MyClass:\n",
        "    def __init__(self, data):\n",
        "        self._data = data\n",
        "\n",
        "    def display(self):\n",
        "        print(\"Data:\", self._data)\n",
        "\n",
        "obj = MyClass(42)\n",
        "print(obj._data)\n"
      ],
      "metadata": {
        "colab": {
          "base_uri": "https://localhost:8080/"
        },
        "id": "iWsO0WGld8OA",
        "outputId": "3ca4e437-2af2-4716-fdba-9b6e94276b58"
      },
      "execution_count": null,
      "outputs": [
        {
          "output_type": "stream",
          "name": "stdout",
          "text": [
            "42\n"
          ]
        }
      ]
    },
    {
      "cell_type": "code",
      "source": [
        "class MyClass:\n",
        "    def __init__(self, data):\n",
        "        self.__data = data\n",
        "\n",
        "    def display(self):\n",
        "        print(\"Data:\", self.__data)\n",
        "\n",
        "obj = MyClass(42)\n",
        "print(obj._MyClass__data)\n"
      ],
      "metadata": {
        "id": "gXsQnC_bfZ7V",
        "colab": {
          "base_uri": "https://localhost:8080/"
        },
        "outputId": "c3d60266-1a37-4821-9e87-9c367df52a27"
      },
      "execution_count": null,
      "outputs": [
        {
          "output_type": "stream",
          "name": "stdout",
          "text": [
            "42\n"
          ]
        }
      ]
    },
    {
      "cell_type": "code",
      "source": [
        "class ComplexNumber:\n",
        "    def __init__(self, real, imag):\n",
        "        self.real = real\n",
        "        self.imag = imag\n",
        "\n",
        "    def __add__(self, other):\n",
        "        return ComplexNumber(self.real + other.real, self.imag + other.imag)\n",
        "\n",
        "num1 = ComplexNumber(1, 2)\n",
        "num2 = ComplexNumber(3, 4)\n",
        "result = num1 + num2\n",
        "print(f\"Result: {result.real} + {result.imag}i\")\n"
      ],
      "metadata": {
        "colab": {
          "base_uri": "https://localhost:8080/"
        },
        "id": "rGRwH7KwnJ6O",
        "outputId": "937a65d2-6f32-4e3d-e7fd-af4e5c9be86f"
      },
      "execution_count": null,
      "outputs": [
        {
          "output_type": "stream",
          "name": "stdout",
          "text": [
            "Result: 4 + 6i\n"
          ]
        }
      ]
    },
    {
      "cell_type": "code",
      "source": [
        "class CustomList:\n",
        "    def __init__(self):\n",
        "        self.data = [1, 2, 3, 4]\n",
        "\n",
        "    def __getitem__(self, index):\n",
        "        return self.data[index]\n",
        "\n",
        "my_list = CustomList()\n",
        "print(my_list[2])\n"
      ],
      "metadata": {
        "colab": {
          "base_uri": "https://localhost:8080/"
        },
        "id": "x0lD79henTxA",
        "outputId": "e67e1b18-313f-4635-91ef-00472b5ed03b"
      },
      "execution_count": null,
      "outputs": [
        {
          "output_type": "stream",
          "name": "stdout",
          "text": [
            "3\n"
          ]
        }
      ]
    },
    {
      "cell_type": "code",
      "source": [
        "def start():\n",
        "    print(\"This is the start function.\")\n",
        "\n",
        "def main():\n",
        "    start()\n",
        "    print(\"This is the main function.\")\n",
        "    start()\n",
        "\n",
        "if __name__ == \"__main__\":\n",
        "    main()\n"
      ],
      "metadata": {
        "colab": {
          "base_uri": "https://localhost:8080/"
        },
        "id": "eQ_iNBxAnqdH",
        "outputId": "fc95f5df-c274-4a22-9786-a89cccb83324"
      },
      "execution_count": null,
      "outputs": [
        {
          "output_type": "stream",
          "name": "stdout",
          "text": [
            "This is the start function.\n",
            "This is the main function.\n",
            "This is the start function.\n"
          ]
        }
      ]
    },
    {
      "cell_type": "code",
      "source": [
        "class MyClass:\n",
        "    def __init__(self):\n",
        "        self.public_variable = \"This is a public variable\"\n",
        "\n",
        "    def public_method(self):\n",
        "        return \"This is a public method\"\n",
        "\n",
        "obj = MyClass()\n",
        "print(obj.public_variable)\n",
        "print(obj.public_method())\n"
      ],
      "metadata": {
        "colab": {
          "base_uri": "https://localhost:8080/"
        },
        "id": "7RSAqMV-pVww",
        "outputId": "05dc55a6-c0ec-4d18-df07-8cb7a95344f5"
      },
      "execution_count": null,
      "outputs": [
        {
          "output_type": "stream",
          "name": "stdout",
          "text": [
            "This is a public variable\n",
            "This is a public method\n"
          ]
        }
      ]
    },
    {
      "cell_type": "code",
      "source": [
        "class MyClass:\n",
        "    def __init__(self):\n",
        "        self.__private_variable = \"This is a private variable\"\n",
        "\n",
        "    def __private_method(self):\n",
        "        return \"This is a private method\"\n",
        "\n",
        "obj = MyClass()\n",
        "print(obj._MyClass__private_variable)  # Accessing a private variable (not recommended)\n",
        "print(obj._MyClass__private_method())  # Accessing a private method (not recommended)\n"
      ],
      "metadata": {
        "colab": {
          "base_uri": "https://localhost:8080/"
        },
        "id": "MKPpgS5-pmLp",
        "outputId": "0d685ea0-4309-494b-8378-d533326ce121"
      },
      "execution_count": null,
      "outputs": [
        {
          "output_type": "stream",
          "name": "stdout",
          "text": [
            "This is a private variable\n",
            "This is a private method\n"
          ]
        }
      ]
    },
    {
      "cell_type": "code",
      "source": [
        "class MyClass:\n",
        "    def __init__(self):\n",
        "        self._protected_variable = \"This is a protected variable\"\n",
        "\n",
        "    def _protected_method(self):\n",
        "        return \"This is a protected method\"\n",
        "\n",
        "obj = MyClass()\n",
        "print(obj._protected_variable)  # Accessing a protected variable (by convention)\n",
        "print(obj._protected_method())  # Accessing a protected method (by convention)\n"
      ],
      "metadata": {
        "colab": {
          "base_uri": "https://localhost:8080/"
        },
        "id": "e7sY1HkJp5fM",
        "outputId": "f6a8e904-cc3a-4de9-8522-523d780b314c"
      },
      "execution_count": null,
      "outputs": [
        {
          "output_type": "stream",
          "name": "stdout",
          "text": [
            "This is a protected variable\n",
            "This is a protected method\n"
          ]
        }
      ]
    },
    {
      "cell_type": "code",
      "source": [
        "def greet(name, message):\n",
        "    print(f\"Hello, {name}! {message}\")\n",
        "\n",
        "greet(name=\"Alice\", message=\"How are you today?\")\n"
      ],
      "metadata": {
        "colab": {
          "base_uri": "https://localhost:8080/"
        },
        "id": "2majw25cqMA0",
        "outputId": "fda5a96c-932d-40b7-a467-484a37241c45"
      },
      "execution_count": null,
      "outputs": [
        {
          "output_type": "stream",
          "name": "stdout",
          "text": [
            "Hello, Alice! How are you today?\n"
          ]
        }
      ]
    },
    {
      "cell_type": "code",
      "source": [
        "def print_info(**kwargs):\n",
        "    for key, value in kwargs.items():\n",
        "        print(f\"{key}: {value}\")\n",
        "\n",
        "print_info(name=\"Alice\", age=30, city=\"New York\")\n"
      ],
      "metadata": {
        "colab": {
          "base_uri": "https://localhost:8080/"
        },
        "id": "W9KM9_ydq0te",
        "outputId": "7e934b22-4d19-4f6b-917d-49d6cec4da53"
      },
      "execution_count": null,
      "outputs": [
        {
          "output_type": "stream",
          "name": "stdout",
          "text": [
            "name: Alice\n",
            "age: 30\n",
            "city: New York\n"
          ]
        }
      ]
    },
    {
      "cell_type": "code",
      "source": [
        "person_info = {\"name\": \"Bob\", \"age\": 25, \"city\": \"Paris\"}\n",
        "print_info(**person_info)\n"
      ],
      "metadata": {
        "colab": {
          "base_uri": "https://localhost:8080/"
        },
        "id": "hfs5t2sJrj5V",
        "outputId": "cf920db4-c4a8-4919-e60c-417d495611f6"
      },
      "execution_count": null,
      "outputs": [
        {
          "output_type": "stream",
          "name": "stdout",
          "text": [
            "name: Bob\n",
            "age: 25\n",
            "city: Paris\n"
          ]
        }
      ]
    },
    {
      "cell_type": "code",
      "source": [
        "def display_info(name, age, city):\n",
        "    print(f\"Name: {name}, Age: {age}, City: {city}\")\n",
        "\n",
        "display_info(\"Charlie\", city=\"London\", age=35)\n"
      ],
      "metadata": {
        "colab": {
          "base_uri": "https://localhost:8080/"
        },
        "id": "EwppDz0wr1UB",
        "outputId": "92b833d2-8bdc-4d59-bc06-9b0ae133853b"
      },
      "execution_count": null,
      "outputs": [
        {
          "output_type": "stream",
          "name": "stdout",
          "text": [
            "Name: Charlie, Age: 35, City: London\n"
          ]
        }
      ]
    },
    {
      "cell_type": "code",
      "source": [
        "def function1(x, y):\n",
        "    # ...\n",
        "\n",
        "def function2(x, y, z):\n",
        "    # ...\n",
        "\n",
        "function1(x=1, y=2)\n",
        "function2(x=3, y=4, z=5)\n"
      ],
      "metadata": {
        "colab": {
          "base_uri": "https://localhost:8080/",
          "height": 140
        },
        "id": "CBVCPib7sEdL",
        "outputId": "a1f112cb-4b95-4d2a-abf8-a157a270736b"
      },
      "execution_count": null,
      "outputs": [
        {
          "output_type": "error",
          "ename": "IndentationError",
          "evalue": "ignored",
          "traceback": [
            "\u001b[0;36m  File \u001b[0;32m\"<ipython-input-54-c883e0dc1046>\"\u001b[0;36m, line \u001b[0;32m4\u001b[0m\n\u001b[0;31m    def function2(x, y, z):\u001b[0m\n\u001b[0m    ^\u001b[0m\n\u001b[0;31mIndentationError\u001b[0m\u001b[0;31m:\u001b[0m expected an indented block after function definition on line 1\n"
          ]
        }
      ]
    },
    {
      "cell_type": "markdown",
      "source": [
        "# File Basics\n",
        "● Opening Files\n",
        "● Reading Files\n",
        "● Writing Files\n",
        "● Editing Files\n",
        "● Working with different extensions of file\n",
        "● With Statements"
      ],
      "metadata": {
        "id": "7oLiMtoLsezH"
      }
    },
    {
      "cell_type": "code",
      "source": [
        "# Opening a file in read mode\n",
        "file = open(\"example.txt\", \"r\")\n",
        "\n",
        "# Reading the content of the file\n",
        "content = file.read()\n",
        "print(content)\n",
        "\n",
        "# Closing the file\n",
        "file.close()\n"
      ],
      "metadata": {
        "colab": {
          "base_uri": "https://localhost:8080/"
        },
        "id": "3_EueNf-sMMD",
        "outputId": "bb2af444-3654-48bf-ac53-14e2a5908700"
      },
      "execution_count": null,
      "outputs": [
        {
          "output_type": "stream",
          "name": "stdout",
          "text": [
            "This is a sample text.\n"
          ]
        }
      ]
    },
    {
      "cell_type": "code",
      "source": [
        "# Using 'with' statement for safe file handling\n",
        "with open(\"example.txt\", \"w\") as file:\n",
        "    file.write(\"This is a sample text.\")\n",
        "\n",
        "# No need to explicitly close the file; it's done automatically\n"
      ],
      "metadata": {
        "id": "ZD8LuZ8ws_oR"
      },
      "execution_count": null,
      "outputs": []
    },
    {
      "cell_type": "code",
      "source": [
        "with open(\"example.txt\", \"r\") as file:\n",
        "    for line in file:\n",
        "        print(line, end=\"\")  # end=\"\" prevents adding extra newlines\n"
      ],
      "metadata": {
        "colab": {
          "base_uri": "https://localhost:8080/"
        },
        "id": "Y-AaiCZXtd1I",
        "outputId": "62143964-6595-44b6-a218-ed097a3dc11a"
      },
      "execution_count": null,
      "outputs": [
        {
          "output_type": "stream",
          "name": "stdout",
          "text": [
            "This is a sample text."
          ]
        }
      ]
    },
    {
      "cell_type": "code",
      "source": [
        "with open(\"example.txt\", \"r\") as file:\n",
        "    lines = file.readlines()\n",
        "    for line in lines:\n",
        "        print(line, end=\"\")\n"
      ],
      "metadata": {
        "colab": {
          "base_uri": "https://localhost:8080/"
        },
        "id": "3v7RiOpMtsYz",
        "outputId": "9f253b11-58d8-4cb6-cdae-2cad00403804"
      },
      "execution_count": null,
      "outputs": [
        {
          "output_type": "stream",
          "name": "stdout",
          "text": [
            "This is a sample text."
          ]
        }
      ]
    },
    {
      "cell_type": "code",
      "source": [
        "with open(\"output.txt\", \"w\") as file:\n",
        "    file.write(\"This is a new file created by Python.\")\n"
      ],
      "metadata": {
        "id": "jvhwUUWYuBDn"
      },
      "execution_count": null,
      "outputs": []
    },
    {
      "cell_type": "code",
      "source": [
        "with open(\"output.txt\", \"r\") as file:\n",
        "    lines = file.readlines()\n",
        "    for line in lines:\n",
        "        print(line, end=\"\")\n"
      ],
      "metadata": {
        "colab": {
          "base_uri": "https://localhost:8080/"
        },
        "id": "zycu3BnDuU39",
        "outputId": "c14d626a-029f-49d0-fd2a-945e5ac51ef0"
      },
      "execution_count": null,
      "outputs": [
        {
          "output_type": "stream",
          "name": "stdout",
          "text": [
            "This is a new file created by Python.\n",
            "This text is appended to the file."
          ]
        }
      ]
    },
    {
      "cell_type": "code",
      "source": [
        "with open(\"output.txt\", \"a\") as file:\n",
        "    file.write(\"\\nThis text is appended to the file.\")\n"
      ],
      "metadata": {
        "id": "wvtVqalVud-o"
      },
      "execution_count": null,
      "outputs": []
    },
    {
      "cell_type": "code",
      "source": [
        "file_name = \"output.txt\"\n",
        "new_content = []\n",
        "\n",
        "with open(file_name, \"r\") as file:\n",
        "    for line in file:\n",
        "        new_line = line.replace(\"new\", \"newest\")\n",
        "        new_content.append(new_line)\n",
        "\n",
        "with open(file_name, \"w\") as file:\n",
        "    file.writelines(new_content)\n"
      ],
      "metadata": {
        "id": "SvbGx0RXukeG"
      },
      "execution_count": null,
      "outputs": []
    },
    {
      "cell_type": "code",
      "source": [
        "with open(\"output.txt\", \"r\") as file:\n",
        "    lines = file.readlines()\n",
        "    for line in lines:\n",
        "        print(line, end=\"\")\n"
      ],
      "metadata": {
        "colab": {
          "base_uri": "https://localhost:8080/"
        },
        "id": "XAIlmyrou0Xh",
        "outputId": "dfbbe899-2ffa-40d4-ccba-230ab2f3398e"
      },
      "execution_count": null,
      "outputs": [
        {
          "output_type": "stream",
          "name": "stdout",
          "text": [
            "This is a newest file created by Python.\n",
            "This text is appended to the file."
          ]
        }
      ]
    },
    {
      "cell_type": "code",
      "source": [
        "import csv\n",
        "\n",
        "with open(\"data.csv\", \"r\") as file:\n",
        "    csv_reader = csv.reader(file)\n",
        "    for row in csv_reader:\n",
        "        print(row)\n"
      ],
      "metadata": {
        "colab": {
          "base_uri": "https://localhost:8080/",
          "height": 245
        },
        "id": "2ST3pdfzvBdI",
        "outputId": "95431343-7309-46bc-d450-38669fce57cb"
      },
      "execution_count": null,
      "outputs": [
        {
          "output_type": "error",
          "ename": "FileNotFoundError",
          "evalue": "ignored",
          "traceback": [
            "\u001b[0;31m---------------------------------------------------------------------------\u001b[0m",
            "\u001b[0;31mFileNotFoundError\u001b[0m                         Traceback (most recent call last)",
            "\u001b[0;32m<ipython-input-73-80a07ac6cb0e>\u001b[0m in \u001b[0;36m<cell line: 3>\u001b[0;34m()\u001b[0m\n\u001b[1;32m      1\u001b[0m \u001b[0;32mimport\u001b[0m \u001b[0mcsv\u001b[0m\u001b[0;34m\u001b[0m\u001b[0;34m\u001b[0m\u001b[0m\n\u001b[1;32m      2\u001b[0m \u001b[0;34m\u001b[0m\u001b[0m\n\u001b[0;32m----> 3\u001b[0;31m \u001b[0;32mwith\u001b[0m \u001b[0mopen\u001b[0m\u001b[0;34m(\u001b[0m\u001b[0;34m\"data.csv\"\u001b[0m\u001b[0;34m,\u001b[0m \u001b[0;34m\"r\"\u001b[0m\u001b[0;34m)\u001b[0m \u001b[0;32mas\u001b[0m \u001b[0mfile\u001b[0m\u001b[0;34m:\u001b[0m\u001b[0;34m\u001b[0m\u001b[0;34m\u001b[0m\u001b[0m\n\u001b[0m\u001b[1;32m      4\u001b[0m     \u001b[0mcsv_reader\u001b[0m \u001b[0;34m=\u001b[0m \u001b[0mcsv\u001b[0m\u001b[0;34m.\u001b[0m\u001b[0mreader\u001b[0m\u001b[0;34m(\u001b[0m\u001b[0mfile\u001b[0m\u001b[0;34m)\u001b[0m\u001b[0;34m\u001b[0m\u001b[0;34m\u001b[0m\u001b[0m\n\u001b[1;32m      5\u001b[0m     \u001b[0;32mfor\u001b[0m \u001b[0mrow\u001b[0m \u001b[0;32min\u001b[0m \u001b[0mcsv_reader\u001b[0m\u001b[0;34m:\u001b[0m\u001b[0;34m\u001b[0m\u001b[0;34m\u001b[0m\u001b[0m\n",
            "\u001b[0;31mFileNotFoundError\u001b[0m: [Errno 2] No such file or directory: 'data.csv'"
          ]
        }
      ]
    },
    {
      "cell_type": "code",
      "source": [
        "import json\n",
        "\n",
        "data = {\"name\": \"Alice\", \"age\": 30}\n",
        "with open(\"data.json\", \"w\") as file:\n",
        "    json.dump(data, file)\n"
      ],
      "metadata": {
        "id": "hTfYvQnlv4QH"
      },
      "execution_count": null,
      "outputs": []
    },
    {
      "cell_type": "code",
      "source": [
        "class MyContextManager:\n",
        "    def __enter__(self):\n",
        "        print(\"Entering the context\")\n",
        "        return self  # You can return an object that you want to use in the 'with' block\n",
        "\n",
        "    def __exit__(self, exc_type, exc_value, traceback):\n",
        "        print(\"Exiting the context\")\n",
        "\n",
        "with MyContextManager() as cm:\n",
        "    print(\"Inside the context\")\n",
        "\n",
        "# Output:\n",
        "# Entering the context\n",
        "# Inside the context\n",
        "# Exiting the context\n"
      ],
      "metadata": {
        "colab": {
          "base_uri": "https://localhost:8080/"
        },
        "id": "tSJcLKX_wHsh",
        "outputId": "853ef866-a05e-4e82-8ecf-f6736758845a"
      },
      "execution_count": null,
      "outputs": [
        {
          "output_type": "stream",
          "name": "stdout",
          "text": [
            "Entering the context\n",
            "Inside the context\n",
            "Exiting the context\n"
          ]
        }
      ]
    },
    {
      "cell_type": "markdown",
      "source": [
        "# Common Exceptions\n",
        "● Exception Handling\n",
        "● Try\n",
        "● Except\n",
        "● Try except else\n",
        "● Finally\n",
        "● Raising exceptions\n",
        "● Assertion"
      ],
      "metadata": {
        "id": "uocOwOXJxROC"
      }
    },
    {
      "cell_type": "code",
      "source": [
        "# Example of a ZeroDivisionError\n",
        "result = 5 / 0  # This will raise a ZeroDivisionError\n",
        "result"
      ],
      "metadata": {
        "colab": {
          "base_uri": "https://localhost:8080/",
          "height": 210
        },
        "id": "WEx0lgg8wZo8",
        "outputId": "629364b7-2c7b-4ea7-e1b9-7c61ee199040"
      },
      "execution_count": null,
      "outputs": [
        {
          "output_type": "error",
          "ename": "ZeroDivisionError",
          "evalue": "ignored",
          "traceback": [
            "\u001b[0;31m---------------------------------------------------------------------------\u001b[0m",
            "\u001b[0;31mZeroDivisionError\u001b[0m                         Traceback (most recent call last)",
            "\u001b[0;32m<ipython-input-76-0207dd8c812e>\u001b[0m in \u001b[0;36m<cell line: 2>\u001b[0;34m()\u001b[0m\n\u001b[1;32m      1\u001b[0m \u001b[0;31m# Example of a ZeroDivisionError\u001b[0m\u001b[0;34m\u001b[0m\u001b[0;34m\u001b[0m\u001b[0m\n\u001b[0;32m----> 2\u001b[0;31m \u001b[0mresult\u001b[0m \u001b[0;34m=\u001b[0m \u001b[0;36m5\u001b[0m \u001b[0;34m/\u001b[0m \u001b[0;36m0\u001b[0m  \u001b[0;31m# This will raise a ZeroDivisionError\u001b[0m\u001b[0;34m\u001b[0m\u001b[0;34m\u001b[0m\u001b[0m\n\u001b[0m\u001b[1;32m      3\u001b[0m \u001b[0mresult\u001b[0m\u001b[0;34m\u001b[0m\u001b[0;34m\u001b[0m\u001b[0m\n",
            "\u001b[0;31mZeroDivisionError\u001b[0m: division by zero"
          ]
        }
      ]
    },
    {
      "cell_type": "code",
      "source": [
        "# Example of a ValueError\n",
        "num = int(\"abc\")  # This will raise a ValueError\n",
        "num"
      ],
      "metadata": {
        "colab": {
          "base_uri": "https://localhost:8080/",
          "height": 210
        },
        "id": "cXWmELj2xWE9",
        "outputId": "63b8dcef-6c16-480a-c16f-d643d69b70d1"
      },
      "execution_count": null,
      "outputs": [
        {
          "output_type": "error",
          "ename": "ValueError",
          "evalue": "ignored",
          "traceback": [
            "\u001b[0;31m---------------------------------------------------------------------------\u001b[0m",
            "\u001b[0;31mValueError\u001b[0m                                Traceback (most recent call last)",
            "\u001b[0;32m<ipython-input-77-e891ec700bf3>\u001b[0m in \u001b[0;36m<cell line: 2>\u001b[0;34m()\u001b[0m\n\u001b[1;32m      1\u001b[0m \u001b[0;31m# Example of a ValueError\u001b[0m\u001b[0;34m\u001b[0m\u001b[0;34m\u001b[0m\u001b[0m\n\u001b[0;32m----> 2\u001b[0;31m \u001b[0mnum\u001b[0m \u001b[0;34m=\u001b[0m \u001b[0mint\u001b[0m\u001b[0;34m(\u001b[0m\u001b[0;34m\"abc\"\u001b[0m\u001b[0;34m)\u001b[0m  \u001b[0;31m# This will raise a ValueError\u001b[0m\u001b[0;34m\u001b[0m\u001b[0;34m\u001b[0m\u001b[0m\n\u001b[0m\u001b[1;32m      3\u001b[0m \u001b[0mnum\u001b[0m\u001b[0;34m\u001b[0m\u001b[0;34m\u001b[0m\u001b[0m\n",
            "\u001b[0;31mValueError\u001b[0m: invalid literal for int() with base 10: 'abc'"
          ]
        }
      ]
    },
    {
      "cell_type": "code",
      "source": [
        "try:\n",
        "    result = 5 / 0\n",
        "except ZeroDivisionError:\n",
        "    print(\"You can't divide by zero!\")\n"
      ],
      "metadata": {
        "colab": {
          "base_uri": "https://localhost:8080/"
        },
        "id": "KtKrIwO3xZw7",
        "outputId": "491e5b9b-626d-4854-d9a3-28aae5302041"
      },
      "execution_count": null,
      "outputs": [
        {
          "output_type": "stream",
          "name": "stdout",
          "text": [
            "You can't divide by zero!\n"
          ]
        }
      ]
    },
    {
      "cell_type": "code",
      "source": [
        "try:\n",
        "    num = int(\"abc\")\n",
        "except ValueError:\n",
        "    print(\"Invalid conversion to int\")\n",
        "except ZeroDivisionError:\n",
        "    print(\"You can't divide by zero!\")\n"
      ],
      "metadata": {
        "colab": {
          "base_uri": "https://localhost:8080/"
        },
        "id": "HYgJAuAGxgIn",
        "outputId": "548faa31-2554-4528-83ea-8874003a90bc"
      },
      "execution_count": null,
      "outputs": [
        {
          "output_type": "stream",
          "name": "stdout",
          "text": [
            "Invalid conversion to int\n"
          ]
        }
      ]
    },
    {
      "cell_type": "code",
      "source": [
        "try:\n",
        "    num = int(\"42\")\n",
        "except ValueError:\n",
        "    print(\"Invalid conversion to int\")\n",
        "else:\n",
        "    print(\"Conversion successful:\", num)\n"
      ],
      "metadata": {
        "colab": {
          "base_uri": "https://localhost:8080/"
        },
        "id": "dgydLNKlxj9Y",
        "outputId": "851284f3-a4b6-445f-c332-a5540e6b64b1"
      },
      "execution_count": null,
      "outputs": [
        {
          "output_type": "stream",
          "name": "stdout",
          "text": [
            "Conversion successful: 42\n"
          ]
        }
      ]
    },
    {
      "cell_type": "code",
      "source": [
        "try:\n",
        "    num = int(\"abc\")\n",
        "except ValueError:\n",
        "    print(\"Invalid conversion to int\")\n",
        "except ZeroDivisionError:\n",
        "    print(\"You can't divide by zero!\")\n",
        "else:\n",
        "    print(\"Conversion successful:\", num)\n"
      ],
      "metadata": {
        "colab": {
          "base_uri": "https://localhost:8080/"
        },
        "id": "rYZ2Bg6hx2K_",
        "outputId": "bce4f6c8-1e8c-441b-e5d6-3653f182ccfe"
      },
      "execution_count": null,
      "outputs": [
        {
          "output_type": "stream",
          "name": "stdout",
          "text": [
            "Invalid conversion to int\n"
          ]
        }
      ]
    },
    {
      "cell_type": "code",
      "source": [
        "try:\n",
        "    result = 5 / 2\n",
        "except ZeroDivisionError:\n",
        "    print(\"You can't divide by zero!\")\n",
        "finally:\n",
        "    print(\"Execution completed.\")\n"
      ],
      "metadata": {
        "colab": {
          "base_uri": "https://localhost:8080/"
        },
        "id": "E6GmSHwNyHS0",
        "outputId": "ff88e746-63e1-4ab0-9515-a390be0dd981"
      },
      "execution_count": null,
      "outputs": [
        {
          "output_type": "stream",
          "name": "stdout",
          "text": [
            "Execution completed.\n"
          ]
        }
      ]
    },
    {
      "cell_type": "code",
      "source": [
        "try:\n",
        "    num = int(\"42\")\n",
        "except ValueError:\n",
        "    print(\"Invalid conversion to int\")\n",
        "else:\n",
        "    print(\"Conversion successful:\", num)\n",
        "finally:\n",
        "    print(\"Execution completed.\")\n"
      ],
      "metadata": {
        "colab": {
          "base_uri": "https://localhost:8080/"
        },
        "id": "ULwqEYOeyVXJ",
        "outputId": "7d0a2fcf-1475-44c0-d529-96d3c614fcd4"
      },
      "execution_count": null,
      "outputs": [
        {
          "output_type": "stream",
          "name": "stdout",
          "text": [
            "Conversion successful: 42\n",
            "Execution completed.\n"
          ]
        }
      ]
    },
    {
      "cell_type": "code",
      "source": [
        "def divide(a, b):\n",
        "    if b == 0:\n",
        "        raise ZeroDivisionError(\"Division by zero is not allowed\")\n",
        "    return a / b\n",
        "\n",
        "try:\n",
        "    result = divide(5, 0)\n",
        "except ZeroDivisionError as e:\n",
        "    print(e)\n"
      ],
      "metadata": {
        "colab": {
          "base_uri": "https://localhost:8080/"
        },
        "id": "XuRuP-UvylNV",
        "outputId": "cad52d38-c8bb-459c-da2a-ac1ef492ce6d"
      },
      "execution_count": null,
      "outputs": [
        {
          "output_type": "stream",
          "name": "stdout",
          "text": [
            "Division by zero is not allowed\n"
          ]
        }
      ]
    },
    {
      "cell_type": "code",
      "source": [
        "class MyCustomError(Exception):\n",
        "    pass\n",
        "\n",
        "try:\n",
        "    raise MyCustomError(\"This is a custom exception\")\n",
        "except MyCustomError as e:\n",
        "    print(e)\n"
      ],
      "metadata": {
        "colab": {
          "base_uri": "https://localhost:8080/"
        },
        "id": "Ap7E__MDyq2J",
        "outputId": "54391394-100a-42b5-df49-ce481dda3776"
      },
      "execution_count": null,
      "outputs": [
        {
          "output_type": "stream",
          "name": "stdout",
          "text": [
            "This is a custom exception\n"
          ]
        }
      ]
    },
    {
      "cell_type": "code",
      "source": [
        "x = 5\n",
        "assert x > 0, \"x should be positive\"\n"
      ],
      "metadata": {
        "id": "CLy_U7NMy3Ez"
      },
      "execution_count": null,
      "outputs": []
    },
    {
      "cell_type": "code",
      "source": [
        "def divide(a, b):\n",
        "    assert b != 0, \"Division by zero is not allowed\"\n",
        "    return a / b\n",
        "\n",
        "result = divide(5, 0)\n"
      ],
      "metadata": {
        "colab": {
          "base_uri": "https://localhost:8080/",
          "height": 331
        },
        "id": "E2-e3S4PzAxs",
        "outputId": "a3b373a4-a455-4688-cdd5-0db4ac257ecb"
      },
      "execution_count": null,
      "outputs": [
        {
          "output_type": "error",
          "ename": "AssertionError",
          "evalue": "ignored",
          "traceback": [
            "\u001b[0;31m---------------------------------------------------------------------------\u001b[0m",
            "\u001b[0;31mAssertionError\u001b[0m                            Traceback (most recent call last)",
            "\u001b[0;32m<ipython-input-91-4fbc9c9ebf53>\u001b[0m in \u001b[0;36m<cell line: 5>\u001b[0;34m()\u001b[0m\n\u001b[1;32m      3\u001b[0m     \u001b[0;32mreturn\u001b[0m \u001b[0ma\u001b[0m \u001b[0;34m/\u001b[0m \u001b[0mb\u001b[0m\u001b[0;34m\u001b[0m\u001b[0;34m\u001b[0m\u001b[0m\n\u001b[1;32m      4\u001b[0m \u001b[0;34m\u001b[0m\u001b[0m\n\u001b[0;32m----> 5\u001b[0;31m \u001b[0mresult\u001b[0m \u001b[0;34m=\u001b[0m \u001b[0mdivide\u001b[0m\u001b[0;34m(\u001b[0m\u001b[0;36m5\u001b[0m\u001b[0;34m,\u001b[0m \u001b[0;36m0\u001b[0m\u001b[0;34m)\u001b[0m\u001b[0;34m\u001b[0m\u001b[0;34m\u001b[0m\u001b[0m\n\u001b[0m",
            "\u001b[0;32m<ipython-input-91-4fbc9c9ebf53>\u001b[0m in \u001b[0;36mdivide\u001b[0;34m(a, b)\u001b[0m\n\u001b[1;32m      1\u001b[0m \u001b[0;32mdef\u001b[0m \u001b[0mdivide\u001b[0m\u001b[0;34m(\u001b[0m\u001b[0ma\u001b[0m\u001b[0;34m,\u001b[0m \u001b[0mb\u001b[0m\u001b[0;34m)\u001b[0m\u001b[0;34m:\u001b[0m\u001b[0;34m\u001b[0m\u001b[0;34m\u001b[0m\u001b[0m\n\u001b[0;32m----> 2\u001b[0;31m     \u001b[0;32massert\u001b[0m \u001b[0mb\u001b[0m \u001b[0;34m!=\u001b[0m \u001b[0;36m0\u001b[0m\u001b[0;34m,\u001b[0m \u001b[0;34m\"Division by zero is not allowed\"\u001b[0m\u001b[0;34m\u001b[0m\u001b[0;34m\u001b[0m\u001b[0m\n\u001b[0m\u001b[1;32m      3\u001b[0m     \u001b[0;32mreturn\u001b[0m \u001b[0ma\u001b[0m \u001b[0;34m/\u001b[0m \u001b[0mb\u001b[0m\u001b[0;34m\u001b[0m\u001b[0;34m\u001b[0m\u001b[0m\n\u001b[1;32m      4\u001b[0m \u001b[0;34m\u001b[0m\u001b[0m\n\u001b[1;32m      5\u001b[0m \u001b[0mresult\u001b[0m \u001b[0;34m=\u001b[0m \u001b[0mdivide\u001b[0m\u001b[0;34m(\u001b[0m\u001b[0;36m5\u001b[0m\u001b[0;34m,\u001b[0m \u001b[0;36m0\u001b[0m\u001b[0;34m)\u001b[0m\u001b[0;34m\u001b[0m\u001b[0;34m\u001b[0m\u001b[0m\n",
            "\u001b[0;31mAssertionError\u001b[0m: Division by zero is not allowed"
          ]
        }
      ]
    },
    {
      "cell_type": "markdown",
      "source": [
        "# Basic RE functions\n",
        "● Patterns\n",
        "● Meta Characters\n",
        "● Character Classes\""
      ],
      "metadata": {
        "id": "tk7LjLxkr57j"
      }
    },
    {
      "cell_type": "code",
      "source": [
        "import re\n",
        "\n",
        "text = \"Hello, world! This is a sample text.\"\n",
        "pattern = r\"Hello\"\n",
        "match = re.match(pattern, text)\n",
        "print(\"Found:\", match.group() if match else \"Not found\")\n"
      ],
      "metadata": {
        "colab": {
          "base_uri": "https://localhost:8080/"
        },
        "id": "UJFaT8eJzU53",
        "outputId": "d33fbf15-20d2-4767-d488-1a80bc590d29"
      },
      "execution_count": null,
      "outputs": [
        {
          "output_type": "stream",
          "name": "stdout",
          "text": [
            "Found: Hello\n"
          ]
        }
      ]
    },
    {
      "cell_type": "code",
      "source": [
        "import re\n",
        "\n",
        "text = \"Hello, world! This is a sample text.\"\n",
        "pattern = r\"text\"\n",
        "match = re.search(pattern, text, re.IGNORECASE)\n",
        "print(\"Found:\", match.group() if match else \"Not found\")\n"
      ],
      "metadata": {
        "colab": {
          "base_uri": "https://localhost:8080/"
        },
        "id": "z1m1Yfa-r5II",
        "outputId": "3b4f6241-14de-46cf-83f2-86fdfc885b4b"
      },
      "execution_count": null,
      "outputs": [
        {
          "output_type": "stream",
          "name": "stdout",
          "text": [
            "Found: text\n"
          ]
        }
      ]
    },
    {
      "cell_type": "code",
      "source": [
        "import re\n",
        "\n",
        "text = \"The quick brown fox jumps over the lazy dog.\"\n",
        "pattern = r\"fox\"\n",
        "match = re.search(pattern, text)\n",
        "print(\"Found:\", match.group() if match else \"Not found\")\n"
      ],
      "metadata": {
        "colab": {
          "base_uri": "https://localhost:8080/"
        },
        "id": "VtWAr5R0sQMC",
        "outputId": "48f27b81-8763-4e9b-8ff0-a7b6625205f7"
      },
      "execution_count": null,
      "outputs": [
        {
          "output_type": "stream",
          "name": "stdout",
          "text": [
            "Found: fox\n"
          ]
        }
      ]
    },
    {
      "cell_type": "code",
      "source": [
        "import re\n",
        "\n",
        "text = \"Color: red, green, blue, yellow.\"\n",
        "pattern = r\"e\"\n",
        "matches = re.findall(pattern, text)\n",
        "print(\"Matches:\", matches)\n"
      ],
      "metadata": {
        "colab": {
          "base_uri": "https://localhost:8080/"
        },
        "id": "ZPavwzohsc_R",
        "outputId": "033e4543-9ba2-480f-9356-158993e48713"
      },
      "execution_count": null,
      "outputs": [
        {
          "output_type": "stream",
          "name": "stdout",
          "text": [
            "Matches: ['e', 'e', 'e', 'e', 'e']\n"
          ]
        }
      ]
    },
    {
      "cell_type": "code",
      "source": [
        "import re\n",
        "\n",
        "text = \"You paid $10.99 for this item.\"\n",
        "pattern = r\"\\$[0-9]+\\.[0-9]+\"\n",
        "matches = re.findall(pattern, text)\n",
        "print(\"Matches:\", matches)\n"
      ],
      "metadata": {
        "colab": {
          "base_uri": "https://localhost:8080/"
        },
        "id": "kJi6UDL4s8sc",
        "outputId": "bef7b891-ceb7-4ea7-f760-a4b1c6657e05"
      },
      "execution_count": null,
      "outputs": [
        {
          "output_type": "stream",
          "name": "stdout",
          "text": [
            "Matches: ['$10.99']\n"
          ]
        }
      ]
    },
    {
      "cell_type": "code",
      "source": [
        "import re\n",
        "\n",
        "text = \"The quick brown fox jumps over the lazy dog.\"\n",
        "pattern = r\"[aeiou]\"\n",
        "matches = re.findall(pattern, text)\n",
        "print(\"Vowels:\", matches)\n"
      ],
      "metadata": {
        "colab": {
          "base_uri": "https://localhost:8080/"
        },
        "id": "gmfYUnkAts-w",
        "outputId": "33684513-41a4-457c-d483-0f1cef9b7e74"
      },
      "execution_count": null,
      "outputs": [
        {
          "output_type": "stream",
          "name": "stdout",
          "text": [
            "Vowels: ['e', 'u', 'i', 'o', 'o', 'u', 'o', 'e', 'e', 'a', 'o']\n"
          ]
        }
      ]
    },
    {
      "cell_type": "code",
      "source": [
        "import re\n",
        "\n",
        "text = \"The quick brown fox jumps over the lazy dog.\"\n",
        "pattern = r\"[^aeiou]\"\n",
        "matches = re.findall(pattern, text)\n",
        "print(\"Consonants:\", matches)\n"
      ],
      "metadata": {
        "colab": {
          "base_uri": "https://localhost:8080/"
        },
        "id": "6GLqDFO7uQ9P",
        "outputId": "b94f10d7-09f7-40c2-8dd4-f078e92855af"
      },
      "execution_count": null,
      "outputs": [
        {
          "output_type": "stream",
          "name": "stdout",
          "text": [
            "Consonants: ['T', 'h', ' ', 'q', 'c', 'k', ' ', 'b', 'r', 'w', 'n', ' ', 'f', 'x', ' ', 'j', 'm', 'p', 's', ' ', 'v', 'r', ' ', 't', 'h', ' ', 'l', 'z', 'y', ' ', 'd', 'g', '.']\n"
          ]
        }
      ]
    },
    {
      "cell_type": "code",
      "source": [
        "import re\n",
        "\n",
        "text = \"apple, banana, cherry\"\n",
        "pattern = r\".a..na\"  # Matches any character before \"a\", \"n\", any character after \"n\", and \"a\"\n",
        "matches = re.findall(pattern, text)\n",
        "print(\"Matches:\", matches)\n"
      ],
      "metadata": {
        "colab": {
          "base_uri": "https://localhost:8080/"
        },
        "id": "Wf1wHA0zvG8b",
        "outputId": "7905e710-af6a-412d-aab0-e4aad610c226"
      },
      "execution_count": null,
      "outputs": [
        {
          "output_type": "stream",
          "name": "stdout",
          "text": [
            "Matches: ['banana']\n"
          ]
        }
      ]
    },
    {
      "cell_type": "code",
      "source": [
        "import re\n",
        "\n",
        "text = \"apple, banana, cherry\"\n",
        "pattern = r\".a*na\"  # Matches any character before \"a\", \"n\", any character after \"n\", and \"a\"\n",
        "matches = re.findall(pattern, text)\n",
        "print(\"Matches:\", matches)\n"
      ],
      "metadata": {
        "colab": {
          "base_uri": "https://localhost:8080/"
        },
        "id": "BVy_yOUszVKB",
        "outputId": "97ed49aa-49c8-400b-f56b-221b3ad56471"
      },
      "execution_count": null,
      "outputs": [
        {
          "output_type": "stream",
          "name": "stdout",
          "text": [
            "Matches: ['bana']\n"
          ]
        }
      ]
    },
    {
      "cell_type": "code",
      "source": [
        "import re\n",
        "\n",
        "text = \"apple, banana, cherry\"\n",
        "pattern = r\"er*\"  # Matches any character before \"a\", \"n\", any character after \"n\", and \"a\"\n",
        "matches = re.findall(pattern, text)\n",
        "print(\"Matches:\", matches)\n"
      ],
      "metadata": {
        "colab": {
          "base_uri": "https://localhost:8080/"
        },
        "id": "jzBZItwBzqDL",
        "outputId": "7d1c3f2d-b490-4bc8-f1d8-8090392943cb"
      },
      "execution_count": null,
      "outputs": [
        {
          "output_type": "stream",
          "name": "stdout",
          "text": [
            "Matches: ['e', 'err']\n"
          ]
        }
      ]
    },
    {
      "cell_type": "code",
      "source": [
        "import re\n",
        "\n",
        "text = \"apple, banana, cherry\"\n",
        "pattern = r\"er*\"  # Matches any character before \"a\", \"n\", any character after \"n\", and \"a\"\n",
        "matches = re.findall(pattern, text)\n",
        "print(\"Matches:\", matches)\n"
      ],
      "metadata": {
        "colab": {
          "base_uri": "https://localhost:8080/"
        },
        "id": "xsHm-QNL0YsI",
        "outputId": "22b5b427-d429-4e27-b76e-90a5491b3661"
      },
      "execution_count": null,
      "outputs": [
        {
          "output_type": "stream",
          "name": "stdout",
          "text": [
            "Matches: ['e', 'err']\n"
          ]
        }
      ]
    },
    {
      "cell_type": "code",
      "source": [
        "import re\n",
        "\n",
        "text = \"aaab, ab, aab, abb\"\n",
        "pattern = r\"a*b\"  # Matches \"a\" followed by zero or more \"a\" characters, and then \"b\"\n",
        "matches = re.findall(pattern, text)\n",
        "print(\"Matches:\", matches)\n"
      ],
      "metadata": {
        "colab": {
          "base_uri": "https://localhost:8080/"
        },
        "id": "2HCjjSOzz1rw",
        "outputId": "bcb9148c-0afc-4d5c-d58b-be6fabcbf4c8"
      },
      "execution_count": null,
      "outputs": [
        {
          "output_type": "stream",
          "name": "stdout",
          "text": [
            "Matches: ['aaab', 'ab', 'aab', 'ab', 'b']\n"
          ]
        }
      ]
    },
    {
      "cell_type": "code",
      "source": [
        "import re\n",
        "\n",
        "text = \"aaab, ab, aab, abb\"\n",
        "pattern = r\"a+b\"  # Matches \"a\" followed by one or more \"a\" characters, and then \"b\"\n",
        "matches = re.findall(pattern, text)\n",
        "print(\"Matches:\", matches)\n"
      ],
      "metadata": {
        "colab": {
          "base_uri": "https://localhost:8080/"
        },
        "id": "uvggq1bqz2dE",
        "outputId": "35838b25-6517-4373-bc93-123c54d45890"
      },
      "execution_count": null,
      "outputs": [
        {
          "output_type": "stream",
          "name": "stdout",
          "text": [
            "Matches: ['aaab', 'ab', 'aab', 'ab']\n"
          ]
        }
      ]
    },
    {
      "cell_type": "code",
      "source": [
        "import re\n",
        "\n",
        "text = \"color or colour?\"\n",
        "pattern = r\"colou?r\"  # Matches \"color\" or \"colour\" (the \"u\" is optional)\n",
        "matches = re.findall(pattern, text)\n",
        "print(\"Matches:\", matches)\n"
      ],
      "metadata": {
        "colab": {
          "base_uri": "https://localhost:8080/"
        },
        "id": "6fWrbt3o08K6",
        "outputId": "e33d1d15-cbe6-4be6-b3a0-a9c2416b1ee3"
      },
      "execution_count": null,
      "outputs": [
        {
          "output_type": "stream",
          "name": "stdout",
          "text": [
            "Matches: ['color', 'colour']\n"
          ]
        }
      ]
    },
    {
      "cell_type": "code",
      "source": [
        "# mymodule.py\n",
        "def my_function():\n",
        "    return \"Hello from my module\"\n",
        "\n",
        "# main.py\n",
        "import mymodule\n",
        "result = mymodule.my_function()\n",
        "print(result)  # Output: Hello from my module\n"
      ],
      "metadata": {
        "id": "8DMzZ1Gq3xah"
      },
      "execution_count": null,
      "outputs": []
    },
    {
      "cell_type": "markdown",
      "source": [
        "# Stack\n",
        "2 | Queue\n",
        "3 | Linked List\n",
        "4 | Tree\n",
        "5 | Graph"
      ],
      "metadata": {
        "id": "i6mKck-7OgjU"
      }
    },
    {
      "cell_type": "code",
      "source": [
        "# Stack implementation using a list\n",
        "class Stack:\n",
        "    def __init__(self):\n",
        "        self.items = []\n",
        "\n",
        "    def push(self, item):\n",
        "        self.items.append(item)\n",
        "\n",
        "    def pop(self):\n",
        "        if not self.is_empty():\n",
        "            return self.items.pop()\n",
        "\n",
        "    def is_empty(self):\n",
        "        return len(self.items) == 0\n",
        "\n",
        "    def peek(self):\n",
        "        if not self.is_empty():\n",
        "            return self.items[-1]\n",
        "\n",
        "    def size(self):\n",
        "        return len(self.items)\n",
        "\n",
        "# Example usage\n",
        "stack = Stack()\n",
        "stack.push(1)\n",
        "stack.push(5)\n",
        "stack.push(3)\n",
        "print(stack.pop())  # Output: 3\n",
        "print(stack.peek())  # Output: 2\n"
      ],
      "metadata": {
        "colab": {
          "base_uri": "https://localhost:8080/"
        },
        "id": "qUjaMWhR34DH",
        "outputId": "1b2fdc14-e483-4f1a-f90a-155625329dd4"
      },
      "execution_count": null,
      "outputs": [
        {
          "output_type": "stream",
          "name": "stdout",
          "text": [
            "3\n",
            "5\n"
          ]
        }
      ]
    },
    {
      "cell_type": "code",
      "source": [
        "# Queue implementation using a list\n",
        "class Queue:\n",
        "    def __init__(self):\n",
        "        self.items = []\n",
        "\n",
        "    def enqueue(self, item):\n",
        "        self.items.append(item)\n",
        "\n",
        "    def dequeue(self):\n",
        "        if not self.is_empty():\n",
        "            return self.items.pop(0)\n",
        "\n",
        "    def is_empty(self):\n",
        "        return len(self.items) == 0\n",
        "\n",
        "    def size(self):\n",
        "        return len(self.items)\n",
        "\n",
        "# Example usage\n",
        "queue = Queue()\n",
        "queue.enqueue(1)\n",
        "queue.enqueue(2)\n",
        "queue.enqueue(3)\n",
        "print(queue.dequeue())  # Output: 1\n"
      ],
      "metadata": {
        "colab": {
          "base_uri": "https://localhost:8080/"
        },
        "id": "jslGxlQoOlTh",
        "outputId": "4d12fff7-f6e2-4e65-966f-27c680810eec"
      },
      "execution_count": null,
      "outputs": [
        {
          "output_type": "stream",
          "name": "stdout",
          "text": [
            "1\n"
          ]
        }
      ]
    },
    {
      "cell_type": "code",
      "source": [
        "# Singly Linked List\n",
        "class Node:\n",
        "    def __init__(self, data):\n",
        "        self.data = data\n",
        "        self.next = None\n",
        "\n",
        "class LinkedList:\n",
        "    def __init__(self):\n",
        "        self.head = None\n",
        "\n",
        "    def append(self, data):\n",
        "        new_node = Node(data)\n",
        "        if not self.head:\n",
        "            self.head = new_node\n",
        "        else:\n",
        "            current = self.head\n",
        "            while current.next:\n",
        "                current = current.next\n",
        "            current.next = new_node\n",
        "\n",
        "    def display(self):\n",
        "        current = self.head\n",
        "        while current:\n",
        "            print(current.data, end=\" -> \")\n",
        "            current = current.next\n",
        "        print(\"None\")\n",
        "\n",
        "# Example usage\n",
        "linked_list = LinkedList()\n",
        "linked_list.append(1)\n",
        "linked_list.append(2)\n",
        "linked_list.append(3)\n",
        "linked_list.display()  # Output: 1 -> 2 -> 3 -> None\n"
      ],
      "metadata": {
        "colab": {
          "base_uri": "https://localhost:8080/"
        },
        "id": "jtho5-6MOyv0",
        "outputId": "13436e00-a40f-45cd-a9f0-9fc733c24ef9"
      },
      "execution_count": null,
      "outputs": [
        {
          "output_type": "stream",
          "name": "stdout",
          "text": [
            "1 -> 2 -> 3 -> None\n"
          ]
        }
      ]
    },
    {
      "cell_type": "code",
      "source": [
        "# Binary Tree\n",
        "class TreeNode:\n",
        "    def __init__(self, key):\n",
        "        self.left = None\n",
        "        self.right = None\n",
        "        self.val = key\n",
        "\n",
        "# Example usage\n",
        "root = TreeNode(1)\n",
        "root.left = TreeNode(2)\n",
        "root.right = TreeNode(3)\n"
      ],
      "metadata": {
        "id": "lTKVT0nIPGi2"
      },
      "execution_count": null,
      "outputs": []
    },
    {
      "cell_type": "code",
      "source": [
        "# Graph representation using a dictionary\n",
        "graph = {\n",
        "    'A': ['B', 'C'],\n",
        "    'B': ['A', 'D', 'E'],\n",
        "    'C': ['A', 'F'],\n",
        "    'D': ['B'],\n",
        "    'E': ['B', 'F'],\n",
        "    'F': ['C', 'E']\n",
        "}\n"
      ],
      "metadata": {
        "id": "kYFaDVAfPmyH"
      },
      "execution_count": null,
      "outputs": []
    },
    {
      "cell_type": "markdown",
      "source": [
        "# List and Array\n",
        "7 | Swapping and Sorting\n",
        "8 | Searching\n",
        "9 | Recursion\n",
        "10 | Hashing\n",
        "11 | Strings"
      ],
      "metadata": {
        "id": "ptpNoEnDQnKV"
      }
    },
    {
      "cell_type": "code",
      "source": [
        "# Linear search in a list\n",
        "def linear_search(arr, target):\n",
        "    for i, num in enumerate(arr):\n",
        "        if num == target:\n",
        "            return i\n",
        "    return -1\n",
        "\n",
        "# Example usage\n",
        "numbers = [3, 5, 1, 9, 2, 7]\n",
        "target = 9\n",
        "index = linear_search(numbers, target)\n",
        "print(\"Target found at index:\", index)  # Output: Target found at index: 3\n"
      ],
      "metadata": {
        "colab": {
          "base_uri": "https://localhost:8080/"
        },
        "id": "6ZH8smPwPt9O",
        "outputId": "8c0ad9d8-2b2c-46fe-9aba-92db33d701b2"
      },
      "execution_count": null,
      "outputs": [
        {
          "output_type": "stream",
          "name": "stdout",
          "text": [
            "Target found at index: 3\n"
          ]
        }
      ]
    },
    {
      "cell_type": "code",
      "source": [
        "# Binary search in a sorted list\n",
        "def binary_search(arr, target):\n",
        "    left, right = 0, len(arr) - 1\n",
        "    while left <= right:\n",
        "        mid = (left + right) // 2\n",
        "        if arr[mid] == target:\n",
        "            return mid\n",
        "        elif arr[mid] < target:\n",
        "            left = mid + 1\n",
        "        else:\n",
        "            right = mid - 1\n",
        "    return -1\n",
        "\n",
        "# Example usage (requires a sorted list)\n",
        "sorted_numbers = [1, 2, 3, 4, 5, 8, 9]\n",
        "target = 4\n",
        "index = binary_search(sorted_numbers, target)\n",
        "print(\"Target found at index:\", index)  # Output: Target found at index: 3\n"
      ],
      "metadata": {
        "colab": {
          "base_uri": "https://localhost:8080/"
        },
        "id": "m9V2EU8AQmNs",
        "outputId": "c9532603-5171-4b89-a685-1dd4b4abf790"
      },
      "execution_count": null,
      "outputs": [
        {
          "output_type": "stream",
          "name": "stdout",
          "text": [
            "Target found at index: 3\n"
          ]
        }
      ]
    },
    {
      "cell_type": "markdown",
      "source": [
        "# Function as a parameter\n",
        "● Function as a return value\n",
        "● Closures\n",
        "● Decorators\n",
        "● Map, Filter, Reduce Functions"
      ],
      "metadata": {
        "id": "4JggskHgSPXx"
      }
    },
    {
      "cell_type": "code",
      "source": [
        "# Function as a parameter\n",
        "def apply(func, x, y):\n",
        "    return func(x, y)\n",
        "\n",
        "def add(a, b):\n",
        "    return a + b\n",
        "\n",
        "def multiply(a, b):\n",
        "    return a * b\n",
        "\n",
        "result1 = apply(add, 3, 4)  # Pass 'add' as a parameter\n",
        "result2 = apply(multiply, 3, 4)  # Pass 'multiply' as a parameter\n",
        "\n",
        "print(\"Addition:\", result1)  # Output: Addition: 7\n",
        "print(\"Multiplication:\", result2)  # Output: Multiplication: 12\n"
      ],
      "metadata": {
        "colab": {
          "base_uri": "https://localhost:8080/"
        },
        "id": "cB4o1zu2SSB8",
        "outputId": "d531a689-8c9a-4f64-a429-aa2ac418d0d5"
      },
      "execution_count": null,
      "outputs": [
        {
          "output_type": "stream",
          "name": "stdout",
          "text": [
            "Addition: 7\n",
            "Multiplication: 12\n"
          ]
        }
      ]
    },
    {
      "cell_type": "code",
      "source": [
        "# Function as a return value\n",
        "def get_math_operation(operation):\n",
        "    if operation == \"add\":\n",
        "        return lambda x, y: x + y\n",
        "    elif operation == \"multiply\":\n",
        "        return lambda x, y: x * y\n",
        "\n",
        "add_func = get_math_operation(\"add\")\n",
        "multiply_func = get_math_operation(\"multiply\")\n",
        "\n",
        "result1 = add_func(3, 4)\n",
        "result2 = multiply_func(3, 4)\n",
        "\n",
        "print(\"Addition:\", result1)  # Output: Addition: 7\n",
        "print(\"Multiplication:\", result2)  # Output: Multiplication: 12\n"
      ],
      "metadata": {
        "colab": {
          "base_uri": "https://localhost:8080/"
        },
        "id": "VWt9v-JHSYCi",
        "outputId": "efe629c2-fa82-4622-bafc-04831c478101"
      },
      "execution_count": null,
      "outputs": [
        {
          "output_type": "stream",
          "name": "stdout",
          "text": [
            "Addition: 7\n",
            "Multiplication: 12\n"
          ]
        }
      ]
    },
    {
      "cell_type": "code",
      "source": [
        "# Closure example\n",
        "def outer_function(x):\n",
        "    def inner_function(y):\n",
        "        return x + y\n",
        "    return inner_function\n",
        "\n",
        "add_five = outer_function(5)\n",
        "result = add_five(3)  # This remembers 'x' as 5\n",
        "\n",
        "print(\"Result:\", result)  # Output: Result: 8\n"
      ],
      "metadata": {
        "colab": {
          "base_uri": "https://localhost:8080/"
        },
        "id": "HwQXim6SSjQn",
        "outputId": "e1f02bed-5a18-45f2-f2d7-905e5517df19"
      },
      "execution_count": null,
      "outputs": [
        {
          "output_type": "stream",
          "name": "stdout",
          "text": [
            "Result: 8\n"
          ]
        }
      ]
    },
    {
      "cell_type": "code",
      "source": [
        "# Using *args to accept a variable number of arguments\n",
        "def add_numbers(*args):\n",
        "    total = 0\n",
        "    for num in args:\n",
        "        total += num\n",
        "    return total\n",
        "\n",
        "result1 = add_numbers(1, 2, 3)  # Passing three arguments\n",
        "result2 = add_numbers(10, 20, 30, 40, 50)  # Passing five arguments\n",
        "\n",
        "print(\"Result 1:\", result1)  # Output: Result 1: 6\n",
        "print(\"Result 2:\", result2)  # Output: Result 2: 150\n"
      ],
      "metadata": {
        "colab": {
          "base_uri": "https://localhost:8080/"
        },
        "id": "VCJE07sSTMrx",
        "outputId": "82e32799-1491-4bee-c565-c8771ad6a5ce"
      },
      "execution_count": null,
      "outputs": [
        {
          "output_type": "stream",
          "name": "stdout",
          "text": [
            "Result 1: 6\n",
            "Result 2: 150\n"
          ]
        }
      ]
    },
    {
      "cell_type": "code",
      "source": [
        "# Decorator example\n",
        "def my_decorator(func):\n",
        "    def wrapper(*args, **kwargs):\n",
        "        print(\"Before function execution\")\n",
        "        result = func(*args, **kwargs)\n",
        "        print(\"After function execution\")\n",
        "        return result\n",
        "    return wrapper\n",
        "\n",
        "@my_decorator\n",
        "def say_hello(name):\n",
        "    print(f\"Hello, {name}!\")\n",
        "\n",
        "say_hello(\"Alice\")\n"
      ],
      "metadata": {
        "colab": {
          "base_uri": "https://localhost:8080/"
        },
        "id": "r12tXemVZHAC",
        "outputId": "bfdd7e6e-0fa9-40f0-ca55-47ab92c5715a"
      },
      "execution_count": null,
      "outputs": [
        {
          "output_type": "stream",
          "name": "stdout",
          "text": [
            "Before function execution\n",
            "Hello, Alice!\n",
            "After function execution\n"
          ]
        }
      ]
    },
    {
      "cell_type": "code",
      "source": [
        "from functools import reduce\n",
        "\n",
        "# Map, Filter, and Reduce example\n",
        "numbers = [1, 2, 3, 4, 5]\n",
        "\n",
        "# Map: Square each number\n",
        "squared = list(map(lambda x: x ** 2, numbers))\n",
        "\n",
        "# Filter: Select even numbers\n",
        "even_numbers = list(filter(lambda x: x % 2 == 0, numbers))\n",
        "\n",
        "# Reduce: Calculate the sum of all numbers\n",
        "sum_all = reduce(lambda x, y: x + y, numbers)\n",
        "\n",
        "print(\"Mapped:\", squared)  # Output: Mapped: [1, 4, 9, 16, 25]\n",
        "print(\"Filtered:\", even_numbers)  # Output: Filtered: [2, 4]\n",
        "print(\"Reduced:\", sum_all)  # Output: Reduced: 15\n"
      ],
      "metadata": {
        "colab": {
          "base_uri": "https://localhost:8080/"
        },
        "id": "rCHIGMi_ZiHE",
        "outputId": "4e40778c-112a-477a-a449-4d6558926e58"
      },
      "execution_count": null,
      "outputs": [
        {
          "output_type": "stream",
          "name": "stdout",
          "text": [
            "Mapped: [1, 4, 9, 16, 25]\n",
            "Filtered: [2, 4]\n",
            "Reduced: 15\n"
          ]
        }
      ]
    },
    {
      "cell_type": "markdown",
      "source": [
        "# numpy package"
      ],
      "metadata": {
        "id": "bGJtAHjiwnPu"
      }
    },
    {
      "cell_type": "code",
      "source": [
        "# Creating an array from a list\n",
        "arr = np.array([1, 2, 3, 4, 5])\n",
        "print(\"Array from a list:\\n\", arr)\n",
        "\n",
        "# Creating an array of zeros\n",
        "zeros = np.zeros(5)\n",
        "print(\"Array of zeros:\\n\", zeros)\n",
        "\n",
        "# Creating an array of ones\n",
        "ones = np.ones([5,3])\n",
        "print(\"Array of ones:\\n\", ones)\n",
        "\n",
        "# Creating an identity matrix\n",
        "identity = np.eye(3)\n",
        "print(\"Identity matrix:\\n\", identity)\n",
        "\n",
        "# Creating a range of values\n",
        "range_arr = np.arange(0, 10, 2)\n",
        "print(\"Range array:\\n\", range_arr)\n",
        "\n",
        "# Creating a random array\n",
        "random_arr = np.random.rand(3, 3)\n",
        "print(\"Random array:\\n\", random_arr)\n"
      ],
      "metadata": {
        "colab": {
          "base_uri": "https://localhost:8080/"
        },
        "id": "ueQ6zSj7xAoM",
        "outputId": "8a4434a3-9586-4da0-b622-37713052bd14"
      },
      "execution_count": null,
      "outputs": [
        {
          "output_type": "stream",
          "name": "stdout",
          "text": [
            "Array from a list:\n",
            " [1 2 3 4 5]\n",
            "Array of zeros:\n",
            " [0. 0. 0. 0. 0.]\n",
            "Array of ones:\n",
            " [[1. 1. 1.]\n",
            " [1. 1. 1.]\n",
            " [1. 1. 1.]\n",
            " [1. 1. 1.]\n",
            " [1. 1. 1.]]\n",
            "Identity matrix:\n",
            " [[1. 0. 0.]\n",
            " [0. 1. 0.]\n",
            " [0. 0. 1.]]\n",
            "Range array:\n",
            " [0 2 4 6 8]\n",
            "Random array:\n",
            " [[0.36230384 0.56061649 0.75081213]\n",
            " [0.23643069 0.92700623 0.7527015 ]\n",
            " [0.73924446 0.65508605 0.50906492]]\n"
          ]
        }
      ]
    },
    {
      "cell_type": "code",
      "source": [
        "# Shape of the array\n",
        "shape = arr.shape\n",
        "print(\"Shape:\", shape)\n",
        "\n",
        "# Data type of the array\n",
        "dtype = arr.dtype\n",
        "print(\"Data type:\", dtype)\n",
        "\n",
        "# Number of dimensions\n",
        "ndim = arr.ndim\n",
        "print(\"Number of dimensions:\", ndim)\n",
        "\n",
        "# Number of elements\n",
        "size = arr.size\n",
        "print(\"Number of elements:\", size)\n"
      ],
      "metadata": {
        "colab": {
          "base_uri": "https://localhost:8080/"
        },
        "id": "IzlbzGZJxBJX",
        "outputId": "c1880044-80f3-42d1-be02-a5d30608582c"
      },
      "execution_count": null,
      "outputs": [
        {
          "output_type": "stream",
          "name": "stdout",
          "text": [
            "Shape: (5,)\n",
            "Data type: int64\n",
            "Number of dimensions: 1\n",
            "Number of elements: 5\n"
          ]
        }
      ]
    },
    {
      "cell_type": "code",
      "source": [
        "# Slicing an array\n",
        "sliced_arr = arr[2:4]\n",
        "print(\"Sliced array:\", sliced_arr)\n",
        "\n",
        "# Indexing and modification\n",
        "arr[1] = 99\n",
        "print(\"Modified array:\", arr)\n",
        "\n",
        "# Slicing a multi-dimensional array\n",
        "matrix = np.array([[1, 2, 3], [4, 5, 6], [7, 8, 9]])\n",
        "row = matrix[1, :]\n",
        "column = matrix[:, 2]\n",
        "print(\"Row of the matrix:\", row)\n",
        "print(\"Column of the matrix:\", column)\n"
      ],
      "metadata": {
        "colab": {
          "base_uri": "https://localhost:8080/"
        },
        "id": "ZUewzazsyq0F",
        "outputId": "75eed07d-ff9b-4a20-87f3-2864a638d895"
      },
      "execution_count": null,
      "outputs": [
        {
          "output_type": "stream",
          "name": "stdout",
          "text": [
            "Sliced array: [3 4]\n",
            "Modified array: [ 1 99  3  4  5]\n",
            "Row of the matrix: [4 5 6]\n",
            "Column of the matrix: [3 6 9]\n"
          ]
        }
      ]
    },
    {
      "cell_type": "code",
      "source": [
        "# Reshape an array\n",
        "arrr=np.array([1,2,3,4,5,6])\n",
        "reshaped = arrr.reshape(2, 3)\n",
        "print(\"Reshaped array:\\n\", reshaped)\n"
      ],
      "metadata": {
        "colab": {
          "base_uri": "https://localhost:8080/"
        },
        "id": "NRrnLgo9zPq7",
        "outputId": "c8086d7d-6941-407e-951a-1a6f230881b2"
      },
      "execution_count": null,
      "outputs": [
        {
          "output_type": "stream",
          "name": "stdout",
          "text": [
            "Reshaped array:\n",
            " [[1 2 3]\n",
            " [4 5 6]]\n"
          ]
        }
      ]
    },
    {
      "cell_type": "code",
      "source": [
        "# Stack arrays vertically and horizontally\n",
        "stacked_v = np.vstack((arr, range_arr))\n",
        "stacked_h = np.hstack((arr, range_arr))\n",
        "print(\"Stacked vertically:\\n\", stacked_v)\n",
        "print(\"Stacked horizontally:\\n\", stacked_h)\n"
      ],
      "metadata": {
        "colab": {
          "base_uri": "https://localhost:8080/"
        },
        "id": "G5lVAozuz02k",
        "outputId": "e6404430-167d-4b31-a492-bf476a3bb0af"
      },
      "execution_count": null,
      "outputs": [
        {
          "output_type": "stream",
          "name": "stdout",
          "text": [
            "Stacked vertically:\n",
            " [[ 1 99  3  4  5]\n",
            " [ 0  2  4  6  8]]\n",
            "Stacked horizontally:\n",
            " [ 1 99  3  4  5  0  2  4  6  8]\n"
          ]
        }
      ]
    },
    {
      "cell_type": "code",
      "source": [
        "# Split an array into sub-arrays\n",
        "subarrays = np.split(arrr, 2)\n",
        "print(\"Split sub-arrays:\", subarrays)\n"
      ],
      "metadata": {
        "colab": {
          "base_uri": "https://localhost:8080/"
        },
        "id": "3ObrFKD40O7S",
        "outputId": "7d8d8ac4-00ef-48de-b7c4-09c3c5c2ea10"
      },
      "execution_count": null,
      "outputs": [
        {
          "output_type": "stream",
          "name": "stdout",
          "text": [
            "Split sub-arrays: [array([1, 2, 3]), array([4, 5, 6])]\n"
          ]
        }
      ]
    },
    {
      "cell_type": "code",
      "source": [
        "# Basic functions\n",
        "mean = np.mean(arr)\n",
        "sum_values = np.sum(arr)\n",
        "min_value = np.min(arr)\n",
        "max_value = np.max(arr)\n",
        "print(\"Mean:\", mean)\n",
        "print(\"Sum:\", sum_values)\n",
        "print(\"Minimum:\", min_value)\n",
        "print(\"Maximum:\", max_value)\n",
        "\n",
        "# Trigonometric functions\n",
        "sin_arr = np.sin(arr)\n",
        "cos_arr = np.cos(arr)\n",
        "tan_arr = np.tan(arr)\n",
        "print(\"Sine:\\n\", sin_arr)\n",
        "print(\"Cosine:\\n\", cos_arr)\n",
        "print(\"Tangent:\\n\", tan_arr)\n",
        "\n",
        "# Exponential and logarithmic functions\n",
        "exp_arr = np.exp(arr)\n",
        "log_arr = np.log(arr)\n",
        "print(\"Exponential:\\n\", exp_arr)\n",
        "print(\"Natural logarithm:\\n\", log_arr)\n",
        "\n",
        "# Statistical functions\n",
        "std_dev = np.std(arr)\n",
        "variance = np.var(arr)\n",
        "print(\"Standard Deviation:\", std_dev)\n",
        "print(\"Variance:\", variance)\n"
      ],
      "metadata": {
        "colab": {
          "base_uri": "https://localhost:8080/"
        },
        "id": "uUp6jimv0q3W",
        "outputId": "0092bc4f-6ef5-4928-ac50-cff4d134d274"
      },
      "execution_count": null,
      "outputs": [
        {
          "output_type": "stream",
          "name": "stdout",
          "text": [
            "Mean: 22.4\n",
            "Sum: 112\n",
            "Minimum: 1\n",
            "Maximum: 99\n",
            "Sine:\n",
            " [ 0.84147098 -0.99920683  0.14112001 -0.7568025  -0.95892427]\n",
            "Cosine:\n",
            " [ 0.54030231  0.03982088 -0.9899925  -0.65364362  0.28366219]\n",
            "Tangent:\n",
            " [  1.55740772 -25.09253498  -0.14254654   1.15782128  -3.38051501]\n",
            "Exponential:\n",
            " [2.71828183e+00 9.88903032e+42 2.00855369e+01 5.45981500e+01\n",
            " 1.48413159e+02]\n",
            "Natural logarithm:\n",
            " [0.         4.59511985 1.09861229 1.38629436 1.60943791]\n",
            "Standard Deviation: 38.32283914325764\n",
            "Variance: 1468.6399999999999\n"
          ]
        }
      ]
    },
    {
      "cell_type": "code",
      "source": [
        "# Matrix multiplication\n",
        "matrix1 = np.array([[1, 2], [3, 4]])\n",
        "matrix2 = np.array([[5, 6], [7, 8]])\n",
        "matrix_product = np.dot(matrix1, matrix2)\n",
        "print(\"Matrix Product:\\n\", matrix_product)\n",
        "\n",
        "# Determinant of a matrix\n",
        "determinant = np.linalg.det(matrix1)\n",
        "print(\"Determinant:\", determinant)\n",
        "\n",
        "# Inverse of a matrix\n",
        "inverse = np.linalg.inv(matrix1)\n",
        "print(\"Inverse:\\n\", inverse)\n"
      ],
      "metadata": {
        "colab": {
          "base_uri": "https://localhost:8080/"
        },
        "id": "BcHWfBAm1GbK",
        "outputId": "fc2974a6-8cc3-4ad5-d478-3b6cfc168027"
      },
      "execution_count": null,
      "outputs": [
        {
          "output_type": "stream",
          "name": "stdout",
          "text": [
            "Matrix Product:\n",
            " [[19 22]\n",
            " [43 50]]\n",
            "Determinant: -2.0000000000000004\n",
            "Inverse:\n",
            " [[-2.   1. ]\n",
            " [ 1.5 -0.5]]\n"
          ]
        }
      ]
    },
    {
      "cell_type": "code",
      "source": [
        "arr1 = np.array([1, 2, 3, 4, 5])\n",
        "arr2 = np.array([3, 1, 3, 5, 5])\n",
        "\n",
        "# Element-wise comparison\n",
        "elementwise_comparison = arr1 == arr2\n",
        "print(\"Element-wise Comparison:\\n\", elementwise_comparison)\n"
      ],
      "metadata": {
        "colab": {
          "base_uri": "https://localhost:8080/"
        },
        "id": "ddJ73rby1XZv",
        "outputId": "a37ae12f-0b9b-431b-c988-0a7619291201"
      },
      "execution_count": null,
      "outputs": [
        {
          "output_type": "stream",
          "name": "stdout",
          "text": [
            "Element-wise Comparison:\n",
            " [False False  True False  True]\n"
          ]
        }
      ]
    },
    {
      "cell_type": "code",
      "source": [
        "arr = np.array([1, 2, 3, 2, 4, 1, 5, 5])\n",
        "\n",
        "# Find unique elements\n",
        "unique_elements = np.unique(arr)\n",
        "print(\"Unique Elements:\", unique_elements)\n"
      ],
      "metadata": {
        "colab": {
          "base_uri": "https://localhost:8080/"
        },
        "id": "qVANSePS2n-u",
        "outputId": "3c1661f2-c85a-4b0a-85f4-c727b8d22cc8"
      },
      "execution_count": null,
      "outputs": [
        {
          "output_type": "stream",
          "name": "stdout",
          "text": [
            "Unique Elements: [1 2 3 4 5]\n"
          ]
        }
      ]
    },
    {
      "cell_type": "code",
      "source": [
        "# Generate random integers\n",
        "rand_integers = np.random.randint(1, 10, 5)\n",
        "print(\"Random Integers:\", rand_integers)\n",
        "\n",
        "# Generate random floats\n",
        "rand_floats = np.random.rand(5)\n",
        "print(\"Random Floats:\", rand_floats)\n"
      ],
      "metadata": {
        "colab": {
          "base_uri": "https://localhost:8080/"
        },
        "id": "rmDuABCS2tDR",
        "outputId": "040f41d0-796b-4e00-f1f5-379f688786aa"
      },
      "execution_count": null,
      "outputs": [
        {
          "output_type": "stream",
          "name": "stdout",
          "text": [
            "Random Integers: [7 4 7 3 6]\n",
            "Random Floats: [0.65105028 0.28886258 0.49522109 0.30948066 0.68892889]\n"
          ]
        }
      ]
    },
    {
      "cell_type": "code",
      "source": [
        "arr1 = np.array([1, 2, 3])\n",
        "arr2 = np.array([4, 5, 6])\n",
        "\n",
        "# Concatenate arrays\n",
        "concatenated = np.concatenate((arr1, arr2))\n",
        "print(\"Concatenated Array:\", concatenated)\n"
      ],
      "metadata": {
        "colab": {
          "base_uri": "https://localhost:8080/"
        },
        "id": "67PrJwHl2yAT",
        "outputId": "fe96c425-ffea-407a-ad75-9860ce9a2fcf"
      },
      "execution_count": null,
      "outputs": [
        {
          "output_type": "stream",
          "name": "stdout",
          "text": [
            "Concatenated Array: [1 2 3 4 5 6]\n"
          ]
        }
      ]
    },
    {
      "cell_type": "code",
      "source": [
        "arr1 = np.array([1, 2, 3])\n",
        "arr2 = 2\n",
        "\n",
        "# Broadcasting\n",
        "result = arr1 * arr2\n",
        "print(\"Broadcasting Result:\", result)\n"
      ],
      "metadata": {
        "colab": {
          "base_uri": "https://localhost:8080/"
        },
        "id": "QG4Zzn2f23aA",
        "outputId": "50f6e5fe-dec8-4f1c-bdc1-462cf6a7e1c3"
      },
      "execution_count": null,
      "outputs": [
        {
          "output_type": "stream",
          "name": "stdout",
          "text": [
            "Broadcasting Result: [2 4 6]\n"
          ]
        }
      ]
    },
    {
      "cell_type": "code",
      "source": [
        "arr = np.array([3, 1, 4, 2, 5])\n",
        "\n",
        "# Sort the array\n",
        "sorted_arr = np.sort(arr)\n",
        "print(\"Sorted Array:\", sorted_arr)\n"
      ],
      "metadata": {
        "colab": {
          "base_uri": "https://localhost:8080/"
        },
        "id": "CKFdaJAA28UA",
        "outputId": "be54ed5a-8903-430c-94b7-307040805158"
      },
      "execution_count": null,
      "outputs": [
        {
          "output_type": "stream",
          "name": "stdout",
          "text": [
            "Sorted Array: [1 2 3 4 5]\n"
          ]
        }
      ]
    },
    {
      "cell_type": "code",
      "source": [
        "# Saving an array to a text file\n",
        "np.savetxt(\"data.txt\", arr, delimiter=\",\")\n",
        "\n",
        "# Loading data from a text file\n",
        "loaded_data = np.loadtxt(\"data.txt\", delimiter=\",\")\n",
        "print(\"Loaded Data from File:\", loaded_data)\n"
      ],
      "metadata": {
        "colab": {
          "base_uri": "https://localhost:8080/"
        },
        "id": "gLo-Z1Nb3B9y",
        "outputId": "0c5d9550-6ffe-417e-8603-ee206f617699"
      },
      "execution_count": null,
      "outputs": [
        {
          "output_type": "stream",
          "name": "stdout",
          "text": [
            "Loaded Data from File: [3. 1. 4. 2. 5.]\n"
          ]
        }
      ]
    },
    {
      "cell_type": "code",
      "source": [
        "# Create an array of evenly spaced values\n",
        "evenly_spaced = np.linspace(0, 1, 5)  # Generates [0.   0.25 0.5  0.75 1.  ]\n",
        "print(\"Evenly Spaced Values:\", evenly_spaced)\n",
        "\n",
        "# Create an array using a range with a step\n",
        "range_arr = np.arange(1, 10, 2)  # Generates [1 3 5 7 9]\n",
        "print(\"Range with Step:\", range_arr)\n"
      ],
      "metadata": {
        "colab": {
          "base_uri": "https://localhost:8080/"
        },
        "id": "J5q-u_y73Fox",
        "outputId": "e3443dbb-effb-4f74-b9a1-601418a25ff3"
      },
      "execution_count": null,
      "outputs": [
        {
          "output_type": "stream",
          "name": "stdout",
          "text": [
            "Evenly Spaced Values: [0.   0.25 0.5  0.75 1.  ]\n",
            "Range with Step: [1 3 5 7 9]\n"
          ]
        }
      ]
    },
    {
      "cell_type": "code",
      "source": [
        "arr = np.array([[1, 2], [3, 4], [5, 6]])\n",
        "\n",
        "# Reshape into a 1D array\n",
        "flattened = arr.flatten()\n",
        "print(\"Flattened Array:\", flattened)\n",
        "\n",
        "# Reshape into a different shape\n",
        "reshaped = arr.reshape(2, 3)\n",
        "print(\"Reshaped Array:\\n\", reshaped)\n"
      ],
      "metadata": {
        "colab": {
          "base_uri": "https://localhost:8080/"
        },
        "id": "TACA-9YA3owd",
        "outputId": "da1bdd40-3003-4bae-b06b-c97965841c98"
      },
      "execution_count": null,
      "outputs": [
        {
          "output_type": "stream",
          "name": "stdout",
          "text": [
            "Flattened Array: [1 2 3 4 5 6]\n",
            "Reshaped Array:\n",
            " [[1 2 3]\n",
            " [4 5 6]]\n"
          ]
        }
      ]
    },
    {
      "cell_type": "code",
      "source": [
        "data = np.array([12, 9, 15, 21, 18, 11])\n",
        "\n",
        "# Calculate mean and median\n",
        "mean = np.mean(data)\n",
        "median = np.median(data)\n",
        "print(\"Mean:\", mean)\n",
        "print(\"Median:\", median)\n",
        "\n",
        "# Calculate variance and standard deviation\n",
        "variance = np.var(data)\n",
        "std_dev = np.std(data)\n",
        "print(\"Variance:\", variance)\n",
        "print(\"Standard Deviation:\", std_dev)\n"
      ],
      "metadata": {
        "colab": {
          "base_uri": "https://localhost:8080/"
        },
        "id": "0R1SYNkb4UuY",
        "outputId": "83ff74d7-7597-4d20-b4f7-b350d6a47fe3"
      },
      "execution_count": null,
      "outputs": [
        {
          "output_type": "stream",
          "name": "stdout",
          "text": [
            "Mean: 14.333333333333334\n",
            "Median: 13.5\n",
            "Variance: 17.22222222222222\n",
            "Standard Deviation: 4.14996653266291\n"
          ]
        }
      ]
    },
    {
      "cell_type": "code",
      "source": [
        "arr = np.array([1, 2, 3, 4, 5])\n",
        "\n",
        "# Add 10 to all elements\n",
        "result = arr + 10\n",
        "print(\"Broadcasting Result:\", result)\n"
      ],
      "metadata": {
        "colab": {
          "base_uri": "https://localhost:8080/"
        },
        "id": "Hokw5DKs4vxp",
        "outputId": "70fe5156-9c60-4ae9-926a-a552b9257ce5"
      },
      "execution_count": null,
      "outputs": [
        {
          "output_type": "stream",
          "name": "stdout",
          "text": [
            "Broadcasting Result: [11 12 13 14 15]\n"
          ]
        }
      ]
    },
    {
      "cell_type": "code",
      "source": [
        "arr1 = np.array([1, 2, 3])\n",
        "arr2 = np.array([4, 5, 6])\n",
        "\n",
        "# Stack arrays horizontally\n",
        "horizontal_stack = np.hstack((arr1, arr2))\n",
        "print(\"Horizontal Stack:\", horizontal_stack)\n",
        "\n",
        "# Split an array into sub-arrays\n",
        "subarrays = np.array_split(arr1, 2)\n",
        "print(\"Split Sub-Arrays:\", subarrays)\n"
      ],
      "metadata": {
        "colab": {
          "base_uri": "https://localhost:8080/"
        },
        "id": "DsEUUEN_4zo2",
        "outputId": "dd36d258-3866-4244-b26b-4480b595a4cd"
      },
      "execution_count": null,
      "outputs": [
        {
          "output_type": "stream",
          "name": "stdout",
          "text": [
            "Horizontal Stack: [1 2 3 4 5 6]\n",
            "Split Sub-Arrays: [array([1, 2]), array([3])]\n"
          ]
        }
      ]
    },
    {
      "cell_type": "code",
      "source": [
        "arr = np.array([1.1, 2.5, 3.8, 4.2])\n",
        "\n",
        "# Element-wise exponentiation\n",
        "exp_arr = np.exp(arr)\n",
        "print(\"Element-wise Exponentiation:\", exp_arr)\n",
        "\n",
        "# Element-wise rounding\n",
        "round_arr = np.round(arr)\n",
        "print(\"Element-wise Rounding:\", round_arr)\n"
      ],
      "metadata": {
        "colab": {
          "base_uri": "https://localhost:8080/"
        },
        "id": "BGuLnWHq43dY",
        "outputId": "83279f23-1bad-42b6-d8ea-4cc8517aa27e"
      },
      "execution_count": null,
      "outputs": [
        {
          "output_type": "stream",
          "name": "stdout",
          "text": [
            "Element-wise Exponentiation: [ 3.00416602 12.18249396 44.70118449 66.68633104]\n",
            "Element-wise Rounding: [1. 2. 4. 4.]\n"
          ]
        }
      ]
    },
    {
      "cell_type": "code",
      "source": [
        "data = np.array([12, 9, 15, 21, 18, 11, 8, 10, 17])\n",
        "\n",
        "# Calculate the 25th percentile (1st quartile)\n",
        "q1 = np.percentile(data, 25)\n",
        "\n",
        "# Calculate the 75th percentile (3rd quartile)\n",
        "q3 = np.percentile(data, 75)\n",
        "\n",
        "print(\"1st Quartile (Q1):\", q1)\n",
        "print(\"3rd Quartile (Q3):\", q3)\n"
      ],
      "metadata": {
        "colab": {
          "base_uri": "https://localhost:8080/"
        },
        "id": "2WfRRqlS4_jk",
        "outputId": "b7889fa4-762f-43e5-e401-1e612491e93f"
      },
      "execution_count": null,
      "outputs": [
        {
          "output_type": "stream",
          "name": "stdout",
          "text": [
            "1st Quartile (Q1): 10.0\n",
            "3rd Quartile (Q3): 17.0\n"
          ]
        }
      ]
    },
    {
      "cell_type": "code",
      "source": [
        "# Calculate the eigenvalues and eigenvectors\n",
        "eigenvalues, eigenvectors = np.linalg.eig(matrix1)\n",
        "print(\"Eigenvalues:\", eigenvalues)\n",
        "print(\"Eigenvectors:\\n\", eigenvectors)"
      ],
      "metadata": {
        "colab": {
          "base_uri": "https://localhost:8080/"
        },
        "id": "DxDatIVz6GFb",
        "outputId": "996f813f-f95f-4975-be9e-c53794b9626e"
      },
      "execution_count": null,
      "outputs": [
        {
          "output_type": "stream",
          "name": "stdout",
          "text": [
            "Eigenvalues: [-0.37228132  5.37228132]\n",
            "Eigenvectors:\n",
            " [[-0.82456484 -0.41597356]\n",
            " [ 0.56576746 -0.90937671]]\n"
          ]
        }
      ]
    },
    {
      "cell_type": "code",
      "source": [
        "data = np.array([1, 2, np.nan, 4, 5, 6])\n",
        "\n",
        "# Check for NaN values\n",
        "has_nan = np.isnan(data)\n",
        "print(\"Has NaN Values:\", has_nan)\n",
        "\n",
        "# Remove NaN values\n",
        "data_cleaned = data[~np.isnan(data)]\n",
        "print(\"Cleaned Data:\", data_cleaned)\n"
      ],
      "metadata": {
        "colab": {
          "base_uri": "https://localhost:8080/"
        },
        "id": "J5HtRXhG6QiO",
        "outputId": "ef62c02e-f173-47d4-ddf1-44fe8e95181d"
      },
      "execution_count": null,
      "outputs": [
        {
          "output_type": "stream",
          "name": "stdout",
          "text": [
            "Has NaN Values: [False False  True False False False]\n",
            "Cleaned Data: [1. 2. 4. 5. 6.]\n"
          ]
        }
      ]
    },
    {
      "cell_type": "code",
      "source": [
        "arr1 = np.array([True, False, True, True])\n",
        "arr2 = np.array([False, True, True, False])\n",
        "\n",
        "# Element-wise logical AND\n",
        "logical_and = np.logical_and(arr1, arr2)\n",
        "print(\"Element-wise Logical AND:\", logical_and)\n",
        "\n",
        "# Element-wise logical OR\n",
        "logical_or = np.logical_or(arr1, arr2)\n",
        "print(\"Element-wise Logical OR:\", logical_or)\n"
      ],
      "metadata": {
        "colab": {
          "base_uri": "https://localhost:8080/"
        },
        "id": "6_lz_KFV6Xhj",
        "outputId": "18e486e0-bd92-4302-b213-3a975ed5d29c"
      },
      "execution_count": null,
      "outputs": [
        {
          "output_type": "stream",
          "name": "stdout",
          "text": [
            "Element-wise Logical AND: [False False  True False]\n",
            "Element-wise Logical OR: [ True  True  True  True]\n"
          ]
        }
      ]
    },
    {
      "cell_type": "code",
      "source": [
        "# Count of non-zero elements\n",
        "nonzero_count = np.count_nonzero(data)\n",
        "\n",
        "print(\"Count of Non-Zero Elements:\", nonzero_count)"
      ],
      "metadata": {
        "colab": {
          "base_uri": "https://localhost:8080/"
        },
        "id": "qThbbe6n6gci",
        "outputId": "c6f9fa4b-b4a4-4f5b-bd22-e9c441d51870"
      },
      "execution_count": null,
      "outputs": [
        {
          "output_type": "stream",
          "name": "stdout",
          "text": [
            "Count of Non-Zero Elements: 6\n"
          ]
        }
      ]
    },
    {
      "cell_type": "code",
      "source": [
        "import time\n",
        "\n",
        "# Without NumPy (using lists)\n",
        "start = time.time()\n",
        "result = [i * 2 for i in range(10**6)]\n",
        "end = time.time()\n",
        "print(\"Time taken without NumPy:\", end - start)\n",
        "\n",
        "# With NumPy (using arrays)\n",
        "arr = np.arange(10**6)\n",
        "start = time.time()\n",
        "result = arr * 2\n",
        "end = time.time()\n",
        "print(\"Time taken with NumPy:\", end - start)\n"
      ],
      "metadata": {
        "colab": {
          "base_uri": "https://localhost:8080/"
        },
        "id": "iv4K2PkI6sam",
        "outputId": "9a4ddb36-a50f-437d-a6a6-905ba78f51ee"
      },
      "execution_count": null,
      "outputs": [
        {
          "output_type": "stream",
          "name": "stdout",
          "text": [
            "Time taken without NumPy: 0.1965656280517578\n",
            "Time taken with NumPy: 0.021007776260375977\n"
          ]
        }
      ]
    },
    {
      "cell_type": "code",
      "source": [
        "# Generate sample data\n",
        "data1 = np.array([1, 2, 3, 4, 5])\n",
        "data2 = np.array([3, 4, 5, 6, 7])\n",
        "\n",
        "# Calculate Pearson correlation coefficient\n",
        "correlation_coefficient = np.corrcoef(data1, data2)[0, 1]\n",
        "print(\"Pearson Correlation Coefficient:\", correlation_coefficient)\n"
      ],
      "metadata": {
        "colab": {
          "base_uri": "https://localhost:8080/"
        },
        "id": "jFnBfx7v65Hh",
        "outputId": "658ba9b1-4618-4069-9d36-3e8d3be1e3c3"
      },
      "execution_count": null,
      "outputs": [
        {
          "output_type": "stream",
          "name": "stdout",
          "text": [
            "Pearson Correlation Coefficient: 0.9999999999999999\n"
          ]
        }
      ]
    },
    {
      "cell_type": "code",
      "source": [
        "# Generate random data sample\n",
        "random_sample = np.random.choice(data1, size=4, replace=False)\n",
        "print(\"Random Sample:\", random_sample)\n",
        "\n",
        "# Shuffle data\n",
        "np.random.shuffle(data1)\n",
        "print(\"Shuffled Data:\", data1)\n"
      ],
      "metadata": {
        "colab": {
          "base_uri": "https://localhost:8080/"
        },
        "id": "KbPggo7s7VOw",
        "outputId": "0bb060dd-e1f4-4307-f2a1-5ebb350fa2e1"
      },
      "execution_count": null,
      "outputs": [
        {
          "output_type": "stream",
          "name": "stdout",
          "text": [
            "Random Sample: [5 2 3 1]\n",
            "Shuffled Data: [5 2 1 3 4]\n"
          ]
        }
      ]
    },
    {
      "cell_type": "code",
      "source": [
        "# Create date range\n",
        "dates = np.arange('2023-01-01', '2023-01-06', dtype='datetime64')\n",
        "print(\"Date Range:\\n\", dates)\n",
        "\n",
        "# Calculate time differences\n",
        "time_diff = np.diff(dates)\n",
        "print(\"Time Differences:\\n\", time_diff)\n"
      ],
      "metadata": {
        "colab": {
          "base_uri": "https://localhost:8080/"
        },
        "id": "nV2zDBqESgB6",
        "outputId": "cb68cf6a-7b4b-49f4-c719-71d02dde5560"
      },
      "execution_count": null,
      "outputs": [
        {
          "output_type": "stream",
          "name": "stdout",
          "text": [
            "Date Range:\n",
            " ['2023-01-01' '2023-01-02' '2023-01-03' '2023-01-04' '2023-01-05']\n",
            "Time Differences:\n",
            " [1 1 1 1]\n"
          ]
        }
      ]
    },
    {
      "cell_type": "code",
      "source": [
        "# Generate sample data\n",
        "x = np.array([1, 2, 3, 4, 5])\n",
        "y = np.array([1.1, 4.2, 9.1, 15.9, 25.1])\n",
        "\n",
        "# Fit a polynomial of degree 2 to the data\n",
        "coefficients = np.polyfit(x, y, 2)\n",
        "print(\"Polynomial Coefficients:\", coefficients)\n"
      ],
      "metadata": {
        "colab": {
          "base_uri": "https://localhost:8080/"
        },
        "id": "IO0IJ1t1TbqS",
        "outputId": "0777b310-5b1c-4e1c-a22c-892d9f478d45"
      },
      "execution_count": null,
      "outputs": [
        {
          "output_type": "stream",
          "name": "stdout",
          "text": [
            "Polynomial Coefficients: [ 1.00714286 -0.07285714  0.22      ]\n"
          ]
        }
      ]
    },
    {
      "cell_type": "code",
      "source": [
        "complex1 = 2 + 3j\n",
        "complex2 = 1 - 2j\n",
        "\n",
        "# Complex number addition\n",
        "complex_sum = complex1 + complex2\n",
        "print(\"Complex Sum:\", complex_sum)\n",
        "\n",
        "# Complex number conjugate\n",
        "conjugate = np.conj(complex1)\n",
        "print(\"Complex Conjugate:\", conjugate)\n"
      ],
      "metadata": {
        "colab": {
          "base_uri": "https://localhost:8080/"
        },
        "id": "2-4WtZ0CTkiW",
        "outputId": "dac317ab-0273-4efe-f384-755a295a3288"
      },
      "execution_count": null,
      "outputs": [
        {
          "output_type": "stream",
          "name": "stdout",
          "text": [
            "Complex Sum: (3+1j)\n",
            "Complex Conjugate: (2-3j)\n"
          ]
        }
      ]
    },
    {
      "cell_type": "code",
      "source": [
        "data = np.array([0.5, 1.5, 2.5, 3.5, 4.5])\n",
        "bins = np.array([1, 2, 3])\n",
        "\n",
        "# Bin data into intervals\n",
        "bin_indices = np.digitize(data, bins)\n",
        "print(\"Bin Indices:\", bin_indices)\n"
      ],
      "metadata": {
        "colab": {
          "base_uri": "https://localhost:8080/"
        },
        "id": "oZkdFIKzTzLf",
        "outputId": "52ee78c9-ea62-43f5-d0c4-615a7c3ef533"
      },
      "execution_count": null,
      "outputs": [
        {
          "output_type": "stream",
          "name": "stdout",
          "text": [
            "Bin Indices: [0 1 2 3 3]\n"
          ]
        }
      ]
    },
    {
      "cell_type": "code",
      "source": [
        "from scipy import interpolate\n",
        "\n",
        "# Sample data points\n",
        "x = np.array([0, 1, 2, 3, 4])\n",
        "y = np.array([0, 2, 1, 3, 5])\n",
        "\n",
        "# Create an interpolation function\n",
        "interp_func = interpolate.interp1d(x, y, kind='linear')\n",
        "\n",
        "# Estimate values at new points\n",
        "x_new = np.array([0.5, 1.5, 2.5, 3.5])\n",
        "y_new = interp_func(x_new)\n",
        "print(\"Interpolated Values:\", y_new)\n"
      ],
      "metadata": {
        "colab": {
          "base_uri": "https://localhost:8080/"
        },
        "id": "G2oG-SVtT78n",
        "outputId": "b05689ca-3a44-41bc-ed67-54714c172d6f"
      },
      "execution_count": null,
      "outputs": [
        {
          "output_type": "stream",
          "name": "stdout",
          "text": [
            "Interpolated Values: [1.  1.5 2.  4. ]\n"
          ]
        }
      ]
    },
    {
      "cell_type": "code",
      "source": [
        "# Define input signals\n",
        "signal = np.array([1, 2, 1])\n",
        "kernel = np.array([1, 0, -1])\n",
        "\n",
        "# Perform convolution\n",
        "convolution_result = np.convolve(signal, kernel, mode='same')\n",
        "print(\"Convolution Result:\", convolution_result)\n"
      ],
      "metadata": {
        "colab": {
          "base_uri": "https://localhost:8080/"
        },
        "id": "FH1uxlnlUXm8",
        "outputId": "3394b324-f527-471f-b3a5-e8fbdfc80bf0"
      },
      "execution_count": null,
      "outputs": [
        {
          "output_type": "stream",
          "name": "stdout",
          "text": [
            "Convolution Result: [ 2  0 -2]\n"
          ]
        }
      ]
    },
    {
      "cell_type": "code",
      "source": [
        "data = np.array([1, 2, 3, 4, 5])\n",
        "\n",
        "# Replace values greater than 3 with 0\n",
        "result = np.where(data > 3, 0, data)\n",
        "\n",
        "print(\"Result of Conditional Operation:\", result)\n"
      ],
      "metadata": {
        "colab": {
          "base_uri": "https://localhost:8080/"
        },
        "id": "2WIIQYabUl8M",
        "outputId": "b30e174c-8cda-4c43-eead-1670439b13d5"
      },
      "execution_count": null,
      "outputs": [
        {
          "output_type": "stream",
          "name": "stdout",
          "text": [
            "Result of Conditional Operation: [1 2 3 0 0]\n"
          ]
        }
      ]
    },
    {
      "cell_type": "code",
      "source": [
        "data = np.ma.array([1, 2, 3, 4, 5], mask=[0, 1, 0, 0, 0])\n",
        "\n",
        "# Apply operations with masked data\n",
        "mean = np.ma.mean(data)\n",
        "sum_masked = np.ma.sum(data)\n",
        "\n",
        "print(\"Mean with Masked Data:\", mean)\n",
        "print(\"Sum with Masked Data:\", sum_masked)\n"
      ],
      "metadata": {
        "colab": {
          "base_uri": "https://localhost:8080/"
        },
        "id": "M35KPyQRU_D2",
        "outputId": "7e337c43-5905-46a7-939a-ec2610bb0844"
      },
      "execution_count": null,
      "outputs": [
        {
          "output_type": "stream",
          "name": "stdout",
          "text": [
            "Mean with Masked Data: 3.25\n",
            "Sum with Masked Data: 13\n"
          ]
        }
      ]
    },
    {
      "cell_type": "code",
      "source": [
        "# Coefficient matrix\n",
        "A = np.array([[2, 3], [4, 5]])\n",
        "\n",
        "# Right-hand side vector\n",
        "b = np.array([8, 18])\n",
        "\n",
        "# Solve the linear system\n",
        "x = np.linalg.solve(A, b)\n",
        "\n",
        "print(\"Solution to the Linear System:\", x)\n"
      ],
      "metadata": {
        "colab": {
          "base_uri": "https://localhost:8080/"
        },
        "id": "D7sgXfiAVS0A",
        "outputId": "4880acda-c46a-40fb-f1fc-6c7936db1b3f"
      },
      "execution_count": null,
      "outputs": [
        {
          "output_type": "stream",
          "name": "stdout",
          "text": [
            "Solution to the Linear System: [ 7. -2.]\n"
          ]
        }
      ]
    },
    {
      "cell_type": "markdown",
      "source": [
        "# pandas"
      ],
      "metadata": {
        "id": "dUZ632a0WjDo"
      }
    },
    {
      "cell_type": "code",
      "source": [
        "import pandas as pd\n",
        "\n",
        "# Creating a Series from a list\n",
        "data = [1, 2, 3, 4, 5]\n",
        "s = pd.Series(data)\n",
        "print(s)\n"
      ],
      "metadata": {
        "colab": {
          "base_uri": "https://localhost:8080/"
        },
        "id": "zrOv4V58VjVV",
        "outputId": "c24b98d3-eaf4-49b3-fa4c-59e8f4276e1f"
      },
      "execution_count": null,
      "outputs": [
        {
          "output_type": "stream",
          "name": "stdout",
          "text": [
            "0    1\n",
            "1    2\n",
            "2    3\n",
            "3    4\n",
            "4    5\n",
            "dtype: int64\n"
          ]
        }
      ]
    },
    {
      "cell_type": "code",
      "source": [
        "# Creating a DataFrame from a dictionary\n",
        "data = {'Name': ['Alice', 'Bob', 'Charlie', 'David'],\n",
        "        'Age': [25, 30, 35, 28]}\n",
        "df = pd.DataFrame(data)\n",
        "print(df)\n"
      ],
      "metadata": {
        "colab": {
          "base_uri": "https://localhost:8080/"
        },
        "id": "VK6ReQuWWmrx",
        "outputId": "109ff4ae-2e9f-4e46-b2cd-2248bde1acb4"
      },
      "execution_count": null,
      "outputs": [
        {
          "output_type": "stream",
          "name": "stdout",
          "text": [
            "      Name  Age\n",
            "0    Alice   25\n",
            "1      Bob   30\n",
            "2  Charlie   35\n",
            "3    David   28\n"
          ]
        }
      ]
    },
    {
      "cell_type": "code",
      "source": [
        "# Selecting a column by name\n",
        "ages = df['Age']\n",
        "\n",
        "# Slicing rows\n",
        "subset = df[1:3]\n",
        "print(\"Selected Column (Ages):\")\n",
        "print(ages)\n",
        "print(\"Sliced DataFrame:\")\n",
        "print(subset)\n"
      ],
      "metadata": {
        "colab": {
          "base_uri": "https://localhost:8080/"
        },
        "id": "8pNAGfjbWpPI",
        "outputId": "55947fe0-1f97-47ec-ca75-9760a8aff765"
      },
      "execution_count": null,
      "outputs": [
        {
          "output_type": "stream",
          "name": "stdout",
          "text": [
            "Selected Column (Ages):\n",
            "0    25\n",
            "1    30\n",
            "2    35\n",
            "3    28\n",
            "Name: Age, dtype: int64\n",
            "Sliced DataFrame:\n",
            "      Name  Age\n",
            "1      Bob   30\n",
            "2  Charlie   35\n"
          ]
        }
      ]
    },
    {
      "cell_type": "code",
      "source": [
        "# Filtering rows based on a condition\n",
        "youngsters = df[df['Age'] < 30]\n",
        "print(\"Youngsters (Age < 30):\")\n",
        "print(youngsters)\n"
      ],
      "metadata": {
        "colab": {
          "base_uri": "https://localhost:8080/"
        },
        "id": "OKq5-4MTW0tU",
        "outputId": "23c34b53-7f8d-4535-e549-27c7fb8765d7"
      },
      "execution_count": null,
      "outputs": [
        {
          "output_type": "stream",
          "name": "stdout",
          "text": [
            "Youngsters (Age < 30):\n",
            "    Name  Age\n",
            "0  Alice   25\n",
            "3  David   28\n"
          ]
        }
      ]
    },
    {
      "cell_type": "code",
      "source": [
        "# Reading a CSV file\n",
        "data = pd.read_csv('/content/iris.csv')\n",
        "\n",
        "# Exporting a DataFrame to CSV\n",
        "data.to_csv('exported_data.csv', index=False)\n",
        "print(\"Read Data from CSV:\")\n",
        "print(data.head())\n"
      ],
      "metadata": {
        "colab": {
          "base_uri": "https://localhost:8080/"
        },
        "id": "JfXKv5hJXdkf",
        "outputId": "aa057bec-31ed-4088-a1a6-0ae2ee4bb83a"
      },
      "execution_count": null,
      "outputs": [
        {
          "output_type": "stream",
          "name": "stdout",
          "text": [
            "Read Data from CSV:\n",
            "   Sepal.Length  Sepal.Width  Petal.Length  Petal.Width Species\n",
            "0           5.1          3.5           1.4          0.2  setosa\n",
            "1           4.9          3.0           1.4          0.2  setosa\n",
            "2           4.7          3.2           1.3          0.2  setosa\n",
            "3           4.6          3.1           1.5          0.2  setosa\n",
            "4           5.0          3.6           1.4          0.2  setosa\n"
          ]
        }
      ]
    },
    {
      "cell_type": "code",
      "source": [
        "# Handling missing values\n",
        "data.dropna()  # Remove rows with missing values\n",
        "data.fillna(0)  # Fill missing values with 0\n",
        "\n",
        "# Removing duplicates\n",
        "data.drop_duplicates()\n",
        "print(\"Cleaned Data (Missing Values Removed):\")\n",
        "print(data.head())\n"
      ],
      "metadata": {
        "colab": {
          "base_uri": "https://localhost:8080/"
        },
        "id": "kL6XO-ejYl53",
        "outputId": "1a581066-e746-414c-9c37-339ba84d2a8e"
      },
      "execution_count": null,
      "outputs": [
        {
          "output_type": "stream",
          "name": "stdout",
          "text": [
            "Cleaned Data (Missing Values Removed):\n",
            "   Sepal.Length  Sepal.Width  Petal.Length  Petal.Width Species\n",
            "0           5.1          3.5           1.4          0.2  setosa\n",
            "1           4.9          3.0           1.4          0.2  setosa\n",
            "2           4.7          3.2           1.3          0.2  setosa\n",
            "3           4.6          3.1           1.5          0.2  setosa\n",
            "4           5.0          3.6           1.4          0.2  setosa\n"
          ]
        }
      ]
    },
    {
      "cell_type": "code",
      "source": [
        "# Grouping by 'Category' and calculating the mean for each group\n",
        "grouped = data.groupby('Species')\n",
        "mean_values = grouped['Petal.Length'].mean()\n",
        "print(\"Grouped Data with Mean Values:\")\n",
        "print(mean_values)\n"
      ],
      "metadata": {
        "colab": {
          "base_uri": "https://localhost:8080/"
        },
        "id": "yPkWRchPY4wc",
        "outputId": "611207a2-d662-4a11-bae5-0974ca4bf484"
      },
      "execution_count": null,
      "outputs": [
        {
          "output_type": "stream",
          "name": "stdout",
          "text": [
            "Grouped Data with Mean Values:\n",
            "Species\n",
            "setosa        1.462\n",
            "versicolor    4.260\n",
            "virginica     5.552\n",
            "Name: Petal.Length, dtype: float64\n"
          ]
        }
      ]
    },
    {
      "cell_type": "code",
      "source": [
        "import pandas as pd\n",
        "\n",
        "data1 = {'ID': [1, 2, 3, 4],\n",
        "         'Name': ['Alice', 'Bob', 'Charlie', 'David'],\n",
        "         'Age': [25, 30, 35, 28]}\n",
        "df1 = pd.DataFrame(data1)\n",
        "\n",
        "data2 = {'ID': [2, 3, 5, 6],\n",
        "         'Department': ['HR', 'Finance', 'IT', 'Marketing']}\n",
        "df2 = pd.DataFrame(data2)\n",
        "\n",
        "# Merging two DataFrames on a common column\n",
        "merged = pd.merge(df1, df2, on='ID')\n",
        "\n",
        "# Joining DataFrames based on index\n",
        "joined = df1.join(df2, lsuffix='_left', rsuffix='_right')\n",
        "print(\"Merged Data:\")\n",
        "print(merged.head())\n",
        "\n",
        "print(\"Joined Data:\")\n",
        "print(joined.head())\n"
      ],
      "metadata": {
        "colab": {
          "base_uri": "https://localhost:8080/"
        },
        "id": "WQ5gEjjoZOsY",
        "outputId": "e5fc38c0-c567-4c3e-99ad-48abea50abf6"
      },
      "execution_count": null,
      "outputs": [
        {
          "output_type": "stream",
          "name": "stdout",
          "text": [
            "Merged Data:\n",
            "   ID     Name  Age Department\n",
            "0   2      Bob   30         HR\n",
            "1   3  Charlie   35    Finance\n",
            "Joined Data:\n",
            "   ID_left     Name  Age  ID_right Department\n",
            "0        1    Alice   25         2         HR\n",
            "1        2      Bob   30         3    Finance\n",
            "2        3  Charlie   35         5         IT\n",
            "3        4    David   28         6  Marketing\n"
          ]
        }
      ]
    },
    {
      "cell_type": "code",
      "source": [
        "import pandas as pd\n",
        "\n",
        "# Sample DataFrames\n",
        "df1 = pd.DataFrame({'ID': [1, 2, 3], 'Name': ['Alice', 'Bob', 'Charlie']})\n",
        "df2 = pd.DataFrame({'ID': [2, 3, 4], 'Age': [25, 30, 35],})\n",
        "\n",
        "# Perform an inner join on the 'ID' column\n",
        "result = pd.merge(df1, df2, on='ID')\n",
        "\n",
        "print(\"Inner Join Result:\")\n",
        "print(result)\n"
      ],
      "metadata": {
        "colab": {
          "base_uri": "https://localhost:8080/"
        },
        "id": "mBziEgn4Z6Ee",
        "outputId": "d13da7d5-21cd-4016-95df-72023709d9be"
      },
      "execution_count": null,
      "outputs": [
        {
          "output_type": "stream",
          "name": "stdout",
          "text": [
            "Inner Join Result:\n",
            "   ID     Name  Age\n",
            "0   2      Bob   25\n",
            "1   3  Charlie   30\n"
          ]
        }
      ]
    },
    {
      "cell_type": "code",
      "source": [
        "# Perform a left join on the 'ID' column\n",
        "left_join_result = pd.merge(df1, df2, on='ID', how='left')\n",
        "\n",
        "print(\"Left Join Result:\")\n",
        "print(left_join_result)\n"
      ],
      "metadata": {
        "colab": {
          "base_uri": "https://localhost:8080/"
        },
        "id": "dCi3UgQ-bsSZ",
        "outputId": "249ed406-bbf2-41cc-e505-2288868e2282"
      },
      "execution_count": null,
      "outputs": [
        {
          "output_type": "stream",
          "name": "stdout",
          "text": [
            "Left Join Result:\n",
            "   ID     Name   Age\n",
            "0   1    Alice   NaN\n",
            "1   2      Bob  25.0\n",
            "2   3  Charlie  30.0\n"
          ]
        }
      ]
    },
    {
      "cell_type": "code",
      "source": [
        "# Perform a right join on the 'ID' column\n",
        "right_join_result = pd.merge(df1, df2, on='ID', how='right')\n",
        "\n",
        "print(\"Right Join Result:\")\n",
        "print(right_join_result)\n"
      ],
      "metadata": {
        "colab": {
          "base_uri": "https://localhost:8080/"
        },
        "id": "EdoolT9cbvlo",
        "outputId": "76cc4622-1095-4910-9662-f734b7c42f3b"
      },
      "execution_count": null,
      "outputs": [
        {
          "output_type": "stream",
          "name": "stdout",
          "text": [
            "Right Join Result:\n",
            "   ID     Name  Age\n",
            "0   2      Bob   25\n",
            "1   3  Charlie   30\n",
            "2   4      NaN   35\n"
          ]
        }
      ]
    },
    {
      "cell_type": "code",
      "source": [
        "# Perform a full join on the 'ID' column\n",
        "full_join_result = pd.merge(df1, df2, on='ID', how='outer')\n",
        "\n",
        "print(\"Full Join Result:\")\n",
        "print(full_join_result)\n"
      ],
      "metadata": {
        "colab": {
          "base_uri": "https://localhost:8080/"
        },
        "id": "sWRBrUPqb0LH",
        "outputId": "85b44c95-c20c-4605-a4f4-c6452cb92c04"
      },
      "execution_count": null,
      "outputs": [
        {
          "output_type": "stream",
          "name": "stdout",
          "text": [
            "Full Join Result:\n",
            "   ID     Name   Age\n",
            "0   1    Alice   NaN\n",
            "1   2      Bob  25.0\n",
            "2   3  Charlie  30.0\n",
            "3   4      NaN  35.0\n"
          ]
        }
      ]
    },
    {
      "cell_type": "code",
      "source": [
        "# Using .join() for a simple index-based join\n",
        "df1 = pd.DataFrame({'A': ['A0', 'A1', 'A2'], 'B': ['B0', 'B1', 'B2']}, index=['X', 'Y', 'Z'])\n",
        "df2 = pd.DataFrame({'C': ['C0', 'C1', 'C2'], 'D': ['D0', 'D1', 'D2']}, index=['X', 'Y', 'W'])\n",
        "\n",
        "result = df1.join(df2, how='inner')\n",
        "\n",
        "print(\"Join Result:\")\n",
        "print(result)\n"
      ],
      "metadata": {
        "colab": {
          "base_uri": "https://localhost:8080/"
        },
        "id": "5dKwUxHTcD6O",
        "outputId": "1140bb05-5909-4e12-b9a9-d33dc9ee72ab"
      },
      "execution_count": null,
      "outputs": [
        {
          "output_type": "stream",
          "name": "stdout",
          "text": [
            "Join Result:\n",
            "    A   B   C   D\n",
            "X  A0  B0  C0  D0\n",
            "Y  A1  B1  C1  D1\n"
          ]
        }
      ]
    },
    {
      "cell_type": "code",
      "source": [
        "import pandas as pd\n",
        "\n",
        "data = {\n",
        "    'Date': ['2023-10-01', '2023-10-02', '2023-10-03', '2023-10-04'],\n",
        "    'Value': [25, 30, 35, 28],\n",
        "    'Category': ['A', 'B', 'A', 'C']\n",
        "}\n",
        "\n",
        "df = pd.DataFrame(data)\n",
        "df['Date'] = pd.to_datetime(df['Date'])  # Convert the 'Date' column to datetime\n",
        "\n",
        "print(df)\n",
        "\n",
        "# Resampling data by month\n",
        "monthly_data = df.resample('M', on='Date').sum()\n",
        "print(\"Monthly Resampled Data:\")\n",
        "print(monthly_data)\n",
        "\n"
      ],
      "metadata": {
        "colab": {
          "base_uri": "https://localhost:8080/"
        },
        "id": "FtQwp5AUmzp6",
        "outputId": "2757cb99-c813-4c4a-9565-018a6c04c552"
      },
      "execution_count": null,
      "outputs": [
        {
          "output_type": "stream",
          "name": "stdout",
          "text": [
            "        Date  Value Category\n",
            "0 2023-10-01     25        A\n",
            "1 2023-10-02     30        B\n",
            "2 2023-10-03     35        A\n",
            "3 2023-10-04     28        C\n",
            "Monthly Resampled Data:\n",
            "            Value\n",
            "Date             \n",
            "2023-10-31    118\n"
          ]
        },
        {
          "output_type": "stream",
          "name": "stderr",
          "text": [
            "<ipython-input-94-e7c9f7301123>:14: FutureWarning: The default value of numeric_only in DataFrameGroupBy.sum is deprecated. In a future version, numeric_only will default to False. Either specify numeric_only or select only columns which should be valid for the function.\n",
            "  monthly_data = df.resample('M', on='Date').sum()\n"
          ]
        }
      ]
    },
    {
      "cell_type": "code",
      "source": [
        "import matplotlib.pyplot as plt\n",
        "\n",
        "# Plotting a DataFrame\n",
        "df.plot(x='Date', y='Value')\n",
        "plt.show()\n"
      ],
      "metadata": {
        "colab": {
          "base_uri": "https://localhost:8080/",
          "height": 435
        },
        "id": "xgNo0ErbmT1-",
        "outputId": "fd8a0586-3014-4f20-e229-48f8cfb09d64"
      },
      "execution_count": null,
      "outputs": [
        {
          "output_type": "display_data",
          "data": {
            "text/plain": [
              "<Figure size 640x480 with 1 Axes>"
            ],
            "image/png": "[encoded data removed]"
          },
          "metadata": {}
        }
      ]
    },
    {
      "cell_type": "code",
      "source": [
        "import pandas as pd\n",
        "\n",
        "# Create a sample dataset\n",
        "data = {\n",
        "    'Name': ['Alice', 'Bob', 'Charlie', 'David', 'Eve'],\n",
        "    'Department': ['HR', 'Finance', 'IT', 'HR', 'IT'],\n",
        "    'Age': [25, 30, 35, 28, 24],\n",
        "    'Salary': [50000, 60000, 75000, 52000, 48000]\n",
        "}\n",
        "\n",
        "df = pd.DataFrame(data)\n",
        "\n",
        "# Display the dataset\n",
        "print(\"Sample Employee Dataset:\")\n",
        "print(df)\n"
      ],
      "metadata": {
        "colab": {
          "base_uri": "https://localhost:8080/"
        },
        "id": "-HKsZhqGokyj",
        "outputId": "9f3be89f-054e-42f0-9035-5400513b382d"
      },
      "execution_count": null,
      "outputs": [
        {
          "output_type": "stream",
          "name": "stdout",
          "text": [
            "Sample Employee Dataset:\n",
            "      Name Department  Age  Salary\n",
            "0    Alice         HR   25   50000\n",
            "1      Bob    Finance   30   60000\n",
            "2  Charlie         IT   35   75000\n",
            "3    David         HR   28   52000\n",
            "4      Eve         IT   24   48000\n"
          ]
        }
      ]
    },
    {
      "cell_type": "code",
      "source": [
        "# Calculating summary statistics\n",
        "df.describe()\n",
        "\n",
        "# Computing correlations\n",
        "correlation_matrix = df.corr()\n",
        "print(\"Summary Statistics:\")\n",
        "print(df.describe())\n",
        "print(\"Correlation Matrix:\")\n",
        "print(correlation_matrix)\n"
      ],
      "metadata": {
        "colab": {
          "base_uri": "https://localhost:8080/"
        },
        "id": "_uBc84Qcn_rJ",
        "outputId": "40eaf595-6fae-4ef2-c362-75f252ebcdc6"
      },
      "execution_count": null,
      "outputs": [
        {
          "output_type": "stream",
          "name": "stdout",
          "text": [
            "Summary Statistics:\n",
            "             Age        Salary\n",
            "count   5.000000      5.000000\n",
            "mean   28.400000  57000.000000\n",
            "std     4.393177  11045.361017\n",
            "min    24.000000  48000.000000\n",
            "25%    25.000000  50000.000000\n",
            "50%    28.000000  52000.000000\n",
            "75%    30.000000  60000.000000\n",
            "max    35.000000  75000.000000\n",
            "Correlation Matrix:\n",
            "             Age    Salary\n",
            "Age     1.000000  0.973741\n",
            "Salary  0.973741  1.000000\n"
          ]
        },
        {
          "output_type": "stream",
          "name": "stderr",
          "text": [
            "<ipython-input-101-7d1e835e2775>:5: FutureWarning: The default value of numeric_only in DataFrame.corr is deprecated. In a future version, it will default to False. Select only valid columns or specify the value of numeric_only to silence this warning.\n",
            "  correlation_matrix = df.corr()\n"
          ]
        }
      ]
    },
    {
      "cell_type": "code",
      "source": [
        "import pandas as pd\n",
        "\n",
        "# Create a DataFrame with date and time data\n",
        "data = {'Date': ['2023-01-01', '2023-01-02', '2023-01-03'],\n",
        "        'Temperature': [25, 28, 24]}\n",
        "df = pd.DataFrame(data)\n",
        "\n",
        "# Convert the 'Date' column to a datetime object\n",
        "df['Date'] = pd.to_datetime(df['Date'])\n",
        "\n",
        "# Extract various date components\n",
        "df['Year'] = df['Date'].dt.year\n",
        "df['Month'] = df['Date'].dt.month\n",
        "df['Day'] = df['Date'].dt.day\n",
        "\n",
        "print(\"DataFrame with Date and Time:\")\n",
        "print(df)\n"
      ],
      "metadata": {
        "colab": {
          "base_uri": "https://localhost:8080/"
        },
        "id": "dVHGsM9Ao-MU",
        "outputId": "069ea239-211c-435d-bbe0-51463b7061cd"
      },
      "execution_count": null,
      "outputs": [
        {
          "output_type": "stream",
          "name": "stdout",
          "text": [
            "DataFrame with Date and Time:\n",
            "        Date  Temperature  Year  Month  Day\n",
            "0 2023-01-01           25  2023      1    1\n",
            "1 2023-01-02           28  2023      1    2\n",
            "2 2023-01-03           24  2023      1    3\n"
          ]
        }
      ]
    },
    {
      "cell_type": "code",
      "source": [
        "# Create a sample DataFrame\n",
        "data = {'Date': ['2023-01-01', '2023-01-02', '2023-01-01', '2023-01-03'],\n",
        "        'Category': ['A', 'B', 'A', 'C'],\n",
        "        'Value': [10, 15, 8, 20]}\n",
        "df = pd.DataFrame(data)\n",
        "\n",
        "# Create a pivot table to summarize data\n",
        "pivot_table = df.pivot_table(values='Value', index='Date', columns='Category', aggfunc='sum')\n",
        "\n",
        "print(\"Pivot Table:\")\n",
        "print(pivot_table)\n"
      ],
      "metadata": {
        "colab": {
          "base_uri": "https://localhost:8080/"
        },
        "id": "Zm2Tyq4DqgdJ",
        "outputId": "f6a2ca51-4623-4896-a994-cfe1751b136b"
      },
      "execution_count": null,
      "outputs": [
        {
          "output_type": "stream",
          "name": "stdout",
          "text": [
            "Pivot Table:\n",
            "Category       A     B     C\n",
            "Date                        \n",
            "2023-01-01  18.0   NaN   NaN\n",
            "2023-01-02   NaN  15.0   NaN\n",
            "2023-01-03   NaN   NaN  20.0\n"
          ]
        }
      ]
    },
    {
      "cell_type": "code",
      "source": [
        "# Create a DataFrame with categorical data\n",
        "data = {'Category': ['A', 'B', 'A', 'C', 'B']}\n",
        "df = pd.DataFrame(data)\n",
        "\n",
        "# Encode categorical data using one-hot encoding\n",
        "one_hot_encoded = pd.get_dummies(df, columns=['Category'], prefix='Category')\n",
        "\n",
        "print(\"One-Hot Encoded Data:\")\n",
        "print(one_hot_encoded)\n"
      ],
      "metadata": {
        "colab": {
          "base_uri": "https://localhost:8080/"
        },
        "id": "qaj96JlPqvki",
        "outputId": "e1c91fe8-76cc-46af-982a-c5695bd5efc8"
      },
      "execution_count": null,
      "outputs": [
        {
          "output_type": "stream",
          "name": "stdout",
          "text": [
            "One-Hot Encoded Data:\n",
            "   Category_A  Category_B  Category_C\n",
            "0           1           0           0\n",
            "1           0           1           0\n",
            "2           1           0           0\n",
            "3           0           0           1\n",
            "4           0           1           0\n"
          ]
        }
      ]
    },
    {
      "cell_type": "code",
      "source": [
        "# Create a DataFrame with numerical data\n",
        "data = {'Value': [10, 15, 20, 25, 30]}\n",
        "\n",
        "df = pd.DataFrame(data)\n",
        "\n",
        "# Apply a custom function to transform data\n",
        "def custom_function(x):\n",
        "    return x ** 2\n",
        "\n",
        "df['Squared_Value'] = df['Value'].apply(custom_function)\n",
        "\n",
        "print(\"DataFrame with Transformed Data:\")\n",
        "print(df)\n",
        "\n"
      ],
      "metadata": {
        "colab": {
          "base_uri": "https://localhost:8080/"
        },
        "id": "te4R0Tf1q_26",
        "outputId": "519f2212-db07-4e0f-acda-2f21273537f3"
      },
      "execution_count": null,
      "outputs": [
        {
          "output_type": "stream",
          "name": "stdout",
          "text": [
            "DataFrame with Transformed Data:\n",
            "   Value  Squared_Value\n",
            "0     10            100\n",
            "1     15            225\n",
            "2     20            400\n",
            "3     25            625\n",
            "4     30            900\n"
          ]
        }
      ]
    },
    {
      "cell_type": "code",
      "source": [
        "# Create two DataFrames\n",
        "data1 = {'ID': [1, 2, 3], 'Name': ['Alice', 'Bob', 'Charlie']}\n",
        "df1 = pd.DataFrame(data1)\n",
        "\n",
        "data2 = {'ID': [2, 3, 4], 'Age': [25, 30, 35]}\n",
        "df2 = pd.DataFrame(data2)\n",
        "\n",
        "# Combine DataFrames using merge\n",
        "merged = pd.merge(df1, df2, on='ID')\n",
        "\n",
        "print(\"Merged DataFrame:\")\n",
        "print(merged)\n"
      ],
      "metadata": {
        "colab": {
          "base_uri": "https://localhost:8080/"
        },
        "id": "cUm59C7FrtRh",
        "outputId": "fd12319e-ccca-444e-d12b-9252fcd463da"
      },
      "execution_count": null,
      "outputs": [
        {
          "output_type": "stream",
          "name": "stdout",
          "text": [
            "Merged DataFrame:\n",
            "   ID     Name  Age\n",
            "0   2      Bob   25\n",
            "1   3  Charlie   30\n"
          ]
        }
      ]
    },
    {
      "cell_type": "code",
      "source": [
        "# Create a DataFrame with numerical data\n",
        "data = {'Category': ['A', 'B', 'A', 'C', 'B'],\n",
        "        'Value': [10, 15, 20, 25, 30]}\n",
        "\n",
        "df = pd.DataFrame(data)\n",
        "\n",
        "# Group data by 'Category' and calculate the mean\n",
        "mean_values = df.groupby('Category')['Value'].mean()\n",
        "\n",
        "print(\"Mean Values by Category:\")\n",
        "print(mean_values)\n"
      ],
      "metadata": {
        "colab": {
          "base_uri": "https://localhost:8080/"
        },
        "id": "UY1MILwZsEdh",
        "outputId": "6895e7ee-28d8-4d26-ad69-5cdd09e4130a"
      },
      "execution_count": null,
      "outputs": [
        {
          "output_type": "stream",
          "name": "stdout",
          "text": [
            "Mean Values by Category:\n",
            "Category\n",
            "A    15.0\n",
            "B    22.5\n",
            "C    25.0\n",
            "Name: Value, dtype: float64\n"
          ]
        }
      ]
    },
    {
      "cell_type": "code",
      "source": [
        "# Create a DataFrame with time series data\n",
        "data = {'Date': ['2023-01-01', '2023-01-02', '2023-01-03', '2023-01-04'],\n",
        "        'Value': [10, 15, 20, 25]}\n",
        "\n",
        "df = pd.DataFrame(data)\n",
        "\n",
        "# Convert the 'Date' column to a datetime object\n",
        "df['Date'] = pd.to_datetime(df['Date'])\n",
        "\n",
        "# Set the 'Date' column as the index\n",
        "df.set_index('Date', inplace=True)\n",
        "\n",
        "# Calculate a 3-day rolling average\n",
        "rolling_avg = df['Value'].rolling(window=3).mean()\n",
        "\n",
        "print(\"3-Day Rolling Average:\")\n",
        "print(rolling_avg)\n"
      ],
      "metadata": {
        "colab": {
          "base_uri": "https://localhost:8080/"
        },
        "id": "dAkVj0TDtOcD",
        "outputId": "1def9d81-9ff7-4f42-e723-118c4caeaac7"
      },
      "execution_count": null,
      "outputs": [
        {
          "output_type": "stream",
          "name": "stdout",
          "text": [
            "3-Day Rolling Average:\n",
            "Date\n",
            "2023-01-01     NaN\n",
            "2023-01-02     NaN\n",
            "2023-01-03    15.0\n",
            "2023-01-04    20.0\n",
            "Name: Value, dtype: float64\n"
          ]
        }
      ]
    },
    {
      "cell_type": "code",
      "source": [
        "# Create a DataFrame with numerical data\n",
        "data = {'Value': [10, 15, 20, 25, 30, 35, 40, 45, 50]}\n",
        "\n",
        "df = pd.DataFrame(data)\n",
        "\n",
        "# Randomly sample 3 rows from the DataFrame\n",
        "sampled_data = df.sample(n=3)\n",
        "\n",
        "print(\"Randomly Sampled Data:\")\n",
        "print(sampled_data)\n"
      ],
      "metadata": {
        "colab": {
          "base_uri": "https://localhost:8080/"
        },
        "id": "oI1-3ItNtUBi",
        "outputId": "4c8cc228-88c6-44e9-f8b3-85ac738b736e"
      },
      "execution_count": null,
      "outputs": [
        {
          "output_type": "stream",
          "name": "stdout",
          "text": [
            "Randomly Sampled Data:\n",
            "   Value\n",
            "2     20\n",
            "0     10\n",
            "1     15\n"
          ]
        }
      ]
    },
    {
      "cell_type": "code",
      "source": [
        "# Create two DataFrames\n",
        "data1 = {'ID': [1, 2, 3], 'Name': ['Alice', 'Bob', 'Charlie']}\n",
        "df1 = pd.DataFrame(data1)\n",
        "\n",
        "data2 = {'ID': [4, 5, 6], 'Name': ['David', 'Eve', 'Frank']}\n",
        "df2 = pd.DataFrame(data2)\n",
        "\n",
        "# Concatenate DataFrames vertically (along rows)\n",
        "concatenated = pd.concat([df1, df2])\n",
        "\n",
        "print(\"Concatenated DataFrames:\")\n",
        "print(concatenated)\n"
      ],
      "metadata": {
        "colab": {
          "base_uri": "https://localhost:8080/"
        },
        "id": "hCuocL2MuoSE",
        "outputId": "6968848f-66f5-45a8-a3f5-1b63befdeb30"
      },
      "execution_count": null,
      "outputs": [
        {
          "output_type": "stream",
          "name": "stdout",
          "text": [
            "Concatenated DataFrames:\n",
            "   ID     Name\n",
            "0   1    Alice\n",
            "1   2      Bob\n",
            "2   3  Charlie\n",
            "0   4    David\n",
            "1   5      Eve\n",
            "2   6    Frank\n"
          ]
        }
      ]
    },
    {
      "cell_type": "code",
      "source": [
        "# Create a DataFrame with duplicate data\n",
        "data = {'ID': [1, 2, 2, 3, 4],\n",
        "        'Name': ['Alice', 'Bob', 'Bob', 'Charlie', 'David']}\n",
        "\n",
        "df = pd.DataFrame(data)\n",
        "\n",
        "# Check for duplicate rows\n",
        "duplicates = df[df.duplicated()]\n",
        "\n",
        "print(\"Duplicate Rows:\")\n",
        "print(duplicates)\n"
      ],
      "metadata": {
        "colab": {
          "base_uri": "https://localhost:8080/"
        },
        "id": "XFhDLeaiurAf",
        "outputId": "103e1443-4f3d-431e-c011-0b499d8113c9"
      },
      "execution_count": null,
      "outputs": [
        {
          "output_type": "stream",
          "name": "stdout",
          "text": [
            "Duplicate Rows:\n",
            "   ID Name\n",
            "2   2  Bob\n"
          ]
        }
      ]
    },
    {
      "cell_type": "code",
      "source": [
        "# Create a DataFrame with categorical data\n",
        "data = {'Gender': ['Male', 'Female', 'Male', 'Female', 'Male'],\n",
        "        'Preference': ['A', 'B', 'A', 'B', 'A']}\n",
        "\n",
        "df = pd.DataFrame(data)\n",
        "\n",
        "# Create a cross-tabulation\n",
        "cross_tab = pd.crosstab(df['Gender'], df['Preference'])\n",
        "\n",
        "print(\"Cross-Tabulation:\")\n",
        "print(cross_tab)\n"
      ],
      "metadata": {
        "colab": {
          "base_uri": "https://localhost:8080/"
        },
        "id": "lCDOfhKPvVyK",
        "outputId": "61310ab5-ad4f-4275-f358-01fb78802ef9"
      },
      "execution_count": null,
      "outputs": [
        {
          "output_type": "stream",
          "name": "stdout",
          "text": [
            "Cross-Tabulation:\n",
            "Preference  A  B\n",
            "Gender          \n",
            "Female      0  2\n",
            "Male        3  0\n"
          ]
        }
      ]
    },
    {
      "cell_type": "code",
      "source": [
        "# Create a wide-format DataFrame\n",
        "data = {'Date': ['2023-01-01', '2023-01-02', '2023-01-03'],\n",
        "        'A': [10, 20, 30],\n",
        "        'B': [5, 15, 25]}\n",
        "\n",
        "df = pd.DataFrame(data)\n",
        "\n",
        "# Melt the data to long format\n",
        "melted = pd.melt(df, id_vars=['Date'], var_name='Variable', value_name='Value')\n",
        "\n",
        "print(\"Melted Data:\")\n",
        "print(melted)\n",
        "\n",
        "# Pivot the data back to wide format\n",
        "pivoted = melted.pivot(index='Date', columns='Variable', values='Value')\n",
        "\n",
        "print(\"Pivoted Data:\")\n",
        "print(pivoted)\n"
      ],
      "metadata": {
        "colab": {
          "base_uri": "https://localhost:8080/"
        },
        "id": "cAV9L4eOvh-P",
        "outputId": "4fe85043-c6e2-4f33-cc0f-501531a667c9"
      },
      "execution_count": null,
      "outputs": [
        {
          "output_type": "stream",
          "name": "stdout",
          "text": [
            "Melted Data:\n",
            "         Date Variable  Value\n",
            "0  2023-01-01        A     10\n",
            "1  2023-01-02        A     20\n",
            "2  2023-01-03        A     30\n",
            "3  2023-01-01        B      5\n",
            "4  2023-01-02        B     15\n",
            "5  2023-01-03        B     25\n",
            "Pivoted Data:\n",
            "Variable     A   B\n",
            "Date              \n",
            "2023-01-01  10   5\n",
            "2023-01-02  20  15\n",
            "2023-01-03  30  25\n"
          ]
        }
      ]
    },
    {
      "cell_type": "code",
      "source": [
        "# Create a DataFrame with text data\n",
        "data = {'Text': ['Hello, world!', 'Python is great.', 'Pandas is awesome.']}\n",
        "\n",
        "df = pd.DataFrame(data)\n",
        "\n",
        "# Count the number of characters in each text\n",
        "df['Text_Length'] = df['Text'].str.len()\n",
        "\n",
        "# Convert text to lowercase\n",
        "df['Lowercase_Text'] = df['Text'].str.lower()\n",
        "\n",
        "print(\"Text Data Operations:\")\n",
        "print(df)\n"
      ],
      "metadata": {
        "colab": {
          "base_uri": "https://localhost:8080/"
        },
        "id": "DZZnjhrbvzuc",
        "outputId": "8104419e-15f2-406f-b18d-d62095937f85"
      },
      "execution_count": null,
      "outputs": [
        {
          "output_type": "stream",
          "name": "stdout",
          "text": [
            "Text Data Operations:\n",
            "                 Text  Text_Length      Lowercase_Text\n",
            "0       Hello, world!           13       hello, world!\n",
            "1    Python is great.           16    python is great.\n",
            "2  Pandas is awesome.           18  pandas is awesome.\n"
          ]
        }
      ]
    },
    {
      "cell_type": "code",
      "source": [
        "# Create a DataFrame with numerical data\n",
        "data = {'Category': ['A', 'B', 'A', 'B', 'A'],\n",
        "        'Value': [10, 15, 20, 25, 30]}\n",
        "\n",
        "df = pd.DataFrame(data)\n",
        "\n",
        "# Define a custom function to calculate the difference from the mean\n",
        "def diff_from_mean(x):\n",
        "    return x - x.mean()\n",
        "\n",
        "# Apply the custom function to grouped data\n",
        "df['Diff_From_Mean'] = df.groupby('Category')['Value'].transform(diff_from_mean)\n",
        "\n",
        "print(\"Grouped Operations Result:\")\n",
        "print(df)\n"
      ],
      "metadata": {
        "colab": {
          "base_uri": "https://localhost:8080/"
        },
        "id": "AZ3uCv6Jwa0I",
        "outputId": "4d8adb54-1edb-464d-c588-76bb4fb2a442"
      },
      "execution_count": null,
      "outputs": [
        {
          "output_type": "stream",
          "name": "stdout",
          "text": [
            "Grouped Operations Result:\n",
            "  Category  Value  Diff_From_Mean\n",
            "0        A     10           -10.0\n",
            "1        B     15            -5.0\n",
            "2        A     20             0.0\n",
            "3        B     25             5.0\n",
            "4        A     30            10.0\n"
          ]
        }
      ]
    },
    {
      "cell_type": "code",
      "source": [
        "# Create a DataFrame from a JSON string\n",
        "json_data = '[{\"Name\": \"Alice\", \"Age\": 25}, {\"Name\": \"Bob\", \"Age\": 30}]'\n",
        "df = pd.read_json(json_data)\n",
        "\n",
        "print(\"DataFrame from JSON Data:\")\n",
        "print(df)\n"
      ],
      "metadata": {
        "colab": {
          "base_uri": "https://localhost:8080/"
        },
        "id": "ZwQpyqUkwfkj",
        "outputId": "958fd58e-0d5c-4464-c0ab-a98489b17a1c"
      },
      "execution_count": null,
      "outputs": [
        {
          "output_type": "stream",
          "name": "stdout",
          "text": [
            "DataFrame from JSON Data:\n",
            "    Name  Age\n",
            "0  Alice   25\n",
            "1    Bob   30\n"
          ]
        }
      ]
    },
    {
      "cell_type": "code",
      "source": [
        "# Create a sample DataFrame\n",
        "data = {'Date': ['2023-01-01', '2023-01-02', '2023-01-01', '2023-01-03'],\n",
        "        'Category': ['A', 'B', 'A', 'C'],\n",
        "        'Value': [10, 15, 8, 20]}\n",
        "\n",
        "df = pd.DataFrame(data)\n",
        "\n",
        "# Create a pivot table to summarize data and calculate the sum\n",
        "pivot_table = pd.pivot_table(df, values='Value', index='Date', columns='Category', aggfunc='sum')\n",
        "\n",
        "print(\"Pivot Table Operations:\")\n",
        "print(pivot_table)\n"
      ],
      "metadata": {
        "colab": {
          "base_uri": "https://localhost:8080/"
        },
        "id": "pd03zjxbwnOe",
        "outputId": "efcc096c-8e79-4a5e-9f07-bc5cdcc33b41"
      },
      "execution_count": null,
      "outputs": [
        {
          "output_type": "stream",
          "name": "stdout",
          "text": [
            "Pivot Table Operations:\n",
            "Category       A     B     C\n",
            "Date                        \n",
            "2023-01-01  18.0   NaN   NaN\n",
            "2023-01-02   NaN  15.0   NaN\n",
            "2023-01-03   NaN   NaN  20.0\n"
          ]
        }
      ]
    },
    {
      "cell_type": "code",
      "source": [
        "# Create a DataFrame with datetime data\n",
        "data = {'Timestamp': ['2023-01-01 12:00:00', '2023-01-02 12:00:00'],\n",
        "        'Value': [10, 15]}\n",
        "\n",
        "df = pd.DataFrame(data)\n",
        "\n",
        "# Convert the 'Timestamp' column to datetime and set a time zone\n",
        "df['Timestamp'] = pd.to_datetime(df['Timestamp']).dt.tz_localize('UTC').dt.tz_convert('US/Eastern')\n",
        "\n",
        "print(\"DataFrame with Time Zones:\")\n",
        "print(df)\n"
      ],
      "metadata": {
        "colab": {
          "base_uri": "https://localhost:8080/"
        },
        "id": "bL8zgzU2wxSd",
        "outputId": "3ff6c07e-d37b-470a-f5b7-3abe4e7195ac"
      },
      "execution_count": null,
      "outputs": [
        {
          "output_type": "stream",
          "name": "stdout",
          "text": [
            "DataFrame with Time Zones:\n",
            "                  Timestamp  Value\n",
            "0 2023-01-01 07:00:00-05:00     10\n",
            "1 2023-01-02 07:00:00-05:00     15\n"
          ]
        }
      ]
    },
    {
      "cell_type": "code",
      "source": [
        "# Read data from an Excel file\n",
        "df = pd.read_excel('/content/mtcars.xlsx')\n",
        "\n",
        "# Display the DataFrame\n",
        "print(\"Data from Excel File:\")\n",
        "print(df)\n",
        "\n",
        "# Write data to an Excel file\n",
        "df.to_excel('output.xlsx', index=False)\n",
        "print(\"Data written to Excel File: output.xlsx\")\n"
      ],
      "metadata": {
        "colab": {
          "base_uri": "https://localhost:8080/"
        },
        "id": "vRFUuuLAw5f9",
        "outputId": "1f9d6e1f-1585-497a-a0c9-ab98c7148b89"
      },
      "execution_count": null,
      "outputs": [
        {
          "output_type": "stream",
          "name": "stdout",
          "text": [
            "Data from Excel File:\n",
            "                  model   mpg  cyl   disp   hp  drat     wt   qsec  vs  am  \\\n",
            "0             Mazda RX4  21.0    6  160.0  110  3.90  2.620  16.46   0   1   \n",
            "1         Mazda RX4 Wag  21.0    6  160.0  110  3.90  2.875  17.02   0   1   \n",
            "2            Datsun 710  22.8    4  108.0   93  3.85  2.320  18.61   1   1   \n",
            "3        Hornet 4 Drive  21.4    6  258.0  110  3.08  3.215  19.44   1   0   \n",
            "4     Hornet Sportabout  18.7    8  360.0  175  3.15  3.440  17.02   0   0   \n",
            "5               Valiant  18.1    6  225.0  105  2.76  3.460  20.22   1   0   \n",
            "6            Duster 360  14.3    8  360.0  245  3.21  3.570  15.84   0   0   \n",
            "7             Merc 240D  24.4    4  146.7   62  3.69  3.190  20.00   1   0   \n",
            "8              Merc 230  22.8    4  140.8   95  3.92  3.150  22.90   1   0   \n",
            "9              Merc 280  19.2    6  167.6  123  3.92  3.440  18.30   1   0   \n",
            "10            Merc 280C  17.8    6  167.6  123  3.92  3.440  18.90   1   0   \n",
            "11           Merc 450SE  16.4    8  275.8  180  3.07  4.070  17.40   0   0   \n",
            "12           Merc 450SL  17.3    8  275.8  180  3.07  3.730  17.60   0   0   \n",
            "13          Merc 450SLC  15.2    8  275.8  180  3.07  3.780  18.00   0   0   \n",
            "14   Cadillac Fleetwood  10.4    8  472.0  205  2.93  5.250  17.98   0   0   \n",
            "15  Lincoln Continental  10.4    8  460.0  215  3.00  5.424  17.82   0   0   \n",
            "16    Chrysler Imperial  14.7    8  440.0  230  3.23  5.345  17.42   0   0   \n",
            "17             Fiat 128  32.4    4   78.7   66  4.08  2.200  19.47   1   1   \n",
            "18          Honda Civic  30.4    4   75.7   52  4.93  1.615  18.52   1   1   \n",
            "19       Toyota Corolla  33.9    4   71.1   65  4.22  1.835  19.90   1   1   \n",
            "20        Toyota Corona  21.5    4  120.1   97  3.70  2.465  20.01   1   0   \n",
            "21     Dodge Challenger  15.5    8  318.0  150  2.76  3.520  16.87   0   0   \n",
            "22          AMC Javelin  15.2    8  304.0  150  3.15  3.435  17.30   0   0   \n",
            "23           Camaro Z28  13.3    8  350.0  245  3.73  3.840  15.41   0   0   \n",
            "24     Pontiac Firebird  19.2    8  400.0  175  3.08  3.845  17.05   0   0   \n",
            "25            Fiat X1-9  27.3    4   79.0   66  4.08  1.935  18.90   1   1   \n",
            "26        Porsche 914-2  26.0    4  120.3   91  4.43  2.140  16.70   0   1   \n",
            "27         Lotus Europa  30.4    4   95.1  113  3.77  1.513  16.90   1   1   \n",
            "28       Ford Pantera L  15.8    8  351.0  264  4.22  3.170  14.50   0   1   \n",
            "29         Ferrari Dino  19.7    6  145.0  175  3.62  2.770  15.50   0   1   \n",
            "30        Maserati Bora  15.0    8  301.0  335  3.54  3.570  14.60   0   1   \n",
            "31           Volvo 142E  21.4    4  121.0  109  4.11  2.780  18.60   1   1   \n",
            "\n",
            "    gear  carb  \n",
            "0      4     4  \n",
            "1      4     4  \n",
            "2      4     1  \n",
            "3      3     1  \n",
            "4      3     2  \n",
            "5      3     1  \n",
            "6      3     4  \n",
            "7      4     2  \n",
            "8      4     2  \n",
            "9      4     4  \n",
            "10     4     4  \n",
            "11     3     3  \n",
            "12     3     3  \n",
            "13     3     3  \n",
            "14     3     4  \n",
            "15     3     4  \n",
            "16     3     4  \n",
            "17     4     1  \n",
            "18     4     2  \n",
            "19     4     1  \n",
            "20     3     1  \n",
            "21     3     2  \n",
            "22     3     2  \n",
            "23     3     4  \n",
            "24     3     2  \n",
            "25     4     1  \n",
            "26     5     2  \n",
            "27     5     2  \n",
            "28     5     4  \n",
            "29     5     6  \n",
            "30     5     8  \n",
            "31     4     2  \n",
            "Data written to Excel File: output.xlsx\n"
          ]
        }
      ]
    },
    {
      "cell_type": "code",
      "source": [
        "import pandas as pd# Create a sample DataFrame\n",
        "data = {'Date': ['2023-01-01', '2023-01-02', '2023-01-01', '2023-01-03'],\n",
        "        'Category': ['A', 'B', 'A', 'C'],\n",
        "        'Value': [10, 15, 8, 20]}\n",
        "\n",
        "df = pd.DataFrame(data)\n",
        "# Convert the 'Timestamp' column to datetime and set a time zone\n",
        "df['Date'] = pd.to_datetime(df['Date'])\n",
        "\n",
        "print(\"DataFrame with Time Zones:\")\n",
        "print(df)\n"
      ],
      "metadata": {
        "colab": {
          "base_uri": "https://localhost:8080/"
        },
        "id": "oTK3elk3Jvid",
        "outputId": "0eb475fa-78ce-4eff-c2c6-42f93fc7a99b"
      },
      "execution_count": null,
      "outputs": [
        {
          "output_type": "stream",
          "name": "stdout",
          "text": [
            "DataFrame with Time Zones:\n",
            "        Date Category  Value\n",
            "0 2023-01-01        A     10\n",
            "1 2023-01-02        B     15\n",
            "2 2023-01-01        A      8\n",
            "3 2023-01-03        C     20\n"
          ]
        }
      ]
    },
    {
      "cell_type": "code",
      "source": [
        "from pandas.tseries.offsets import MonthEnd\n",
        "\n",
        "# Calculate the last day of each month\n",
        "df['Last_Day_of_Month'] = df['Date'] + MonthEnd()\n",
        "\n",
        "# Display the DataFrame with the last day of each month\n",
        "print(\"DataFrame with Last Day of Each Month:\")\n",
        "print(df)\n"
      ],
      "metadata": {
        "colab": {
          "base_uri": "https://localhost:8080/"
        },
        "id": "Jrv_vG4byrig",
        "outputId": "60371980-8fe8-4b3f-ed10-0fb2deae23b0"
      },
      "execution_count": null,
      "outputs": [
        {
          "output_type": "stream",
          "name": "stdout",
          "text": [
            "DataFrame with Last Day of Each Month:\n",
            "        Date Category  Value Last_Day_of_Month\n",
            "0 2023-01-01        A     10        2023-01-31\n",
            "1 2023-01-02        B     15        2023-01-31\n",
            "2 2023-01-01        A      8        2023-01-31\n",
            "3 2023-01-03        C     20        2023-01-31\n"
          ]
        }
      ]
    },
    {
      "cell_type": "code",
      "source": [
        "# Create a DataFrame with a MultiIndex\n",
        "arrays = [['A', 'A', 'B', 'B'], [1, 2, 1, 2]]\n",
        "index = pd.MultiIndex.from_arrays(arrays, names=('Letter', 'Number'))\n",
        "df = pd.DataFrame({'Value': [10, 20, 30, 40]}, index=index)\n",
        "\n",
        "# Display the DataFrame with MultiIndex\n",
        "print(\"DataFrame with MultiIndex:\")\n",
        "print(df)\n"
      ],
      "metadata": {
        "colab": {
          "base_uri": "https://localhost:8080/"
        },
        "id": "GBdAreSQzOWU",
        "outputId": "770f2cfc-271c-4833-f938-9912027b626d"
      },
      "execution_count": null,
      "outputs": [
        {
          "output_type": "stream",
          "name": "stdout",
          "text": [
            "DataFrame with MultiIndex:\n",
            "               Value\n",
            "Letter Number       \n",
            "A      1          10\n",
            "       2          20\n",
            "B      1          30\n",
            "       2          40\n"
          ]
        }
      ]
    },
    {
      "cell_type": "code",
      "source": [
        "# Create a custom aggregation function\n",
        "def custom_agg(x):\n",
        "    return x.max() - x.min()\n",
        "\n",
        "# Create a cross-tabulation with custom aggregation\n",
        "cross_tab = pd.crosstab(df['Gender'], df['Preference'], values=df['Value'], aggfunc=custom_agg)\n",
        "\n",
        "# Display the cross-tabulation\n",
        "print(\"Cross-Tabulation with Custom Aggregation:\")\n",
        "print(cross_tab)\n"
      ],
      "metadata": {
        "colab": {
          "base_uri": "https://localhost:8080/",
          "height": 511
        },
        "id": "XRW0M89XK4_s",
        "outputId": "768dcb5b-7834-42f6-baac-5b45c262d23c"
      },
      "execution_count": null,
      "outputs": [
        {
          "output_type": "error",
          "ename": "KeyError",
          "evalue": "ignored",
          "traceback": [
            "\u001b[0;31m---------------------------------------------------------------------------\u001b[0m",
            "\u001b[0;31mKeyError\u001b[0m                                  Traceback (most recent call last)",
            "\u001b[0;32m/usr/local/lib/python3.10/dist-packages/pandas/core/indexes/base.py\u001b[0m in \u001b[0;36mget_loc\u001b[0;34m(self, key, method, tolerance)\u001b[0m\n\u001b[1;32m   3801\u001b[0m             \u001b[0;32mtry\u001b[0m\u001b[0;34m:\u001b[0m\u001b[0;34m\u001b[0m\u001b[0;34m\u001b[0m\u001b[0m\n\u001b[0;32m-> 3802\u001b[0;31m                 \u001b[0;32mreturn\u001b[0m \u001b[0mself\u001b[0m\u001b[0;34m.\u001b[0m\u001b[0m_engine\u001b[0m\u001b[0;34m.\u001b[0m\u001b[0mget_loc\u001b[0m\u001b[0;34m(\u001b[0m\u001b[0mcasted_key\u001b[0m\u001b[0;34m)\u001b[0m\u001b[0;34m\u001b[0m\u001b[0;34m\u001b[0m\u001b[0m\n\u001b[0m\u001b[1;32m   3803\u001b[0m             \u001b[0;32mexcept\u001b[0m \u001b[0mKeyError\u001b[0m \u001b[0;32mas\u001b[0m \u001b[0merr\u001b[0m\u001b[0;34m:\u001b[0m\u001b[0;34m\u001b[0m\u001b[0;34m\u001b[0m\u001b[0m\n",
            "\u001b[0;32m/usr/local/lib/python3.10/dist-packages/pandas/_libs/index.pyx\u001b[0m in \u001b[0;36mpandas._libs.index.IndexEngine.get_loc\u001b[0;34m()\u001b[0m\n",
            "\u001b[0;32m/usr/local/lib/python3.10/dist-packages/pandas/_libs/index.pyx\u001b[0m in \u001b[0;36mpandas._libs.index.IndexEngine.get_loc\u001b[0;34m()\u001b[0m\n",
            "\u001b[0;32mpandas/_libs/hashtable_class_helper.pxi\u001b[0m in \u001b[0;36mpandas._libs.hashtable.PyObjectHashTable.get_item\u001b[0;34m()\u001b[0m\n",
            "\u001b[0;32mpandas/_libs/hashtable_class_helper.pxi\u001b[0m in \u001b[0;36mpandas._libs.hashtable.PyObjectHashTable.get_item\u001b[0;34m()\u001b[0m\n",
            "\u001b[0;31mKeyError\u001b[0m: 'Gender'",
            "\nThe above exception was the direct cause of the following exception:\n",
            "\u001b[0;31mKeyError\u001b[0m                                  Traceback (most recent call last)",
            "\u001b[0;32m<ipython-input-15-5130edcfec85>\u001b[0m in \u001b[0;36m<cell line: 6>\u001b[0;34m()\u001b[0m\n\u001b[1;32m      4\u001b[0m \u001b[0;34m\u001b[0m\u001b[0m\n\u001b[1;32m      5\u001b[0m \u001b[0;31m# Create a cross-tabulation with custom aggregation\u001b[0m\u001b[0;34m\u001b[0m\u001b[0;34m\u001b[0m\u001b[0m\n\u001b[0;32m----> 6\u001b[0;31m \u001b[0mcross_tab\u001b[0m \u001b[0;34m=\u001b[0m \u001b[0mpd\u001b[0m\u001b[0;34m.\u001b[0m\u001b[0mcrosstab\u001b[0m\u001b[0;34m(\u001b[0m\u001b[0mdf\u001b[0m\u001b[0;34m[\u001b[0m\u001b[0;34m'Gender'\u001b[0m\u001b[0;34m]\u001b[0m\u001b[0;34m,\u001b[0m \u001b[0mdf\u001b[0m\u001b[0;34m[\u001b[0m\u001b[0;34m'Preference'\u001b[0m\u001b[0;34m]\u001b[0m\u001b[0;34m,\u001b[0m \u001b[0mvalues\u001b[0m\u001b[0;34m=\u001b[0m\u001b[0mdf\u001b[0m\u001b[0;34m[\u001b[0m\u001b[0;34m'Value'\u001b[0m\u001b[0;34m]\u001b[0m\u001b[0;34m,\u001b[0m \u001b[0maggfunc\u001b[0m\u001b[0;34m=\u001b[0m\u001b[0mcustom_agg\u001b[0m\u001b[0;34m)\u001b[0m\u001b[0;34m\u001b[0m\u001b[0;34m\u001b[0m\u001b[0m\n\u001b[0m\u001b[1;32m      7\u001b[0m \u001b[0;34m\u001b[0m\u001b[0m\n\u001b[1;32m      8\u001b[0m \u001b[0;31m# Display the cross-tabulation\u001b[0m\u001b[0;34m\u001b[0m\u001b[0;34m\u001b[0m\u001b[0m\n",
            "\u001b[0;32m/usr/local/lib/python3.10/dist-packages/pandas/core/frame.py\u001b[0m in \u001b[0;36m__getitem__\u001b[0;34m(self, key)\u001b[0m\n\u001b[1;32m   3805\u001b[0m             \u001b[0;32mif\u001b[0m \u001b[0mself\u001b[0m\u001b[0;34m.\u001b[0m\u001b[0mcolumns\u001b[0m\u001b[0;34m.\u001b[0m\u001b[0mnlevels\u001b[0m \u001b[0;34m>\u001b[0m \u001b[0;36m1\u001b[0m\u001b[0;34m:\u001b[0m\u001b[0;34m\u001b[0m\u001b[0;34m\u001b[0m\u001b[0m\n\u001b[1;32m   3806\u001b[0m                 \u001b[0;32mreturn\u001b[0m \u001b[0mself\u001b[0m\u001b[0;34m.\u001b[0m\u001b[0m_getitem_multilevel\u001b[0m\u001b[0;34m(\u001b[0m\u001b[0mkey\u001b[0m\u001b[0;34m)\u001b[0m\u001b[0;34m\u001b[0m\u001b[0;34m\u001b[0m\u001b[0m\n\u001b[0;32m-> 3807\u001b[0;31m             \u001b[0mindexer\u001b[0m \u001b[0;34m=\u001b[0m \u001b[0mself\u001b[0m\u001b[0;34m.\u001b[0m\u001b[0mcolumns\u001b[0m\u001b[0;34m.\u001b[0m\u001b[0mget_loc\u001b[0m\u001b[0;34m(\u001b[0m\u001b[0mkey\u001b[0m\u001b[0;34m)\u001b[0m\u001b[0;34m\u001b[0m\u001b[0;34m\u001b[0m\u001b[0m\n\u001b[0m\u001b[1;32m   3808\u001b[0m             \u001b[0;32mif\u001b[0m \u001b[0mis_integer\u001b[0m\u001b[0;34m(\u001b[0m\u001b[0mindexer\u001b[0m\u001b[0;34m)\u001b[0m\u001b[0;34m:\u001b[0m\u001b[0;34m\u001b[0m\u001b[0;34m\u001b[0m\u001b[0m\n\u001b[1;32m   3809\u001b[0m                 \u001b[0mindexer\u001b[0m \u001b[0;34m=\u001b[0m \u001b[0;34m[\u001b[0m\u001b[0mindexer\u001b[0m\u001b[0;34m]\u001b[0m\u001b[0;34m\u001b[0m\u001b[0;34m\u001b[0m\u001b[0m\n",
            "\u001b[0;32m/usr/local/lib/python3.10/dist-packages/pandas/core/indexes/base.py\u001b[0m in \u001b[0;36mget_loc\u001b[0;34m(self, key, method, tolerance)\u001b[0m\n\u001b[1;32m   3802\u001b[0m                 \u001b[0;32mreturn\u001b[0m \u001b[0mself\u001b[0m\u001b[0;34m.\u001b[0m\u001b[0m_engine\u001b[0m\u001b[0;34m.\u001b[0m\u001b[0mget_loc\u001b[0m\u001b[0;34m(\u001b[0m\u001b[0mcasted_key\u001b[0m\u001b[0;34m)\u001b[0m\u001b[0;34m\u001b[0m\u001b[0;34m\u001b[0m\u001b[0m\n\u001b[1;32m   3803\u001b[0m             \u001b[0;32mexcept\u001b[0m \u001b[0mKeyError\u001b[0m \u001b[0;32mas\u001b[0m \u001b[0merr\u001b[0m\u001b[0;34m:\u001b[0m\u001b[0;34m\u001b[0m\u001b[0;34m\u001b[0m\u001b[0m\n\u001b[0;32m-> 3804\u001b[0;31m                 \u001b[0;32mraise\u001b[0m \u001b[0mKeyError\u001b[0m\u001b[0;34m(\u001b[0m\u001b[0mkey\u001b[0m\u001b[0;34m)\u001b[0m \u001b[0;32mfrom\u001b[0m \u001b[0merr\u001b[0m\u001b[0;34m\u001b[0m\u001b[0;34m\u001b[0m\u001b[0m\n\u001b[0m\u001b[1;32m   3805\u001b[0m             \u001b[0;32mexcept\u001b[0m \u001b[0mTypeError\u001b[0m\u001b[0;34m:\u001b[0m\u001b[0;34m\u001b[0m\u001b[0;34m\u001b[0m\u001b[0m\n\u001b[1;32m   3806\u001b[0m                 \u001b[0;31m# If we have a listlike key, _check_indexing_error will raise\u001b[0m\u001b[0;34m\u001b[0m\u001b[0;34m\u001b[0m\u001b[0m\n",
            "\u001b[0;31mKeyError\u001b[0m: 'Gender'"
          ]
        }
      ]
    },
    {
      "cell_type": "code",
      "source": [
        "# Calculate a 3-day rolling mean\n",
        "df['3-Day_Rolling_Mean'] = df['Value'].rolling(window=3).mean()\n",
        "\n",
        "# Display the DataFrame with rolling statistics\n",
        "print(\"DataFrame with 3-Day Rolling Mean:\")\n",
        "print(df)\n"
      ],
      "metadata": {
        "id": "pu0V2kWILWCx",
        "colab": {
          "base_uri": "https://localhost:8080/"
        },
        "outputId": "a54aebfc-94f9-4e22-d832-11a5927cebce"
      },
      "execution_count": null,
      "outputs": [
        {
          "output_type": "stream",
          "name": "stdout",
          "text": [
            "DataFrame with 3-Day Rolling Mean:\n",
            "               Value  3-Day_Rolling_Mean\n",
            "Letter Number                           \n",
            "A      1          10                 NaN\n",
            "       2          20                 NaN\n",
            "B      1          30                20.0\n",
            "       2          40                30.0\n"
          ]
        }
      ]
    },
    {
      "cell_type": "code",
      "source": [
        "# Melt the DataFrame from wide to long format\n",
        "melted = pd.melt(df, id_vars=['Date'], var_name='Variable', value_name='Value')\n",
        "\n",
        "# Display the melted DataFrame\n",
        "print(\"Melted DataFrame (Wide to Long Format):\")\n",
        "print(melted)\n"
      ],
      "metadata": {
        "colab": {
          "base_uri": "https://localhost:8080/",
          "height": 438
        },
        "id": "WyKUf5isL_5r",
        "outputId": "09d86c03-0de0-48b5-cd6c-265700553634"
      },
      "execution_count": null,
      "outputs": [
        {
          "output_type": "stream",
          "name": "stderr",
          "text": [
            "<ipython-input-8-63ef3fb70afa>:2: FutureWarning: This dataframe has a column name that matches the 'value_name' column name of the resulting Dataframe. In the future this will raise an error, please set the 'value_name' parameter of DataFrame.melt to a unique name.\n",
            "  melted = pd.melt(df, id_vars=['Date'], var_name='Variable', value_name='Value')\n"
          ]
        },
        {
          "output_type": "error",
          "ename": "KeyError",
          "evalue": "ignored",
          "traceback": [
            "\u001b[0;31m---------------------------------------------------------------------------\u001b[0m",
            "\u001b[0;31mKeyError\u001b[0m                                  Traceback (most recent call last)",
            "\u001b[0;32m<ipython-input-8-63ef3fb70afa>\u001b[0m in \u001b[0;36m<cell line: 2>\u001b[0;34m()\u001b[0m\n\u001b[1;32m      1\u001b[0m \u001b[0;31m# Melt the DataFrame from wide to long format\u001b[0m\u001b[0;34m\u001b[0m\u001b[0;34m\u001b[0m\u001b[0m\n\u001b[0;32m----> 2\u001b[0;31m \u001b[0mmelted\u001b[0m \u001b[0;34m=\u001b[0m \u001b[0mpd\u001b[0m\u001b[0;34m.\u001b[0m\u001b[0mmelt\u001b[0m\u001b[0;34m(\u001b[0m\u001b[0mdf\u001b[0m\u001b[0;34m,\u001b[0m \u001b[0mid_vars\u001b[0m\u001b[0;34m=\u001b[0m\u001b[0;34m[\u001b[0m\u001b[0;34m'Date'\u001b[0m\u001b[0;34m]\u001b[0m\u001b[0;34m,\u001b[0m \u001b[0mvar_name\u001b[0m\u001b[0;34m=\u001b[0m\u001b[0;34m'Variable'\u001b[0m\u001b[0;34m,\u001b[0m \u001b[0mvalue_name\u001b[0m\u001b[0;34m=\u001b[0m\u001b[0;34m'Value'\u001b[0m\u001b[0;34m)\u001b[0m\u001b[0;34m\u001b[0m\u001b[0;34m\u001b[0m\u001b[0m\n\u001b[0m\u001b[1;32m      3\u001b[0m \u001b[0;34m\u001b[0m\u001b[0m\n\u001b[1;32m      4\u001b[0m \u001b[0;31m# Display the melted DataFrame\u001b[0m\u001b[0;34m\u001b[0m\u001b[0;34m\u001b[0m\u001b[0m\n\u001b[1;32m      5\u001b[0m \u001b[0mprint\u001b[0m\u001b[0;34m(\u001b[0m\u001b[0;34m\"Melted DataFrame (Wide to Long Format):\"\u001b[0m\u001b[0;34m)\u001b[0m\u001b[0;34m\u001b[0m\u001b[0;34m\u001b[0m\u001b[0m\n",
            "\u001b[0;32m/usr/local/lib/python3.10/dist-packages/pandas/core/reshape/melt.py\u001b[0m in \u001b[0;36mmelt\u001b[0;34m(frame, id_vars, value_vars, var_name, value_name, col_level, ignore_index)\u001b[0m\n\u001b[1;32m     75\u001b[0m             \u001b[0mmissing\u001b[0m \u001b[0;34m=\u001b[0m \u001b[0mIndex\u001b[0m\u001b[0;34m(\u001b[0m\u001b[0mcom\u001b[0m\u001b[0;34m.\u001b[0m\u001b[0mflatten\u001b[0m\u001b[0;34m(\u001b[0m\u001b[0mid_vars\u001b[0m\u001b[0;34m)\u001b[0m\u001b[0;34m)\u001b[0m\u001b[0;34m.\u001b[0m\u001b[0mdifference\u001b[0m\u001b[0;34m(\u001b[0m\u001b[0mcols\u001b[0m\u001b[0;34m)\u001b[0m\u001b[0;34m\u001b[0m\u001b[0;34m\u001b[0m\u001b[0m\n\u001b[1;32m     76\u001b[0m             \u001b[0;32mif\u001b[0m \u001b[0;32mnot\u001b[0m \u001b[0mmissing\u001b[0m\u001b[0;34m.\u001b[0m\u001b[0mempty\u001b[0m\u001b[0;34m:\u001b[0m\u001b[0;34m\u001b[0m\u001b[0;34m\u001b[0m\u001b[0m\n\u001b[0;32m---> 77\u001b[0;31m                 raise KeyError(\n\u001b[0m\u001b[1;32m     78\u001b[0m                     \u001b[0;34m\"The following 'id_vars' are not present \"\u001b[0m\u001b[0;34m\u001b[0m\u001b[0;34m\u001b[0m\u001b[0m\n\u001b[1;32m     79\u001b[0m                     \u001b[0;34mf\"in the DataFrame: {list(missing)}\"\u001b[0m\u001b[0;34m\u001b[0m\u001b[0;34m\u001b[0m\u001b[0m\n",
            "\u001b[0;31mKeyError\u001b[0m: \"The following 'id_vars' are not present in the DataFrame: ['Date']\""
          ]
        }
      ]
    },
    {
      "cell_type": "code",
      "source": [
        "# Optimize memory usage for numerical columns\n",
        "df = df.astype({'Value': 'int32'})\n",
        "\n",
        "# Display the DataFrame with optimized memory usage\n",
        "print(\"DataFrame with Optimized Memory Usage:\")\n",
        "print(df)\n"
      ],
      "metadata": {
        "colab": {
          "base_uri": "https://localhost:8080/"
        },
        "id": "Ni9VktwUOYkG",
        "outputId": "61ab8eab-4051-4ba1-8edc-6e62efb302bc"
      },
      "execution_count": null,
      "outputs": [
        {
          "output_type": "stream",
          "name": "stdout",
          "text": [
            "DataFrame with Optimized Memory Usage:\n",
            "               Value  3-Day_Rolling_Mean\n",
            "Letter Number                           \n",
            "A      1          10                 NaN\n",
            "       2          20                 NaN\n",
            "B      1          30                20.0\n",
            "       2          40                30.0\n"
          ]
        }
      ]
    },
    {
      "cell_type": "code",
      "source": [
        "# Perform a merge with indicator\n",
        "merged = pd.merge(df1, df2, on='ID', how='outer', indicator=True)\n",
        "\n",
        "# Display the merged DataFrame and the merge indicator\n",
        "print(\"Merged DataFrame:\")\n",
        "print(merged)\n",
        "print(\"Merge Indicator:\")\n",
        "print(merged['_merge'])\n"
      ],
      "metadata": {
        "colab": {
          "base_uri": "https://localhost:8080/"
        },
        "id": "s8sWpuzGPAji",
        "outputId": "c6086c99-fb8b-4b31-ab4f-d996ab9cce25"
      },
      "execution_count": null,
      "outputs": [
        {
          "output_type": "stream",
          "name": "stdout",
          "text": [
            "Merged DataFrame:\n",
            "   ID     Name   Age Department      _merge\n",
            "0   1    Alice  25.0        NaN   left_only\n",
            "1   2      Bob  30.0         HR        both\n",
            "2   3  Charlie  35.0    Finance        both\n",
            "3   4    David  28.0        NaN   left_only\n",
            "4   5      NaN   NaN         IT  right_only\n",
            "5   6      NaN   NaN  Marketing  right_only\n",
            "Merge Indicator:\n",
            "0     left_only\n",
            "1          both\n",
            "2          both\n",
            "3     left_only\n",
            "4    right_only\n",
            "5    right_only\n",
            "Name: _merge, dtype: category\n",
            "Categories (3, object): ['left_only', 'right_only', 'both']\n"
          ]
        }
      ]
    },
    {
      "cell_type": "code",
      "source": [
        "# Count unique values in a DataFrame column\n",
        "value_counts = df['Category'].value_counts()\n",
        "\n",
        "# Display value counts\n",
        "print(\"Value Counts:\")\n",
        "print(value_counts)\n",
        "\n",
        "# Plot a bar chart\n",
        "value_counts.plot(kind='bar')\n",
        "plt.title(\"Value Counts Bar Plot\")\n",
        "plt.xlabel(\"Category\")\n",
        "plt.ylabel(\"Count\")\n",
        "plt.show()\n"
      ],
      "metadata": {
        "colab": {
          "base_uri": "https://localhost:8080/",
          "height": 554
        },
        "id": "GjlsURGaPGxK",
        "outputId": "236bf43e-a997-4b2e-bed1-15bf89e75ebf"
      },
      "execution_count": null,
      "outputs": [
        {
          "output_type": "stream",
          "name": "stdout",
          "text": [
            "Value Counts:\n",
            "A    2\n",
            "B    1\n",
            "C    1\n",
            "Name: Category, dtype: int64\n"
          ]
        },
        {
          "output_type": "display_data",
          "data": {
            "text/plain": [
              "<Figure size 640x480 with 1 Axes>"
            ],
            "image/png": "[encoded data removed]"
          },
          "metadata": {}
        }
      ]
    },
    {
      "cell_type": "code",
      "source": [
        "import seaborn as sns\n",
        "# Create a box plot of a numerical column\n",
        "plt.figure(figsize=(8, 6))\n",
        "sns.boxplot(x='Category', y='Value', data=df)\n",
        "plt.title(\"Box Plot of Values by Category\")\n",
        "plt.show()\n"
      ],
      "metadata": {
        "colab": {
          "base_uri": "https://localhost:8080/",
          "height": 564
        },
        "id": "E7CM_5BBP8CJ",
        "outputId": "b2ebb970-22a9-49b4-ac14-ae307b762035"
      },
      "execution_count": null,
      "outputs": [
        {
          "output_type": "display_data",
          "data": {
            "text/plain": [
              "<Figure size 800x600 with 1 Axes>"
            ],
            "image/png": "[encoded data removed]"
          },
          "metadata": {}
        }
      ]
    },
    {
      "cell_type": "code",
      "source": [
        "# Calculate the correlation matrix\n",
        "correlation_matrix = df.corr()\n",
        "\n",
        "# Display the correlation matrix\n",
        "print(\"Correlation Matrix:\")\n",
        "print(correlation_matrix)\n",
        "\n",
        "# Visualize the correlation matrix with a heatmap\n",
        "plt.figure(figsize=(8, 6))\n",
        "sns.heatmap(correlation_matrix, annot=True, cmap='coolwarm', linewidths=0.5)\n",
        "plt.title(\"Correlation Heatmap\")\n",
        "plt.show()\n"
      ],
      "metadata": {
        "colab": {
          "base_uri": "https://localhost:8080/",
          "height": 652
        },
        "id": "E5WVhrl5RAkl",
        "outputId": "79b4a6fe-f329-49eb-952c-a0a49edf8da3"
      },
      "execution_count": null,
      "outputs": [
        {
          "output_type": "stream",
          "name": "stderr",
          "text": [
            "<ipython-input-21-fc979fe51d81>:2: FutureWarning: The default value of numeric_only in DataFrame.corr is deprecated. In a future version, it will default to False. Select only valid columns or specify the value of numeric_only to silence this warning.\n",
            "  correlation_matrix = df.corr()\n"
          ]
        },
        {
          "output_type": "stream",
          "name": "stdout",
          "text": [
            "Correlation Matrix:\n",
            "       Value\n",
            "Value    1.0\n"
          ]
        },
        {
          "output_type": "display_data",
          "data": {
            "text/plain": [
              "<Figure size 800x600 with 2 Axes>"
            ],
            "image/png": "[encoded data removed]"
          },
          "metadata": {}
        }
      ]
    },
    {
      "cell_type": "code",
      "source": [
        "# Create a heatmap of missing data\n",
        "plt.figure(figsize=(8, 6))\n",
        "sns.heatmap(df.isnull(), cbar=False, cmap='viridis')\n",
        "plt.title(\"Missing Data Heatmap\")\n",
        "plt.show()\n"
      ],
      "metadata": {
        "colab": {
          "base_uri": "https://localhost:8080/",
          "height": 545
        },
        "id": "oUXlXFQERUFT",
        "outputId": "147a196a-51d8-42f6-bcf5-3f66270775e5"
      },
      "execution_count": null,
      "outputs": [
        {
          "output_type": "display_data",
          "data": {
            "text/plain": [
              "<Figure size 800x600 with 1 Axes>"
            ],
            "image/png": "[encoded data removed]"
          },
          "metadata": {}
        }
      ]
    },
    {
      "cell_type": "code",
      "source": [
        "# Create a pair plot of numerical variables\n",
        "sns.pairplot(df, hue='Category', palette='Set1')\n",
        "plt.title(\"Pair Plot of Numerical Variables\")\n",
        "plt.show()\n"
      ],
      "metadata": {
        "colab": {
          "base_uri": "https://localhost:8080/",
          "height": 284
        },
        "id": "SYjwl2JxScBx",
        "outputId": "553780ad-c705-4d87-86ce-cd0dbb0411f7"
      },
      "execution_count": null,
      "outputs": [
        {
          "output_type": "display_data",
          "data": {
            "text/plain": [
              "<Figure size 324.861x250 with 2 Axes>"
            ],
            "image/png": "[encoded data removed]"
          },
          "metadata": {}
        }
      ]
    },
    {
      "cell_type": "code",
      "source": [
        "# Filter data based on multiple conditions\n",
        "filtered_data = df[(df['Category'] == 'A') & (df['Value'] > 15)]\n",
        "\n",
        "# Display the filtered data\n",
        "print(\"Filtered Data:\")\n",
        "print(filtered_data)\n"
      ],
      "metadata": {
        "colab": {
          "base_uri": "https://localhost:8080/"
        },
        "id": "efAQZ-4TSiXp",
        "outputId": "aabcc2d8-6f71-4adc-af23-6e6948b284ee"
      },
      "execution_count": null,
      "outputs": [
        {
          "output_type": "stream",
          "name": "stdout",
          "text": [
            "Filtered Data:\n",
            "Empty DataFrame\n",
            "Columns: [Date, Category, Value]\n",
            "Index: []\n"
          ]
        }
      ]
    },
    {
      "cell_type": "code",
      "source": [
        "# Create a pivot table with multiple aggregations\n",
        "pivot_table = df.pivot_table(index='Category', values='Value', aggfunc=['mean', 'sum', 'std'])\n",
        "\n",
        "# Display the pivot table\n",
        "print(\"Pivot Table with Multiple Aggregations:\")\n",
        "print(pivot_table)\n"
      ],
      "metadata": {
        "colab": {
          "base_uri": "https://localhost:8080/"
        },
        "id": "Pq2qXWzfSs_L",
        "outputId": "1c1252eb-2f32-4b5b-adf7-b25b95eb1fc8"
      },
      "execution_count": null,
      "outputs": [
        {
          "output_type": "stream",
          "name": "stdout",
          "text": [
            "Pivot Table with Multiple Aggregations:\n",
            "          mean   sum       std\n",
            "         Value Value     Value\n",
            "Category                      \n",
            "A            9    18  1.414214\n",
            "B           15    15       NaN\n",
            "C           20    20       NaN\n"
          ]
        }
      ]
    },
    {
      "cell_type": "code",
      "source": [
        "from pandas_profiling import ProfileReport\n",
        "\n",
        "# Generate a data report with custom settings\n",
        "profile = ProfileReport(df, title=\"Custom Data Report\", explorative=True)\n",
        "profile.to_file(\"custom_data_report.html\")\n"
      ],
      "metadata": {
        "colab": {
          "base_uri": "https://localhost:8080/",
          "height": 383
        },
        "id": "UjLtvcExS6x-",
        "outputId": "742f8cbc-72a1-4ea2-f51a-da9ed8499b75"
      },
      "execution_count": null,
      "outputs": [
        {
          "output_type": "error",
          "ename": "ModuleNotFoundError",
          "evalue": "ignored",
          "traceback": [
            "\u001b[0;31m---------------------------------------------------------------------------\u001b[0m",
            "\u001b[0;31mModuleNotFoundError\u001b[0m                       Traceback (most recent call last)",
            "\u001b[0;32m<ipython-input-27-d6a05bd6eb12>\u001b[0m in \u001b[0;36m<cell line: 1>\u001b[0;34m()\u001b[0m\n\u001b[0;32m----> 1\u001b[0;31m \u001b[0;32mfrom\u001b[0m \u001b[0mpandas_profiling\u001b[0m \u001b[0;32mimport\u001b[0m \u001b[0mProfileReport\u001b[0m\u001b[0;34m\u001b[0m\u001b[0;34m\u001b[0m\u001b[0m\n\u001b[0m\u001b[1;32m      2\u001b[0m \u001b[0;34m\u001b[0m\u001b[0m\n\u001b[1;32m      3\u001b[0m \u001b[0;31m# Generate a data report with custom settings\u001b[0m\u001b[0;34m\u001b[0m\u001b[0;34m\u001b[0m\u001b[0m\n\u001b[1;32m      4\u001b[0m \u001b[0mprofile\u001b[0m \u001b[0;34m=\u001b[0m \u001b[0mProfileReport\u001b[0m\u001b[0;34m(\u001b[0m\u001b[0mdf\u001b[0m\u001b[0;34m,\u001b[0m \u001b[0mtitle\u001b[0m\u001b[0;34m=\u001b[0m\u001b[0;34m\"Custom Data Report\"\u001b[0m\u001b[0;34m,\u001b[0m \u001b[0mexplorative\u001b[0m\u001b[0;34m=\u001b[0m\u001b[0;32mTrue\u001b[0m\u001b[0;34m)\u001b[0m\u001b[0;34m\u001b[0m\u001b[0;34m\u001b[0m\u001b[0m\n\u001b[1;32m      5\u001b[0m \u001b[0mprofile\u001b[0m\u001b[0;34m.\u001b[0m\u001b[0mto_file\u001b[0m\u001b[0;34m(\u001b[0m\u001b[0;34m\"custom_data_report.html\"\u001b[0m\u001b[0;34m)\u001b[0m\u001b[0;34m\u001b[0m\u001b[0;34m\u001b[0m\u001b[0m\n",
            "\u001b[0;31mModuleNotFoundError\u001b[0m: No module named 'pandas_profiling'",
            "",
            "\u001b[0;31m---------------------------------------------------------------------------\u001b[0;32m\nNOTE: If your import is failing due to a missing package, you can\nmanually install dependencies using either !pip or !apt.\n\nTo view examples of installing some common dependencies, click the\n\"Open Examples\" button below.\n\u001b[0;31m---------------------------------------------------------------------------\u001b[0m\n"
          ],
          "errorDetails": {
            "actions": [
              {
                "action": "open_url",
                "actionText": "Open Examples",
                "url": "/notebooks/snippets/importing_libraries.ipynb"
              }
            ]
          }
        }
      ]
    },
    {
      "cell_type": "code",
      "source": [
        "# Read and process a large CSV file in chunks\n",
        "chunk_size = 10000\n",
        "for chunk in pd.read_csv('/content/iris.csv', chunksize=chunk_size):\n",
        "    # Process each chunk of data\n",
        "    pass\n"
      ],
      "metadata": {
        "id": "urQJtKnxTC7U"
      },
      "execution_count": null,
      "outputs": []
    },
    {
      "cell_type": "code",
      "source": [],
      "metadata": {
        "id": "WvOx32wiTN0K"
      },
      "execution_count": null,
      "outputs": []
    }
  ]
}